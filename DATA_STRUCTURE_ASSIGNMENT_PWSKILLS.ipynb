{
  "nbformat": 4,
  "nbformat_minor": 0,
  "metadata": {
    "colab": {
      "provenance": [],
      "include_colab_link": true
    },
    "kernelspec": {
      "name": "python3",
      "display_name": "Python 3"
    },
    "language_info": {
      "name": "python"
    }
  },
  "cells": [
    {
      "cell_type": "markdown",
      "metadata": {
        "id": "view-in-github",
        "colab_type": "text"
      },
      "source": [
        "<a href=\"https://colab.research.google.com/github/Shrikey15/Python_Basic_Assignment_01_PWskills/blob/main/DATA_STRUCTURE_ASSIGNMENT_PWSKILLS.ipynb\" target=\"_parent\"><img src=\"https://colab.research.google.com/assets/colab-badge.svg\" alt=\"Open In Colab\"/></a>"
      ]
    },
    {
      "cell_type": "markdown",
      "source": [
        "# **Assignment of Data Structure**"
      ],
      "metadata": {
        "id": "ZoBWEQjfyTcg"
      }
    },
    {
      "cell_type": "markdown",
      "source": [
        "# 1. Discuss string slicing and provide examples.\n",
        "\n",
        "**Answer:** String slicing is a fundamental operation in Python that allows you to extract a portion of a string, It allows you to specify a range of indices to obtain a substring from a given string.\n",
        "\n"
      ],
      "metadata": {
        "id": "snypMo1LycrW"
      }
    },
    {
      "cell_type": "code",
      "source": [
        "#example 1 (positive slicing)\n",
        "name = \"My name is Parmeet.\"\n",
        "out_1 = name[0:7]  #Extracts from index 0 to 6(exclusive of index 7).\n",
        "print(out_1)"
      ],
      "metadata": {
        "colab": {
          "base_uri": "https://localhost:8080/"
        },
        "id": "09DO4vGny3r_",
        "outputId": "aed5a163-537a-4d41-9aa1-49ab4bcd5633"
      },
      "execution_count": null,
      "outputs": [
        {
          "output_type": "stream",
          "name": "stdout",
          "text": [
            "My name\n"
          ]
        }
      ]
    },
    {
      "cell_type": "code",
      "source": [
        "#Example 2(negative slicing)\n",
        "name = \"My name is Parmeet.\"\n",
        "out_1 = name[-8:-1] #Extracts from index -1 to -7(exclusive of index -1).\n",
        "print(out_1)"
      ],
      "metadata": {
        "colab": {
          "base_uri": "https://localhost:8080/"
        },
        "id": "0fBvj9WLy7VK",
        "outputId": "12d28a6b-1896-4420-be6c-47cfb1940832"
      },
      "execution_count": null,
      "outputs": [
        {
          "output_type": "stream",
          "name": "stdout",
          "text": [
            "Parmeet\n"
          ]
        }
      ]
    },
    {
      "cell_type": "code",
      "source": [
        "#Example 3(slicing using steps)\n",
        "name = \"My name is Parmeet.\"\n",
        "out_1 = name[::2]  #Extracts every second character from start to end.\n",
        "print(out_1)"
      ],
      "metadata": {
        "colab": {
          "base_uri": "https://localhost:8080/"
        },
        "id": "s64dRp5qzIKW",
        "outputId": "e3658ff8-2a55-4b43-a8c2-c0a0bd626186"
      },
      "execution_count": null,
      "outputs": [
        {
          "output_type": "stream",
          "name": "stdout",
          "text": [
            "M aei ame.\n"
          ]
        }
      ]
    },
    {
      "cell_type": "code",
      "source": [
        "#Example 4 (reversing a string)\n",
        "name = \"My name is Parmeet.\"\n",
        "out_1 = name[::-1]  #Start from the end and will go backward.\n",
        "print(out_1)"
      ],
      "metadata": {
        "colab": {
          "base_uri": "https://localhost:8080/"
        },
        "id": "w2jCAEghzXCw",
        "outputId": "d92c3787-1dc0-40dc-e8b0-fe8afda65006"
      },
      "execution_count": null,
      "outputs": [
        {
          "output_type": "stream",
          "name": "stdout",
          "text": [
            ".teemraP si eman yM\n"
          ]
        }
      ]
    },
    {
      "cell_type": "markdown",
      "source": [
        "# 2. Explain the key features of lists in Python.\n",
        "\n",
        "**Answer:** list is a built-in data structure that is used to store an ordered collection of items that can be of any data type. List is heterogeneous in nature, versatile and is commonly used in Python programs.\n",
        "\n",
        "**Some key features of lists are as follows:**\n",
        "\n",
        "**Ordered collection:** Lists preserve the order of elements, which means that the order in which elements are added is preserved.\n"
      ],
      "metadata": {
        "id": "EpQjK7SGyzu2"
      }
    },
    {
      "cell_type": "code",
      "source": [
        "#example:\n",
        "number = [10, 17, 24, 9, 74, 104]\n",
        "print(number[0])\n",
        "print(number[3])\n",
        "print(number[-1])"
      ],
      "metadata": {
        "colab": {
          "base_uri": "https://localhost:8080/"
        },
        "id": "QVOcmSL-0H2T",
        "outputId": "cbb2ef81-8f0a-47bc-f205-1eb0b1b18944"
      },
      "execution_count": null,
      "outputs": [
        {
          "output_type": "stream",
          "name": "stdout",
          "text": [
            "10\n",
            "9\n",
            "104\n"
          ]
        }
      ]
    },
    {
      "cell_type": "markdown",
      "source": [
        "**Mutable:** You can modify the list after it is created, which means you can modify a list after it is created. You can add, remove, or change elements in a list."
      ],
      "metadata": {
        "id": "EThUDxTk0QoV"
      }
    },
    {
      "cell_type": "code",
      "source": [
        "#example:\n",
        "number = [10, 17, 24, 9, 74, 104]\n",
        "number[2] = 37  #changing the value of the 3rd element.\n",
        "print(number)\n",
        "\n",
        "number.remove(9)  #removing an element from the list.\n",
        "print(number)\n",
        "\n",
        "number.append(66)  #adding an element to the end of the list.\n",
        "print(number)"
      ],
      "metadata": {
        "colab": {
          "base_uri": "https://localhost:8080/"
        },
        "id": "hOjCzDrq0Woi",
        "outputId": "efea8b68-28fa-45e7-c1e1-c10bde0859d5"
      },
      "execution_count": null,
      "outputs": [
        {
          "output_type": "stream",
          "name": "stdout",
          "text": [
            "[10, 17, 37, 9, 74, 104]\n",
            "[10, 17, 37, 74, 104]\n",
            "[10, 17, 37, 74, 104, 66]\n"
          ]
        }
      ]
    },
    {
      "cell_type": "markdown",
      "source": [
        "**Mixed data types:** Lists can store different data types which means lists can contain elements of different data types, such as integers, strings, floats, and even other lists"
      ],
      "metadata": {
        "id": "u8mDONqx0cyZ"
      }
    },
    {
      "cell_type": "code",
      "source": [
        "#example:\n",
        "xyz = [20, 75, 2.5, \"Parmeet\", False, 3+2j, [3,14,7]]\n",
        "print(xyz[2])\n",
        "print(xyz[3])\n",
        "print(xyz[6])"
      ],
      "metadata": {
        "colab": {
          "base_uri": "https://localhost:8080/"
        },
        "id": "p3cPRwkd0lKF",
        "outputId": "98bb5fa4-55a8-4ff4-c8a0-c87beccd50ce"
      },
      "execution_count": null,
      "outputs": [
        {
          "output_type": "stream",
          "name": "stdout",
          "text": [
            "2.5\n",
            "Parmeet\n",
            "[3, 14, 7]\n"
          ]
        }
      ]
    },
    {
      "cell_type": "markdown",
      "source": [
        "**Indexing & slicing:** Access and modify list elements via indices and slicing which means Lists support indexing to access individual elements, and slicing to access a portion of the list."
      ],
      "metadata": {
        "id": "SDJLiN1W03rB"
      }
    },
    {
      "cell_type": "code",
      "source": [
        "#example of indexing\n",
        "list_1 = [20, 75, 2.5, \"Parmeet\", False, 3+2j, [3,14,7]]\n",
        "print(list_1[2])\n",
        "print(list_1[-2])"
      ],
      "metadata": {
        "colab": {
          "base_uri": "https://localhost:8080/"
        },
        "id": "e9INqNM_1BR3",
        "outputId": "65de46e2-edfd-4637-c105-56eddd3b511e"
      },
      "execution_count": null,
      "outputs": [
        {
          "output_type": "stream",
          "name": "stdout",
          "text": [
            "2.5\n",
            "(3+2j)\n"
          ]
        }
      ]
    },
    {
      "cell_type": "code",
      "source": [
        "#example of slicing\n",
        "list_1 = [20, 75, 2.5, \"Parmeet\", False, 3+2j, [3,14,7]]\n",
        "print(list_1[0:4]) #slicing from zero to 3rd index"
      ],
      "metadata": {
        "colab": {
          "base_uri": "https://localhost:8080/"
        },
        "id": "CQZwGmM41J-V",
        "outputId": "4804599f-583b-43e1-bcfe-c70afc4ce2cb"
      },
      "execution_count": null,
      "outputs": [
        {
          "output_type": "stream",
          "name": "stdout",
          "text": [
            "[20, 75, 2.5, 'Parmeet']\n"
          ]
        }
      ]
    },
    {
      "cell_type": "markdown",
      "source": [
        "**Support for nested lists:** Lists can contain other lists as elements, which allows us to create multi-dimensional structures."
      ],
      "metadata": {
        "id": "Pr9SwOYF1VE9"
      }
    },
    {
      "cell_type": "code",
      "source": [
        "#example\n",
        "time_duration = [[9, 10, 11], [12, 13, 14], [15, 16, 17], [18, 19, 20]]\n",
        "print(time_duration[2][1]) #extracting the 2nd element of the 3rd sub list."
      ],
      "metadata": {
        "colab": {
          "base_uri": "https://localhost:8080/"
        },
        "id": "mNwv7nrP1iu_",
        "outputId": "b56c3d95-20cb-478c-ad7d-5a0bff9c311b"
      },
      "execution_count": null,
      "outputs": [
        {
          "output_type": "stream",
          "name": "stdout",
          "text": [
            "16\n"
          ]
        }
      ]
    },
    {
      "cell_type": "markdown",
      "source": [
        "**Built-in methods:** Python provides many methods for managing lists like built-in methods that allow us to perform various operations, such as adding, removing, and modifying elements.\n",
        "\n",
        "1. append(): Adds an item to the end of the list.\n",
        "2. insert(): Inserts an item at a specific index.\n",
        "3. remove(): Removes the first occurrence of a specified item.\n",
        "4. pop(): Removes and returns an element at a specified index.\n",
        "5. extend(): Adds all elements from another iterable to the list.\n",
        "6. sort(): Sorts the list in place.\n",
        "7. reverse(): Reverses the list in place.\n",
        "\n",
        "\n",
        "**Iterable:** Lists are iterable which means we can loop through a list using iteration techniques.\n"
      ],
      "metadata": {
        "id": "ZsENI1Xy1ovz"
      }
    },
    {
      "cell_type": "code",
      "source": [
        "#example:\n",
        "list_1 = [20, 75, 2.5, \"azlan\", False, 3+2j, [3,14,7]]\n",
        "for item in list_1:\n",
        "    print(item)"
      ],
      "metadata": {
        "colab": {
          "base_uri": "https://localhost:8080/"
        },
        "id": "Xc3pre1a2AGl",
        "outputId": "eefe907d-7b2f-40cf-df3a-e6f7c506db03"
      },
      "execution_count": null,
      "outputs": [
        {
          "output_type": "stream",
          "name": "stdout",
          "text": [
            "20\n",
            "75\n",
            "2.5\n",
            "azlan\n",
            "False\n",
            "(3+2j)\n",
            "[3, 14, 7]\n"
          ]
        }
      ]
    },
    {
      "cell_type": "markdown",
      "source": [
        "# 3. Describe how to access, modify, and delete elements in a list with examples.\n",
        "\n",
        "**Answer:**\n",
        "\n",
        "Accessing elements in a list using Indexing: Python list elements are ordered by index, a number referring to their placement in the list. List indices start at 0 and increment by one. we can also use negative indexing to access elements from the end of the list, where -1 refers to the last element. To access a list element by index, using square brackets [index].\n"
      ],
      "metadata": {
        "id": "6FTQBPu_2GWI"
      }
    },
    {
      "cell_type": "code",
      "source": [
        "#example:\n",
        "list_1 = [20, 75, 2.5, \"Parmeet\", False, 3+2j, [3,14,7]]\n",
        "print(list_1[0])\n",
        "print(list_1[3])\n",
        "print(list_1[-1])"
      ],
      "metadata": {
        "colab": {
          "base_uri": "https://localhost:8080/"
        },
        "id": "S5hMAFfR2eRo",
        "outputId": "f906100e-f900-41ae-b53a-2cad4914aa95"
      },
      "execution_count": null,
      "outputs": [
        {
          "output_type": "stream",
          "name": "stdout",
          "text": [
            "20\n",
            "Parmeet\n",
            "[3, 14, 7]\n"
          ]
        }
      ]
    },
    {
      "cell_type": "markdown",
      "source": [
        "**Accessing elements in a list using slicing:** we can extract a sublist by using the slicing operator that is colon(:). With this operator, we can define where to begin slicing, and where to terminate slicing, and also the step."
      ],
      "metadata": {
        "id": "A5X9tF0J2l6L"
      }
    },
    {
      "cell_type": "code",
      "source": [
        "#example\n",
        "list_1 = [20, 75, 2.5, \"Parmeet\", False, 3+2j, [3,14,7]]\n",
        "print(list_1[0:5]) #slicing from zero to 4rd index\n",
        "\n",
        "print(list_1[1:4]) #slicing from 1st to 3rd index\n",
        "\n",
        "print(list_1[4:]) #slicing from 4nd index to last index"
      ],
      "metadata": {
        "colab": {
          "base_uri": "https://localhost:8080/"
        },
        "id": "5I1_rJZb2zOJ",
        "outputId": "c6162d58-2f20-4d74-8a0c-3b384e50fe65"
      },
      "execution_count": null,
      "outputs": [
        {
          "output_type": "stream",
          "name": "stdout",
          "text": [
            "[20, 75, 2.5, 'Parmeet', False]\n",
            "[75, 2.5, 'Parmeet']\n",
            "[False, (3+2j), [3, 14, 7]]\n"
          ]
        }
      ]
    },
    {
      "cell_type": "markdown",
      "source": [
        "**Modifying lists:** Since lists are mutable, we can change elements in a list by assigning a new value to a specific index. Here are a few common ways to modify lists:"
      ],
      "metadata": {
        "id": "QkAvnzuz2yeV"
      }
    },
    {
      "cell_type": "code",
      "source": [
        "#example 1: (assigning the value of any specific index)\n",
        "list_1 = [20, 75, 2.5, \"Parmeet\", False, 3+2j, [3,14,7]]\n",
        "list_1[3] = \"pw skills\" #modifying the 4th element(3rd index)\n",
        "print(list_1)"
      ],
      "metadata": {
        "colab": {
          "base_uri": "https://localhost:8080/"
        },
        "id": "tTBVUYPf3V5_",
        "outputId": "41ec3c98-8edf-4956-e9e5-4f64a4317682"
      },
      "execution_count": null,
      "outputs": [
        {
          "output_type": "stream",
          "name": "stdout",
          "text": [
            "[20, 75, 2.5, 'pw skills', False, (3+2j), [3, 14, 7]]\n"
          ]
        }
      ]
    },
    {
      "cell_type": "code",
      "source": [
        "#example 2: (Adding, extending, and inserting elements)\n",
        "#Adding element >>.append() : Adds an element to the end of the list.\n",
        "list_1 = [20, 75, 2.5, \"azlan\", False, 3+2j, [3,14,7]]\n",
        "list_1.append(\"pw skills\")\n",
        "print(list_1)\n",
        "\n",
        "#Inserting an element >>.insert(): Inserts an element at any specific index.\n",
        "list_1 = [20, 75, 2.5, \"azlan\", False, 3+2j, [3,14,7]]\n",
        "list_1.insert(3, \"data analytics\")\n",
        "print(list_1)\n",
        "\n",
        "#extending an element >>.extend(): Appends elements from another list to the end of the list.\n",
        "list_1 = [20, 75, 2.5, \"azlan\", False, 3+2j, [3,14,7]]\n",
        "list_1.extend([45,78,\"python\"])\n",
        "print(list_1)"
      ],
      "metadata": {
        "colab": {
          "base_uri": "https://localhost:8080/"
        },
        "id": "50d2mdJ83jOs",
        "outputId": "04bc9859-8c90-4f67-a24f-b8313674519c"
      },
      "execution_count": null,
      "outputs": [
        {
          "output_type": "stream",
          "name": "stdout",
          "text": [
            "[20, 75, 2.5, 'azlan', False, (3+2j), [3, 14, 7], 'pw skills']\n",
            "[20, 75, 2.5, 'data analytics', 'azlan', False, (3+2j), [3, 14, 7]]\n",
            "[20, 75, 2.5, 'azlan', False, (3+2j), [3, 14, 7], 45, 78, 'python']\n"
          ]
        }
      ]
    },
    {
      "cell_type": "markdown",
      "source": [
        "**Deleting elements from a list:** We can delete elements by using >> del, remove(), or pop()"
      ],
      "metadata": {
        "id": "hwYjq__x3ica"
      }
    },
    {
      "cell_type": "code",
      "source": [
        "#example\n",
        "#Deleting element\n",
        "#remove() : Removes the first occurrence of a specified value.\n",
        "list_1 = [20, 75, 2.5, \"Parmeet\", False, 3+2j, [3,14,7]]\n",
        "list_1.remove(\"Parmeet\")\n",
        "print(list_1)\n",
        "\n",
        "#Using del to delete the 5th element (index 4)\n",
        "list_1 = [20, 75, 2.5, \"Parmeet\", False, 3+2j, [3,14,7]]\n",
        "del list_1[4]\n",
        "print(list_1)\n",
        "\n",
        "#using pop to remove and return the element at a specific index (last element if no index is specified).\n",
        "list_1 = [20, 75, 2.5, \"Parmeet\", False, 3+2j, [3,14,7]]\n",
        "list_2 = list_1.pop(2)\n",
        "print(list_1)\n",
        "print(list_2)"
      ],
      "metadata": {
        "colab": {
          "base_uri": "https://localhost:8080/"
        },
        "id": "OFTO-mj43zvr",
        "outputId": "a8f8742d-3c5f-45fc-dab7-45d89b68ccb9"
      },
      "execution_count": null,
      "outputs": [
        {
          "output_type": "stream",
          "name": "stdout",
          "text": [
            "[20, 75, 2.5, False, (3+2j), [3, 14, 7]]\n",
            "[20, 75, 2.5, 'Parmeet', (3+2j), [3, 14, 7]]\n",
            "[20, 75, 'Parmeet', False, (3+2j), [3, 14, 7]]\n",
            "2.5\n"
          ]
        }
      ]
    },
    {
      "cell_type": "markdown",
      "source": [
        "# 4. Compare and contrast tuples and lists with examples.\n",
        "\n",
        "**Answer:** List is a type of container in data structures of python, which is used to store multiple data types at the same time. Lists are mutable in nature and a useful tool for preserving a sequence of data and further iterating over it. They are made by enclosing a list of objects inside of square brackets[]. Example: number = [1, 7, 9, 4, 65]\n",
        "A tuple is an immutable collection of Python objects separated by commas i.e a tuple can’t be changed or modified after its creation. They are a useful tool for managing and protecting data in Python programmes since their immutability offers a measure of safety by avoiding unintentional changes. Tuples are arranged groups of components denoted by parentheses(). Example: number = (1, 7, 9, 4, 65)\n"
      ],
      "metadata": {
        "id": "-4k5lIth4KZ9"
      }
    },
    {
      "cell_type": "markdown",
      "source": [
        "1.\tLists are mutable (we can change elements)"
      ],
      "metadata": {
        "id": "xrq_gg4D4eX5"
      }
    },
    {
      "cell_type": "code",
      "source": [
        "#example:\n",
        "number_list = [10, 17, 24, 9, 74, 104]\n",
        "number_list[1] = 3\n",
        "print(number_list)"
      ],
      "metadata": {
        "colab": {
          "base_uri": "https://localhost:8080/"
        },
        "id": "X9iM8jQT4kF2",
        "outputId": "5b9b5655-0b21-44e2-b6ec-97120c6a5c8f"
      },
      "execution_count": null,
      "outputs": [
        {
          "output_type": "stream",
          "name": "stdout",
          "text": [
            "[10, 3, 24, 9, 74, 104]\n"
          ]
        }
      ]
    },
    {
      "cell_type": "markdown",
      "source": [
        "2.\tTuples are immutable in nature that's why when we try to modify or change the value of any elements it throws an error."
      ],
      "metadata": {
        "id": "Iiq6mHxB4rd3"
      }
    },
    {
      "cell_type": "code",
      "source": [
        "#example:\n",
        "my_list = (10, 17, 24, 9, 74, 104)\n",
        "my_list[1] = 3 #it will throw an error\n",
        "print(my_list)"
      ],
      "metadata": {
        "colab": {
          "base_uri": "https://localhost:8080/",
          "height": 193
        },
        "id": "dmKA8JXT4wk1",
        "outputId": "1129da8e-4b54-46c3-9ce7-bef1c1145326"
      },
      "execution_count": null,
      "outputs": [
        {
          "output_type": "error",
          "ename": "TypeError",
          "evalue": "'tuple' object does not support item assignment",
          "traceback": [
            "\u001b[0;31m---------------------------------------------------------------------------\u001b[0m",
            "\u001b[0;31mTypeError\u001b[0m                                 Traceback (most recent call last)",
            "\u001b[0;32m<ipython-input-39-546b36036759>\u001b[0m in \u001b[0;36m<cell line: 3>\u001b[0;34m()\u001b[0m\n\u001b[1;32m      1\u001b[0m \u001b[0;31m#example:\u001b[0m\u001b[0;34m\u001b[0m\u001b[0;34m\u001b[0m\u001b[0m\n\u001b[1;32m      2\u001b[0m \u001b[0mmy_list\u001b[0m \u001b[0;34m=\u001b[0m \u001b[0;34m(\u001b[0m\u001b[0;36m10\u001b[0m\u001b[0;34m,\u001b[0m \u001b[0;36m17\u001b[0m\u001b[0;34m,\u001b[0m \u001b[0;36m24\u001b[0m\u001b[0;34m,\u001b[0m \u001b[0;36m9\u001b[0m\u001b[0;34m,\u001b[0m \u001b[0;36m74\u001b[0m\u001b[0;34m,\u001b[0m \u001b[0;36m104\u001b[0m\u001b[0;34m)\u001b[0m\u001b[0;34m\u001b[0m\u001b[0;34m\u001b[0m\u001b[0m\n\u001b[0;32m----> 3\u001b[0;31m \u001b[0mmy_list\u001b[0m\u001b[0;34m[\u001b[0m\u001b[0;36m1\u001b[0m\u001b[0;34m]\u001b[0m \u001b[0;34m=\u001b[0m \u001b[0;36m3\u001b[0m \u001b[0;31m#it will throw an error\u001b[0m\u001b[0;34m\u001b[0m\u001b[0;34m\u001b[0m\u001b[0m\n\u001b[0m\u001b[1;32m      4\u001b[0m \u001b[0mprint\u001b[0m\u001b[0;34m(\u001b[0m\u001b[0mmy_list\u001b[0m\u001b[0;34m)\u001b[0m\u001b[0;34m\u001b[0m\u001b[0;34m\u001b[0m\u001b[0m\n",
            "\u001b[0;31mTypeError\u001b[0m: 'tuple' object does not support item assignment"
          ]
        }
      ]
    },
    {
      "cell_type": "markdown",
      "source": [
        "1.\tLists have more methods available because they can be modified. For example: append(), remove(), pop(), sort(), etc."
      ],
      "metadata": {
        "id": "IHtblCGE44w-"
      }
    },
    {
      "cell_type": "code",
      "source": [
        "list_1 = [20, 75, 2.5, \"Parmeet\", [3,14,7]]\n",
        "list_1.append(104)\n",
        "print(list_1)\n",
        "\n",
        "list_1.remove([3,14,7])\n",
        "print(list_1)\n",
        "\n",
        "list_1.pop(3)\n",
        "print(list_1)"
      ],
      "metadata": {
        "colab": {
          "base_uri": "https://localhost:8080/"
        },
        "id": "0HfJSn-r5JxH",
        "outputId": "e4c68db9-9757-4e17-fe48-1f2b50af2d4e"
      },
      "execution_count": null,
      "outputs": [
        {
          "output_type": "stream",
          "name": "stdout",
          "text": [
            "[20, 75, 2.5, 'Parmeet', [3, 14, 7], 104]\n",
            "[20, 75, 2.5, 'Parmeet', 104]\n",
            "[20, 75, 2.5, 104]\n"
          ]
        }
      ]
    },
    {
      "cell_type": "markdown",
      "source": [
        "2.\tTuples have less methods available because of immutability in nature. For example: count(), len(), index(), sorted()"
      ],
      "metadata": {
        "id": "dZTYutO15gfe"
      }
    },
    {
      "cell_type": "code",
      "source": [
        "#example:\n",
        "rank = (6, 4, 2, 1, 3, 5)\n",
        "sorted(rank) #print a new tuple with the elements sorted in ascending order\n",
        "print(rank)\n",
        "\n",
        "len(rank) #print the number of elements in a tuple"
      ],
      "metadata": {
        "colab": {
          "base_uri": "https://localhost:8080/"
        },
        "id": "qPBJccXM5mSd",
        "outputId": "56d89f1d-1bdb-41e0-971c-59e097f06b84"
      },
      "execution_count": null,
      "outputs": [
        {
          "output_type": "stream",
          "name": "stdout",
          "text": [
            "(6, 4, 2, 1, 3, 5)\n"
          ]
        },
        {
          "output_type": "execute_result",
          "data": {
            "text/plain": [
              "6"
            ]
          },
          "metadata": {},
          "execution_count": 42
        }
      ]
    },
    {
      "cell_type": "markdown",
      "source": [
        "1.\tLists are used when you need a collection of items that might change over time (e.g., adding, removing, or updating items). Lists are great for dynamic data.\n",
        "\n",
        "2.\tTuples are used when you need a collection of items that should remain unchanged. Tuples are useful when the data should not be modified and we want to ensure data integrity and security.\n"
      ],
      "metadata": {
        "id": "21RHI-8i5twR"
      }
    },
    {
      "cell_type": "markdown",
      "source": [
        "# 5. Describe the key features of sets and provide examples of their use.\n",
        "\n",
        "**Answer:** A Python set is an unordered, mutable collection that doesn't allow duplicates, making it ideal for membership checks and supporting various mathematical operations like union and intersection, and it's commonly used to handle unique data and manage element relationships in real-world applications.\n",
        "\n",
        "**Here are the key features of sets in Python:**\n",
        "\n",
        "1.\tA set is an unordered collection of items that lack a specific order, meaning they cannot be indexed, sliced, or treated like other sequences."
      ],
      "metadata": {
        "id": "aKMr7IyL5yh_"
      }
    },
    {
      "cell_type": "code",
      "source": [
        "#example:\n",
        "my_set =  {1, 5, 3, 2, 4}\n",
        "print(my_set)"
      ],
      "metadata": {
        "colab": {
          "base_uri": "https://localhost:8080/"
        },
        "id": "O7A1tsv16LPt",
        "outputId": "38f4689a-2400-463d-fc96-f11cbcae2bf8"
      },
      "execution_count": null,
      "outputs": [
        {
          "output_type": "stream",
          "name": "stdout",
          "text": [
            "{1, 2, 3, 4, 5}\n"
          ]
        }
      ]
    },
    {
      "cell_type": "markdown",
      "source": [
        "2.\tA set exclusively contains unique elements, meaning any duplicate added will be disregarded, making it perfect for ensuring data uniqueness and eliminating duplicates from a collection."
      ],
      "metadata": {
        "id": "aX8oubIp6exu"
      }
    },
    {
      "cell_type": "code",
      "source": [
        "#example:\n",
        "abc = {1,5,6,4,1,5,6,7,4,1,6}\n",
        "print(abc)"
      ],
      "metadata": {
        "colab": {
          "base_uri": "https://localhost:8080/"
        },
        "id": "5TrSVe1K6j8V",
        "outputId": "f11d7f50-5143-45bb-c8e6-79ff880df0d0"
      },
      "execution_count": null,
      "outputs": [
        {
          "output_type": "stream",
          "name": "stdout",
          "text": [
            "{1, 4, 5, 6, 7}\n"
          ]
        }
      ]
    },
    {
      "cell_type": "markdown",
      "source": [
        "3.\tSets can change after they're created, allowing you to add or remove elements using methods like add(), remove(), discard(), and pop()."
      ],
      "metadata": {
        "id": "Vs2A5AsL7I6x"
      }
    },
    {
      "cell_type": "code",
      "source": [
        "#example:\n",
        "my_set = {1, 2, 5, 3}\n",
        "my_set.add(4)     # Adding an element\n",
        "my_set.remove(2)  # Removing an element\n",
        "print(my_set)"
      ],
      "metadata": {
        "colab": {
          "base_uri": "https://localhost:8080/"
        },
        "id": "up-feHes7L6B",
        "outputId": "f81ac2ad-7a9e-4911-d7bd-4e95b080ce76"
      },
      "execution_count": null,
      "outputs": [
        {
          "output_type": "stream",
          "name": "stdout",
          "text": [
            "{1, 3, 4, 5}\n"
          ]
        }
      ]
    },
    {
      "cell_type": "markdown",
      "source": [
        "4.\tSets support various mathematical operations, including Union (|) for combining elements, Intersection (&) for identifying common elements, Difference (-) for elements unique to one set, and Symmetric Difference (^) for elements in either set but not both."
      ],
      "metadata": {
        "id": "QJ7NDSAD7RBf"
      }
    },
    {
      "cell_type": "code",
      "source": [
        "#example:\n",
        "# Customers who bought from store abc\n",
        "store_abc_customers = {'Shalu', 'Singh', 'Chandan', 'Abdul'}\n",
        "\n",
        "# Customers who bought from Store xyz\n",
        "store_xyz_customers = {'Singh', 'Abdul', 'Shalu', 'Kumar'}\n",
        "\n",
        "# 1. Union - All customers who bought from either Store abc or Store xyz (or both)\n",
        "union_customers = store_abc_customers | store_xyz_customers\n",
        "print(\"Union (customers from either store abc or store xyz):\", union_customers)\n",
        "\n",
        "# 2. Intersection - Customers who bought from both Store abc and Store xyz\n",
        "intersection_customers = store_abc_customers & store_xyz_customers\n",
        "print(\"Intersection (customers who bought from both stores):\", intersection_customers)\n",
        "\n",
        "# 3. Difference - Customers who bought from Store abc but not Store xyz\n",
        "difference_customers = store_abc_customers - store_xyz_customers\n",
        "print(\"Difference (customers who bought only from Store abc):\", difference_customers)\n",
        "\n",
        "# 4. Symmetric Difference - Customers who bought from either Store abc or Store xyz but not both\n",
        "symmetric_difference_customers = store_abc_customers ^ store_xyz_customers\n",
        "print(\"Symmetric Difference (customers who bought from one store but not both):\", symmetric_difference_customers)\n"
      ],
      "metadata": {
        "colab": {
          "base_uri": "https://localhost:8080/"
        },
        "id": "pjLBxfDL7WQE",
        "outputId": "f3b99d2c-b030-415a-efbf-61e452784ab0"
      },
      "execution_count": null,
      "outputs": [
        {
          "output_type": "stream",
          "name": "stdout",
          "text": [
            "Union (customers from either store abc or store xyz): {'Shalu', 'Singh', 'Chandan', 'Kumar', 'Abdul'}\n",
            "Intersection (customers who bought from both stores): {'Abdul', 'Shalu', 'Singh'}\n",
            "Difference (customers who bought only from Store abc): {'Chandan'}\n",
            "Symmetric Difference (customers who bought from one store but not both): {'Chandan', 'Kumar'}\n"
          ]
        }
      ]
    },
    {
      "cell_type": "markdown",
      "source": [
        "5.\tSets provide fast membership testing. This means checking whether an item exists in a set is generally faster than in a list, especially when we are using large datasets."
      ],
      "metadata": {
        "id": "4Zy1vhBi7pBK"
      }
    },
    {
      "cell_type": "code",
      "source": [
        "#example:\n",
        "name_list = {\"Parmeet\", \"khan\", \"singh\", \"kumar\"}\n",
        "print(\"Parmeet\" in name_list)"
      ],
      "metadata": {
        "colab": {
          "base_uri": "https://localhost:8080/"
        },
        "id": "e1jTwJvR7wsU",
        "outputId": "d59e1a4b-5809-43fb-bb38-88fa6c2eb0e8"
      },
      "execution_count": null,
      "outputs": [
        {
          "output_type": "stream",
          "name": "stdout",
          "text": [
            "True\n"
          ]
        }
      ]
    },
    {
      "cell_type": "markdown",
      "source": [
        "6.\tSets have important methods for managing elements. You can use **add()** to include an element, while **remove()** deletes a specified element and raises an error if it’s not found. The **discard()** method also removes an element but does nothing if it’s absent. Use **pop()** to remove and return a random element. To clear out all elements, apply **clear()**, and for a duplicate, **copy()** creates a shallow copy of the set. These methods make working with sets straightforward and efficient."
      ],
      "metadata": {
        "id": "B8qNn_ev8BEL"
      }
    },
    {
      "cell_type": "code",
      "source": [
        "#example:\n",
        "fruit_bucket = {\"guava\", \"orange\", \"apple\", \"litchi\", \"watermelon\"}\n",
        "\n",
        "# add() #Adding a new fruit to the bucket.\n",
        "fruit_bucket.add(\"banana\")\n",
        "print(fruit_bucket)\n",
        "\n",
        "# remove() #Removes a specific fruit from the bucket >>raises KeyError if fruit is not found.\n",
        "fruit_bucket.remove(\"watermelon\")  #Removes 'watermelon' from the set\n",
        "print(fruit_bucket)\n",
        "\n",
        "# discard() #Removes a specific fruit from the bucket >>doesn't raise error if fruit is not found in the set.\n",
        "fruit_bucket.discard(\"pear\")  #The pear is not in the set, so nothing will change.\n",
        "print(fruit_bucket)\n",
        "\n",
        "# pop() #Removes and returns any random fruit from the bucket >>because sets are unordered.\n",
        "popped_fruit = fruit_bucket.pop()  # Removes any random element from the set\n",
        "print(\"Removed fruit is:\", popped_fruit)\n",
        "print(fruit_bucket)\n",
        "\n",
        "# clear() #Remove all fruits from the bucket >>leaving it blank.\n",
        "fruit_bucket.clear()\n",
        "print(\"Empty:\", fruit_bucket)\n",
        "type(fruit_bucket)"
      ],
      "metadata": {
        "colab": {
          "base_uri": "https://localhost:8080/"
        },
        "id": "NYqI7Y4t8KMo",
        "outputId": "8a487641-ae3f-4990-eca5-0600361f2592"
      },
      "execution_count": null,
      "outputs": [
        {
          "output_type": "stream",
          "name": "stdout",
          "text": [
            "{'guava', 'watermelon', 'orange', 'litchi', 'banana', 'apple'}\n",
            "{'guava', 'orange', 'litchi', 'banana', 'apple'}\n",
            "{'guava', 'orange', 'litchi', 'banana', 'apple'}\n",
            "Removed fruit is: guava\n",
            "{'orange', 'litchi', 'banana', 'apple'}\n",
            "Empty: set()\n"
          ]
        },
        {
          "output_type": "execute_result",
          "data": {
            "text/plain": [
              "set"
            ]
          },
          "metadata": {},
          "execution_count": 49
        }
      ]
    },
    {
      "cell_type": "markdown",
      "source": [
        "# 6. Discuss the use cases of tuples and sets in Python programming ?\n",
        "\n",
        "**Answer :**\n",
        "\n",
        "*   In Python programming, tuples and sets are both types of collections, but they are used in different situations.\n",
        "\n",
        "\n",
        "### **TUPLES**\n",
        "\n",
        "A **tuple** is an ordered collection of items. Once you create a tuple, you cannot change its values. It’s like a list, but immutable (cannot be changed)\n",
        "\n",
        "\n",
        "\n",
        "\n",
        "*   **Use cases for tuples:**\n",
        "\n",
        "1. Storing data that shouldn’t change: If you have a fixed set of values that shouldn’t be modified, you can use a tuple. For example, coordinates (latitude, longitude) or days of the week.\n",
        "\n",
        "\n",
        "2. Faster than lists: Because tuples cannot be changed, they are usually faster than lists when it comes to accessing data.\n",
        "\n",
        "\n",
        "3. Multiple return values: When a function needs to return multiple values, using a tuple is a good idea. You can return several values at once in the form of a tuple.\n",
        "\n",
        "\n"
      ],
      "metadata": {
        "id": "BG8f2Jx4c3wb"
      }
    },
    {
      "cell_type": "code",
      "source": [
        "#Example\n",
        "coordinates = (10.0, 20.0)  # Tuple of coordinates (fixed values)"
      ],
      "metadata": {
        "id": "HKgvgN3hgHYv"
      },
      "execution_count": null,
      "outputs": []
    },
    {
      "cell_type": "markdown",
      "source": [
        "### **Sets**\n",
        "\n",
        "A **set** is an unordered collection of unique items. It doesn’t allow duplicate values and doesn’t guarantee the order of items.\n",
        "\n",
        "\n",
        "\n",
        "*   **Use cases for sets:**\n",
        "\n",
        "\n",
        "\n",
        "\n",
        "\n",
        "\n",
        "1. Removing duplicates: If you have a collection of items and want to get rid of duplicates, a set is perfect.\n",
        "\n",
        "\n",
        "2. Membership checking: Sets are useful when you need to check if an item is present in a collection because checking membership in a set is faster than in lists or tuples.\n",
        "\n",
        "\n",
        "3. Mathematical operations: Sets support operations like union, intersection, and difference, which are useful in problems related to set theory."
      ],
      "metadata": {
        "id": "IaKt58KegsS-"
      }
    },
    {
      "cell_type": "code",
      "source": [
        "#Example\n",
        "numbers = {1, 2, 3, 4}  # Set of unique numbers"
      ],
      "metadata": {
        "id": "dMuvzdf4hIj8"
      },
      "execution_count": null,
      "outputs": []
    },
    {
      "cell_type": "markdown",
      "source": [
        "### **Key Points for Special Use Cases:**\n",
        "\n",
        "\n",
        "*   **Tuples** are great for creating **immutable** data structures, for returning multiple values from a function, and for serving as **dictionary keys**.\n",
        "\n",
        "*   **Sets** shine in removing duplicates, performing **mathematical** set operations, and working with **unique** tags or combinations in large datasets.\n",
        "\n",
        "\n",
        "\n",
        "Both tuples and sets bring unique properties to the table that can be very useful in specific scenarios!"
      ],
      "metadata": {
        "id": "-1y9E5fqh_M5"
      }
    },
    {
      "cell_type": "markdown",
      "source": [
        "# 7. Describe how to add, modify, and delete items in a dictionary with examples\n",
        "\n",
        "In Python, a dictionary is like a collection of \"labels\" (keys) and \"values\" (the data associated with each label). You can easily add, change, or remove things in it. Let’s go through each operation with some relatable examples.\n",
        "\n",
        "### **1. Adding Items to a Dictionary**\n",
        "Adding an item to a dictionary is as simple as creating a new \"label\" and giving it a \"value.\"\n",
        "\n",
        "**Example: Adding a New Key-Value Pair:**\n",
        "\n",
        "Imagine you're storing details about a book. You start with a dictionary that has the book’s title and author, but you want to add the year it was published.\n",
        "\n"
      ],
      "metadata": {
        "id": "y9p3dPkUiyz0"
      }
    },
    {
      "cell_type": "code",
      "source": [
        "# Starting with a dictionary about the book\n",
        "book = {\"title\": \"To Kill a Mockingbird\", \"author\": \"Harper Lee\"}\n",
        "\n",
        "# Add the year the book was published\n",
        "book[\"year\"] = 1960\n",
        "\n",
        "print(book)"
      ],
      "metadata": {
        "colab": {
          "base_uri": "https://localhost:8080/"
        },
        "id": "aYRpjP6yku-7",
        "outputId": "6cfcf2cc-1cdb-4e4f-d9eb-3b148795e9a2"
      },
      "execution_count": null,
      "outputs": [
        {
          "output_type": "stream",
          "name": "stdout",
          "text": [
            "{'title': 'To Kill a Mockingbird', 'author': 'Harper Lee', 'year': 1960}\n"
          ]
        }
      ]
    },
    {
      "cell_type": "markdown",
      "source": [
        "Here, the key **\"year\"** is new, and its value is **1960**. Now the book dictionary contains this additional information.\n",
        "\n",
        "**Example: Adding or Modifying with Existing Keys:**\n",
        "\n",
        "If you want to change the \"year\" to another value or add something new like the genre of the book, you just assign a new value."
      ],
      "metadata": {
        "id": "NjMf_aOMlEEJ"
      }
    },
    {
      "cell_type": "code",
      "source": [
        "# Modify the year or add a genre\n",
        "book[\"year\"] = 1961  # Changing the year\n",
        "book[\"genre\"] = \"Fiction\"  # Adding genre\n",
        "\n",
        "print(book)"
      ],
      "metadata": {
        "colab": {
          "base_uri": "https://localhost:8080/"
        },
        "id": "2ViYek11k0_Y",
        "outputId": "f013e938-8592-4c7c-b9e5-c05a89cf61ed"
      },
      "execution_count": null,
      "outputs": [
        {
          "output_type": "stream",
          "name": "stdout",
          "text": [
            "{'title': 'To Kill a Mockingbird', 'author': 'Harper Lee', 'year': 1961, 'genre': 'Fiction'}\n"
          ]
        }
      ]
    },
    {
      "cell_type": "markdown",
      "source": [
        "Notice that if **\"year\"** already existed, we updated it to **1961**. If \"genre\" was new, we added it as a new key-value pair.\n"
      ],
      "metadata": {
        "id": "Kgbl7M8qlgFu"
      }
    },
    {
      "cell_type": "markdown",
      "source": [
        "### **2. Modifying Items in a Dictionary**\n",
        "If the key already exists in the dictionary, modifying the value is super easy. Just treat it like you're updating something on a to-do list.\n",
        "\n",
        "**Example: Changing the Value for an Existing Key:**\n",
        "\n",
        "Let’s say you want to update the author's name in your book dictionary, but only because you made a small correction."
      ],
      "metadata": {
        "id": "TDIXS6VFmBol"
      }
    },
    {
      "cell_type": "code",
      "source": [
        "# Correcting the author's name\n",
        "book[\"author\"] = \"Harper Lee (Revised)\"\n",
        "\n",
        "print(book)"
      ],
      "metadata": {
        "colab": {
          "base_uri": "https://localhost:8080/"
        },
        "id": "m18q1Sp8ldG8",
        "outputId": "8d54781d-df25-43e0-dea0-a4f26715aeb3"
      },
      "execution_count": null,
      "outputs": [
        {
          "output_type": "stream",
          "name": "stdout",
          "text": [
            "{'title': 'To Kill a Mockingbird', 'author': 'Harper Lee (Revised)', 'year': 1961, 'genre': 'Fiction'}\n"
          ]
        }
      ]
    },
    {
      "cell_type": "markdown",
      "source": [
        "Here, the **\"author\"** value is updated, and the rest of the dictionary remains unchanged."
      ],
      "metadata": {
        "id": "Cf5O8M9rmMSC"
      }
    },
    {
      "cell_type": "markdown",
      "source": [
        "**3. Deleting Items from a Dictionary**\n",
        "\n",
        "Sometimes, you need to remove a key-value pair from a dictionary. Python offers a couple of simple ways to do this, depending on how you want to handle the removal.\n",
        "\n",
        "**Example 1: Using del to Remove an Item:**\n",
        "\n",
        "Imagine the book was later adapted into a movie, and now you no longer care about the year it was published. You can delete that entry with del"
      ],
      "metadata": {
        "id": "Ed9xZYITmRf7"
      }
    },
    {
      "cell_type": "code",
      "source": [
        "# Remove the 'year' key from the dictionary\n",
        "del book[\"year\"]\n",
        "\n",
        "print(book)"
      ],
      "metadata": {
        "colab": {
          "base_uri": "https://localhost:8080/"
        },
        "id": "etfLsXjImHdY",
        "outputId": "602f31f6-979e-4662-9326-fc6f621b42d5"
      },
      "execution_count": null,
      "outputs": [
        {
          "output_type": "stream",
          "name": "stdout",
          "text": [
            "{'title': 'To Kill a Mockingbird', 'author': 'Harper Lee (Revised)', 'genre': 'Fiction'}\n"
          ]
        }
      ]
    },
    {
      "cell_type": "markdown",
      "source": [
        "Here, the \"year\" key is completely removed from the dictionary. The del command is simple, and it's useful when you know exactly which item to remove.\n",
        "\n",
        "\n",
        "\n",
        "**Example 2: Using pop() to Remove and Retrieve the Value:**\n",
        "\n",
        "If you want to remove a key and also use its value later, pop() is the way to go. Let's say you want to delete the \"genre\" but need the genre name for a different purpose."
      ],
      "metadata": {
        "id": "TCm-jSJfmQM1"
      }
    },
    {
      "cell_type": "code",
      "source": [
        "# Remove and capture the value of 'genre'\n",
        "removed_genre = book.pop(\"genre\")\n",
        "\n",
        "print(removed_genre)  # Output: Fiction\n",
        "print(book)"
      ],
      "metadata": {
        "colab": {
          "base_uri": "https://localhost:8080/"
        },
        "id": "dX1tF3Wgmp9x",
        "outputId": "e716d1d4-d198-4420-cccb-de7faec715d8"
      },
      "execution_count": null,
      "outputs": [
        {
          "output_type": "stream",
          "name": "stdout",
          "text": [
            "Fiction\n",
            "{'title': 'To Kill a Mockingbird', 'author': 'Harper Lee (Revised)'}\n"
          ]
        }
      ]
    },
    {
      "cell_type": "markdown",
      "source": [
        "The pop() method removes the \"genre\" key and gives you the value \"Fiction\" that you can store or use later. It’s helpful when you want to handle the removed value.\n",
        "\n",
        "**Example 3: Using popitem() to Remove the Last Item:**\n",
        "\n",
        "If you want to remove the last item you added, popitem() is a quick way to do it. This is useful when you're dealing with dictionaries that maintain insertion order"
      ],
      "metadata": {
        "id": "EYqIS4Ejm4eu"
      }
    },
    {
      "cell_type": "code",
      "source": [
        "# Remove and return the last item\n",
        "last_item = book.popitem()\n",
        "\n",
        "print(last_item)  # Output: ('author', 'Harper Lee (Revised)')\n",
        "print(book)"
      ],
      "metadata": {
        "colab": {
          "base_uri": "https://localhost:8080/"
        },
        "id": "NxIcAyijmyck",
        "outputId": "d244debe-f0d4-473d-f9cd-fc5d6c4c115f"
      },
      "execution_count": null,
      "outputs": [
        {
          "output_type": "stream",
          "name": "stdout",
          "text": [
            "('author', 'Harper Lee (Revised)')\n",
            "{'title': 'To Kill a Mockingbird'}\n"
          ]
        }
      ]
    },
    {
      "cell_type": "markdown",
      "source": [
        "popitem() removes and returns the last key-value pair. It’s a good way to get rid of the most recent addition to the dictionary.\n",
        "\n",
        "### **SUMMARY**\n",
        "\n",
        "\n",
        "\n",
        "* **Add:** Use dict[key] = value to insert new items or update existing ones.\n",
        "\n",
        "* **Modify:** Directly reassign a new value to an existing key with dict[key] = new_value.\n",
        "\n",
        "* **Delete:** Remove items with del dict[key], dict.pop(key) (which also returns the value), or dict.popitem() for the last item.\n",
        "\n",
        "\n",
        "Dictionaries are super flexible and allow for easy updates, removals, and additions, making them ideal for managing collections of related data!\n",
        "\n"
      ],
      "metadata": {
        "id": "EZKfn_F_nNXp"
      }
    },
    {
      "cell_type": "markdown",
      "source": [
        "# 8. Discuss the importance of dictionary keys being immutable and provide examples.\n",
        "\n",
        "In Python, dictionary keys must be immutable, meaning they can't be changed after they're created. This immutability is essential because dictionaries are designed for fast lookups, and each key is mapped to a unique location in memory based on its content. If dictionary keys were mutable and could change, the entire structure would become unreliable, as keys would no longer consistently point to the same values. Here’s a breakdown of why this matters and some unique examples to illustrate it.\n",
        "\n",
        "### **Why Immutability is Important**\n",
        "\n",
        "1. **Reliability in Lookups:** When we use a dictionary, we rely on each key to reliably map to its corresponding value. If a key could change, it could \"lose\" its place in the dictionary, creating bugs and making data retrieval unpredictable.\n",
        "\n",
        "2. **Memory Efficiency:** Immutability allows Python to calculate a \"hash\" for each key when the dictionary is created or updated. A hash is a unique identifier generated based on the key's content. Because immutable objects like strings or numbers can’t change, their hash values remain consistent. If a mutable object (like a list) were used as a key and its contents changed, Python wouldn’t know where to find it because the hash would change too.\n",
        "\n",
        "3. **Data Integrity**: Immutable keys ensure that data remains stable over time. If keys could be modified, the dictionary's structure could get messed up, breaking the program’s logic.\n",
        "\n",
        "### **Examples to Illustrate This**\n",
        "  Imagine you’re managing different customer accounts in a digital bank, and you want to store each customer's information by a unique identifier.\n",
        "\n",
        "**Example 1: Using Customer Name as a Key**\n",
        "\n",
        "Let's say you think of using the customer’s name as a dictionary key\n",
        "\n"
      ],
      "metadata": {
        "id": "jqlflU-Hn59j"
      }
    },
    {
      "cell_type": "code",
      "source": [
        "customers = {\n",
        "    \"AliceGreen\": {\"balance\": 1500, \"account_type\": \"savings\"},\n",
        "    \"BobSmith\": {\"balance\": 5000, \"account_type\": \"checking\"}\n",
        "    }"
      ],
      "metadata": {
        "id": "l8GaW-t7qaWM"
      },
      "execution_count": null,
      "outputs": []
    },
    {
      "cell_type": "markdown",
      "source": [
        "Now, let’s say Alice gets married and changes her name from \"AliceGreen\" to \"AliceBrown.\" If you could directly modify the key to reflect her new name, it would break the dictionary’s internal structure. You’d lose the link to Alice’s account because changing the key is essentially like deleting it and creating a new one, resulting in data inconsistency.\n",
        "\n",
        "**Example 2: Using a List as a Key**\n",
        "\n",
        "Imagine you’re storing products and their details in an e-commerce platform. You might consider a list containing product attributes as a key:"
      ],
      "metadata": {
        "id": "9zbPNmH_ql1N"
      }
    },
    {
      "cell_type": "code",
      "source": [
        "products = {\n",
        "    [\"Laptop\", \"Dell\", \"XPS 13\"]: {\"price\": 1200, \"stock\": 20}\n",
        "}"
      ],
      "metadata": {
        "colab": {
          "base_uri": "https://localhost:8080/",
          "height": 176
        },
        "id": "MHsZMMkOqhLg",
        "outputId": "ef3c3001-a721-4551-b42e-1ec778b0cf7a"
      },
      "execution_count": null,
      "outputs": [
        {
          "output_type": "error",
          "ename": "TypeError",
          "evalue": "unhashable type: 'list'",
          "traceback": [
            "\u001b[0;31m---------------------------------------------------------------------------\u001b[0m",
            "\u001b[0;31mTypeError\u001b[0m                                 Traceback (most recent call last)",
            "\u001b[0;32m<ipython-input-50-ae2f3132a918>\u001b[0m in \u001b[0;36m<cell line: 2>\u001b[0;34m()\u001b[0m\n\u001b[0;32m----> 1\u001b[0;31m products = {\n\u001b[0m\u001b[1;32m      2\u001b[0m     \u001b[0;34m[\u001b[0m\u001b[0;34m\"Laptop\"\u001b[0m\u001b[0;34m,\u001b[0m \u001b[0;34m\"Dell\"\u001b[0m\u001b[0;34m,\u001b[0m \u001b[0;34m\"XPS 13\"\u001b[0m\u001b[0;34m]\u001b[0m\u001b[0;34m:\u001b[0m \u001b[0;34m{\u001b[0m\u001b[0;34m\"price\"\u001b[0m\u001b[0;34m:\u001b[0m \u001b[0;36m1200\u001b[0m\u001b[0;34m,\u001b[0m \u001b[0;34m\"stock\"\u001b[0m\u001b[0;34m:\u001b[0m \u001b[0;36m20\u001b[0m\u001b[0;34m}\u001b[0m\u001b[0;34m\u001b[0m\u001b[0;34m\u001b[0m\u001b[0m\n\u001b[1;32m      3\u001b[0m }\n",
            "\u001b[0;31mTypeError\u001b[0m: unhashable type: 'list'"
          ]
        }
      ]
    },
    {
      "cell_type": "markdown",
      "source": [
        "If this were allowed and you later wanted to update the list (for instance, adding a new attribute like color), changing the list would alter its memory location. The dictionary would lose track of the \"Laptop, Dell, XPS 13\" entry because the key has changed. Instead, you must use immutable types, like a tuple, to ensure that your product entry remains consistent.\n",
        "\n",
        "**Example 3: Tracking Vehicle Location:**\n",
        "\n",
        "Let’s say you’re building a system to track vehicles, and you want to store each vehicle’s data using its license plate number as the key:"
      ],
      "metadata": {
        "id": "F94LnUbGsl6t"
      }
    },
    {
      "cell_type": "code",
      "source": [
        "vehicles = {\n",
        "    \"AB1234\": {\"location\": \"Downtown\", \"speed\": 60}\n",
        "}"
      ],
      "metadata": {
        "id": "I2fVJNabs1Wi"
      },
      "execution_count": null,
      "outputs": []
    },
    {
      "cell_type": "markdown",
      "source": [
        "If license plate numbers could change, say by users deciding to modify the plate to a custom one (like \"MYCAR01\"), allowing this mutable change in the key would be disastrous. The dictionary would have no way of knowing how to retrieve the vehicle’s information when its key changes. Using an immutable license plate string ensures that each vehicle's data remains reliably accessible.\n",
        "\n",
        "### **Conclusion**\n",
        "\n",
        "By requiring dictionary keys to be immutable, Python ensures that dictionaries remain efficient, predictable, and error-free. This design choice allows programmers to trust that once a key is set, it will always map to the same value. It might seem limiting at first, but immutability in dictionary keys is what makes Python dictionaries powerful and reliable for storing and retrieving data."
      ],
      "metadata": {
        "id": "nR7QqH8Ts7DF"
      }
    }
  ]
}