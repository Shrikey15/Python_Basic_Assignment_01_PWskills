{
  "nbformat": 4,
  "nbformat_minor": 0,
  "metadata": {
    "colab": {
      "provenance": []
    },
    "kernelspec": {
      "name": "python3",
      "display_name": "Python 3"
    },
    "language_info": {
      "name": "python"
    }
  },
  "cells": [
    {
      "cell_type": "markdown",
      "source": [
        "# **OOPS_ASSIGNMENT_PWSKILLS**"
      ],
      "metadata": {
        "id": "BhVbj51DZqXw"
      }
    },
    {
      "cell_type": "markdown",
      "source": [
        "# **1.** **What are the five key concepts of Object-Oriented Programming (OOP)**"
      ],
      "metadata": {
        "id": "knbKRDj_HqXZ"
      }
    },
    {
      "cell_type": "markdown",
      "source": [
        "Sure! Here are the five key concepts of Object-Oriented Programming (OOP) explained in simple, spoken English:\n",
        "\n",
        "1. **Encapsulation**: This means keeping the data (variables) and the code (methods) that works on the data together in one unit called a class. It also involves controlling access to the data so that it’s protected from being changed directly, usually through functions or methods. Think of it like putting important documents in a secure folder, only allowing access to them through a safe process.\n",
        "\n",
        "2. **Abstraction**: This is about hiding the complex details and showing only the essential features to the user. It's like using a remote control – you don’t need to know how the TV works internally, you just press buttons to get it to do what you want.\n",
        "\n",
        "3. **Inheritance**: Inheritance allows one class (the child) to inherit properties and behaviors from another class (the parent). It's like a child inheriting traits from their parents – they get things like hair color or height, but they can also add their own unique traits.\n",
        "\n",
        "4. **Polymorphism**: This means that a single method can work in different ways depending on the object it’s being used with. It’s like a person being able to drive different types of vehicles – a car, a motorcycle, or a truck – but the action \"driving\" remains the same even though the vehicle is different.\n",
        "\n",
        "5. **Classes and Objects**: A class is like a blueprint, and an object is an actual instance of that blueprint. It’s like a blueprint for a house – the class is the plan, and the object is the actual house built from that plan.\n",
        "\n",
        "These concepts together help make code more organized, reusable, and easier to manage."
      ],
      "metadata": {
        "id": "8_gpgLCCHmGn"
      }
    },
    {
      "cell_type": "markdown",
      "source": [
        "# **2. Write a Python class for a car with attributes for make, model, and year. Include a method to display the car's information.**"
      ],
      "metadata": {
        "id": "Zy24FVtbIBwj"
      }
    },
    {
      "cell_type": "code",
      "execution_count": 1,
      "metadata": {
        "colab": {
          "base_uri": "https://localhost:8080/"
        },
        "id": "Oy7SslxFEjiC",
        "outputId": "22fece3b-8d9e-4cad-8082-0fc107156c22"
      },
      "outputs": [
        {
          "output_type": "stream",
          "name": "stdout",
          "text": [
            "Car Information: 2020 TATA NANO\n"
          ]
        }
      ],
      "source": [
        "class Car:\n",
        "    # The __init__ method is called when we create a new car object\n",
        "    def __init__(self, make, model, year):\n",
        "        self.make = make   # Setting the make of the car\n",
        "        self.model = model # Setting the model of the car\n",
        "        self.year = year   # Setting the year of the car\n",
        "\n",
        "    # A method to display the car's information\n",
        "    def display_info(self):\n",
        "        print(f\"Car Information: {self.year} {self.make} {self.model}\")\n",
        "\n",
        "# Creating a car object with the details for TATA NANO 2013\n",
        "my_car = Car(\"TATA\", \"NANO\", 2020)\n",
        "\n",
        "# Calling the method to display the car's information\n",
        "my_car.display_info()"
      ]
    },
    {
      "cell_type": "markdown",
      "source": [
        "# **3. Explain the difference between instance methods and class methods. Provide an example of each.**\n",
        "\n",
        "\n",
        "### **1.** **Instance Methods:**\n",
        "What are they?: Instance methods are functions that belong to an instance (or object) of a class. They can access and modify the instance's attributes (the properties of that specific object).\n",
        "When do you use them?: You use instance methods when you need to perform actions on a specific object, like changing its data or displaying its information.\n",
        "Example of an Instance Method: Let's imagine a class for a Book where we can get and update the details of a specific book."
      ],
      "metadata": {
        "id": "je4smn2RJg8U"
      }
    },
    {
      "cell_type": "code",
      "source": [
        "class Book:\n",
        "    def __init__(self, title, author, year):\n",
        "        self.title = title  # Title of the book\n",
        "        self.author = author  # Author of the book\n",
        "        self.year = year  # Year the book was published\n",
        "\n",
        "    # Instance method to display book details\n",
        "    def display_info(self):\n",
        "        print(f\"Book: {self.title}, Author: {self.author}, Year: {self.year}\")\n",
        "\n",
        "# Creating a Book object\n",
        "my_book = Book(\"Harry Potter\", \"J.K. Rowling\", 1997)\n",
        "\n",
        "# Calling the instance method\n",
        "my_book.display_info()  # This will print the details of my_book\n"
      ],
      "metadata": {
        "colab": {
          "base_uri": "https://localhost:8080/"
        },
        "id": "uWy2qEh6Id6G",
        "outputId": "0f4d5c7a-cae1-4fea-d85c-6a18c2837ce0"
      },
      "execution_count": null,
      "outputs": [
        {
          "output_type": "stream",
          "name": "stdout",
          "text": [
            "Book: Harry Potter, Author: J.K. Rowling, Year: 1997\n"
          ]
        }
      ]
    },
    {
      "cell_type": "markdown",
      "source": [
        "### **2. Class Methods:**\n",
        "What are they?: Class methods are functions that belong to the class itself, not to an individual object. They can’t access or modify instance-specific data, but they can access and modify class-level data (which is shared across all instances of the class).\n",
        "When do you use them?: You use class methods when you want to perform actions that affect the whole class, not just a single object. They are often used for creating factory methods or setting class-wide values.\n",
        "Example of a Class Method: Let’s imagine a class for Car, and we want to keep track of the number of cars produced by the company."
      ],
      "metadata": {
        "id": "SdwDk5_ZJ7Iv"
      }
    },
    {
      "cell_type": "code",
      "source": [
        "class Car:\n",
        "    total_cars = 0  # Class variable to keep track of total cars\n",
        "\n",
        "    def __init__(self, make, model):\n",
        "        self.make = make\n",
        "        self.model = model\n",
        "        Car.total_cars += 1  # Increment the total number of cars when a new car is created\n",
        "\n",
        "    # Class method to display the total number of cars\n",
        "    @classmethod\n",
        "    def display_total_cars(cls):\n",
        "        print(f\"Total number of cars produced: {cls.total_cars}\")\n",
        "\n",
        "# Creating car objects\n",
        "car1 = Car(\"Toyota\", \"Corolla\")\n",
        "car2 = Car(\"Honda\", \"Civic\")\n",
        "car3 = Car(\"TATA\", \"NANO\")\n",
        "\n",
        "# Calling the class method\n",
        "Car.display_total_cars()  # This will print the total number of cars produced"
      ],
      "metadata": {
        "colab": {
          "base_uri": "https://localhost:8080/"
        },
        "id": "JZUFoDz2JzDl",
        "outputId": "714c87a8-6089-4fed-b941-2bf0458a4087"
      },
      "execution_count": null,
      "outputs": [
        {
          "output_type": "stream",
          "name": "stdout",
          "text": [
            "Total number of cars produced: 3\n"
          ]
        }
      ]
    },
    {
      "cell_type": "markdown",
      "source": [
        "**Summary of Differences:**\n",
        "\n",
        "Instance methods: They belong to specific objects. They can access and modify the object's attributes.\n",
        "Class methods: They belong to the class itself. They can access and modify class-level data that is shared by all objects of the class."
      ],
      "metadata": {
        "id": "5tBUzLN3KdMY"
      }
    },
    {
      "cell_type": "markdown",
      "source": [
        "# **4. How does Python implement method overloading? Give an example.**\n",
        "\n",
        "\n",
        "In Python, method overloading is a little different from some other languages like Java or C++. Python doesn't support method overloading in the traditional sense (i.e., defining multiple methods with the same name but different arguments). However, Python allows you to achieve similar functionality by using default arguments or variable-length arguments.\n",
        "\n",
        "\n",
        "### **How Python Implements Method Overloading:**\n",
        "\n",
        "\n",
        "Default Arguments: You can set default values for method parameters, so the method can be called with or without certain arguments.\n",
        "Variable-Length Arguments (*args and **kwargs): You can use *args to accept any number of positional arguments, or **kwargs to accept any number of keyword arguments. This allows you to handle different numbers of inputs in the same method.\n",
        "Example 1: Using Default Arguments (Simulating Method Overloading)\n",
        "We can create a method that behaves differently depending on the number of arguments passed."
      ],
      "metadata": {
        "id": "O424CYq4LdoX"
      }
    },
    {
      "cell_type": "code",
      "source": [
        "class Calculator:\n",
        "    def add(self, a, b=0, c=0):\n",
        "        return a + b + c\n",
        "\n",
        "# Creating a Calculator object\n",
        "calc = Calculator()\n",
        "\n",
        "# Calling the method with 2 arguments\n",
        "result1 = calc.add(5, 3)\n",
        "print(result1)  # Output: 8\n",
        "\n",
        "# Calling the method with 1 argument\n",
        "result2 = calc.add(5)\n",
        "print(result2)  # Output: 5 (since b and c default to 0)\n",
        "\n",
        "# Calling the method with 3 arguments\n",
        "result3 = calc.add(5, 3, 2)\n",
        "print(result3)  # Output: 10"
      ],
      "metadata": {
        "colab": {
          "base_uri": "https://localhost:8080/"
        },
        "id": "QBQX1pwkL1uI",
        "outputId": "b88593c4-dae6-4e33-dcec-c5d7c350052a"
      },
      "execution_count": null,
      "outputs": [
        {
          "output_type": "stream",
          "name": "stdout",
          "text": [
            "8\n",
            "5\n",
            "10\n"
          ]
        }
      ]
    },
    {
      "cell_type": "markdown",
      "source": [
        "**Explanation:**\n",
        "\n",
        "In this example, the add method behaves differently depending on how many arguments you pass. If you only pass one argument, the method uses the default values for b and c (which are 0). This simulates method overloading by allowing different numbers of arguments.\n",
        "\n",
        "\n",
        "**Example 2:**\n",
        "\n",
        "Using *args (Variable-Length Positional Arguments)\n",
        "You can also use *args to accept any number of arguments."
      ],
      "metadata": {
        "id": "m-7qb1RZL8xx"
      }
    },
    {
      "cell_type": "code",
      "source": [
        "class Printer:\n",
        "    def print_details(self, *args):\n",
        "        for arg in args:\n",
        "            print(arg)\n",
        "\n",
        "# Creating a Printer object\n",
        "printer = Printer()\n",
        "\n",
        "# Calling the method with different numbers of arguments\n",
        "printer.print_details(\"Hello\")  # Output: Hello\n",
        "printer.print_details(\"Hello\", \"World\")  # Output: Hello\\nWorld\n",
        "printer.print_details(\"Python\", \"is\", \"awesome\")  # Output: Python\\nis\\nawesome"
      ],
      "metadata": {
        "colab": {
          "base_uri": "https://localhost:8080/"
        },
        "id": "dwcJ3jKpL4a5",
        "outputId": "02f2baa9-6eb7-4c91-c05e-455fef84e865"
      },
      "execution_count": null,
      "outputs": [
        {
          "output_type": "stream",
          "name": "stdout",
          "text": [
            "Hello\n",
            "Hello\n",
            "World\n",
            "Python\n",
            "is\n",
            "awesome\n"
          ]
        }
      ]
    },
    {
      "cell_type": "markdown",
      "source": [
        "**Explanation:**\n",
        "\n",
        "In this example, print_details can accept any number of arguments, thanks to *args. No matter how many strings you pass, the method will print each one.\n",
        "\n",
        "**Example 3:**\n",
        "\n",
        "Using **kwargs (Variable-Length Keyword Arguments)\n",
        "You can also use **kwargs to accept any number of keyword arguments, which are passed as a dictionary."
      ],
      "metadata": {
        "id": "fWzPfjlLMR2I"
      }
    },
    {
      "cell_type": "code",
      "source": [
        "class Student:\n",
        "    def __init__(self, name, **kwargs):\n",
        "        self.name = name\n",
        "        self.details = kwargs\n",
        "\n",
        "    def display_info(self):\n",
        "        print(f\"Name: {self.name}\")\n",
        "        for key, value in self.details.items():\n",
        "            print(f\"{key}: {value}\")\n",
        "\n",
        "# Creating a Student object with name \"Parmeet\"\n",
        "student = Student(\"Parmeet\", age=22, grade=\"A+\", major=\"Software Engineering\")\n",
        "\n",
        "# Calling the method to display info\n",
        "student.display_info()"
      ],
      "metadata": {
        "colab": {
          "base_uri": "https://localhost:8080/"
        },
        "id": "xMIdTYyvMhli",
        "outputId": "82f879cc-4970-445e-939d-5045023a77e9"
      },
      "execution_count": null,
      "outputs": [
        {
          "output_type": "stream",
          "name": "stdout",
          "text": [
            "Name: Parmeet\n",
            "age: 22\n",
            "grade: A+\n",
            "major: Software Engineering\n"
          ]
        }
      ]
    },
    {
      "cell_type": "markdown",
      "source": [
        "**Explanation:**\n",
        "\n",
        "In this case, we created a Student object with the name Parmeet.\n",
        "Additional details like age, grade, and major are passed using **kwargs as keyword arguments.\n",
        "\n",
        "The display_info method prints out the name and all the details associated with the student.\n",
        "\n",
        "This shows how you can easily manage and display dynamic information about an object using **kwargs."
      ],
      "metadata": {
        "id": "gvytjoahMpGf"
      }
    },
    {
      "cell_type": "markdown",
      "source": [
        "# **5. What are the three types of access modifiers in Python? How are they denoted?**\n",
        "\n",
        "\n",
        "**1. Public Access Modifier**\n",
        "Public attributes and methods can be accessed anywhere.\n",
        "\n",
        "**Example:** Let's create a class for a BankAccount where the balance can be directly accessed or modified."
      ],
      "metadata": {
        "id": "G6OEjaynMypm"
      }
    },
    {
      "cell_type": "code",
      "source": [
        "class BankAccount:\n",
        "    def __init__(self, account_holder, balance):\n",
        "        self.account_holder = account_holder  # Public attribute\n",
        "        self.balance = balance  # Public attribute\n",
        "\n",
        "    def deposit(self, amount):  # Public method\n",
        "        self.balance += amount\n",
        "        print(f\"Deposited {amount}. New balance: {self.balance}\")\n",
        "\n",
        "# Creating a BankAccount object\n",
        "account = BankAccount(\"Parmeet Singh\", 1000)\n",
        "\n",
        "# Accessing and modifying public attributes directly\n",
        "print(account.account_holder)  # Accessing public attribute\n",
        "print(account.balance)  # Accessing public attribute\n",
        "\n",
        "account.deposit(500)  # Calling public method"
      ],
      "metadata": {
        "colab": {
          "base_uri": "https://localhost:8080/"
        },
        "id": "wE4R4Y0jMk_w",
        "outputId": "e73bb9c0-e733-4625-ebe6-7aa131bf6d68"
      },
      "execution_count": null,
      "outputs": [
        {
          "output_type": "stream",
          "name": "stdout",
          "text": [
            "Parmeet Singh\n",
            "1000\n",
            "Deposited 500. New balance: 1500\n"
          ]
        }
      ]
    },
    {
      "cell_type": "markdown",
      "source": [
        "**2. Protected Access Modifier**\n",
        "Protected attributes and methods are intended to be used within the class or its subclasses. Though still accessible outside the class, it's generally not recommended.\n",
        "\n",
        "**Example:** Let's create a Employee class with a protected method that calculates the salary bonus."
      ],
      "metadata": {
        "id": "dtiXFHA5NpeE"
      }
    },
    {
      "cell_type": "code",
      "source": [
        "class Employee:\n",
        "    def __init__(self, name, base_salary):\n",
        "        self.name = name  # Public attribute\n",
        "        self._base_salary = base_salary  # Protected attribute\n",
        "\n",
        "    def _calculate_bonus(self):  # Protected method\n",
        "        return self._base_salary * 0.1  # 10% bonus\n",
        "\n",
        "    def display_salary(self):\n",
        "        bonus = self._calculate_bonus()  # Using the protected method\n",
        "        print(f\"{self.name}'s salary: {self._base_salary + bonus}\")\n",
        "\n",
        "# Creating an Employee object\n",
        "emp = Employee(\"Alice\", 5000)\n",
        "\n",
        "# Accessing protected attribute and method directly (not recommended)\n",
        "print(emp._base_salary)  # Accessing protected attribute\n",
        "emp._calculate_bonus()  # Calling protected method\n"
      ],
      "metadata": {
        "colab": {
          "base_uri": "https://localhost:8080/"
        },
        "id": "1qBCAXL6NccV",
        "outputId": "6d96d03f-aec4-425c-b8e8-693da4f96316"
      },
      "execution_count": null,
      "outputs": [
        {
          "output_type": "stream",
          "name": "stdout",
          "text": [
            "5000\n"
          ]
        },
        {
          "output_type": "execute_result",
          "data": {
            "text/plain": [
              "500.0"
            ]
          },
          "metadata": {},
          "execution_count": 9
        }
      ]
    },
    {
      "cell_type": "markdown",
      "source": [
        "**3. Private Access Modifier**\n",
        "Private attributes and methods are meant to be used only within the class. They cannot be accessed directly from outside the class.\n",
        "\n",
        "**Example:** Let's create a Car class where we prevent direct access to the fuel_level attribute by making it private."
      ],
      "metadata": {
        "id": "aMJ2T4cgN7Pb"
      }
    },
    {
      "cell_type": "code",
      "source": [
        "class Car:\n",
        "    def __init__(self, model, fuel_level):\n",
        "        self.model = model  # Public attribute\n",
        "        self.__fuel_level = fuel_level  # Private attribute\n",
        "\n",
        "    def __refuel(self, amount):  # Private method\n",
        "        self.__fuel_level += amount\n",
        "        print(f\"Refueled {amount}. New fuel level: {self.__fuel_level}\")\n",
        "\n",
        "    def drive(self):\n",
        "        print(f\"{self.model} is driving.\")\n",
        "        self.__refuel(10)  # Private method used inside the class\n",
        "\n",
        "# Creating a Car object\n",
        "my_car = Car(\"TATA NANO\", 50)\n",
        "\n",
        "# Attempting to access private attribute or method (will cause an error)\n",
        "# print(my_car.__fuel_level)  # This will cause an error!\n",
        "# my_car.__refuel(20)  # This will also cause an error!\n",
        "\n",
        "# Calling a public method that uses private attributes\n",
        "my_car.drive()"
      ],
      "metadata": {
        "colab": {
          "base_uri": "https://localhost:8080/"
        },
        "id": "QRHMDOehOG2-",
        "outputId": "2b04a3f3-8939-4926-c5ea-93d213eeda2b"
      },
      "execution_count": null,
      "outputs": [
        {
          "output_type": "stream",
          "name": "stdout",
          "text": [
            "TATA NANO is driving.\n",
            "Refueled 10. New fuel level: 60\n"
          ]
        }
      ]
    },
    {
      "cell_type": "markdown",
      "source": [
        "**Summary:**\n",
        "\n",
        "**Public Access:** No underscore (model, balance) – accessible from anywhere.\n",
        "\n",
        "**Protected Access:** Single underscore (_base_salary) – meant to be used within the class or subclasses, but still accessible outside.\n",
        "\n",
        "**Private Access:** Double underscore (__fuel_level) – cannot be accessed directly from outside the class.\n",
        "In Python, these access modifiers are not strict enforcements but are more about conventions. However, using them properly helps to make your code cleaner and prevents accidental misuse of internal class details."
      ],
      "metadata": {
        "id": "wlTdWdwPOgdH"
      }
    },
    {
      "cell_type": "markdown",
      "source": [
        "# **6. Describe the five types of inheritance in Python. Provide a simple example of multiple inheritance**\n",
        "\n",
        "### **Types of Inheritance in Python**\n",
        "\n",
        "1. **Single Inheritance**  \n",
        "   - Involves a single parent class and a single child class. The child class inherits the properties and behaviors of the parent class.\n",
        "\n",
        "2. **Multiple Inheritance**  \n",
        "   - A child class inherits from more than one parent class, combining functionalities from all parent classes.\n",
        "\n",
        "3. **Multilevel Inheritance**  \n",
        "   - Involves a chain of inheritance where a class inherits from a parent class, and another class inherits from this derived class.\n",
        "\n",
        "4. **Hierarchical Inheritance**  \n",
        "   - Multiple child classes inherit from a single parent class, allowing shared functionality across different derived classes.\n",
        "\n",
        "5. **Hybrid Inheritance**  \n",
        "   - A combination of two or more types of inheritance, forming a complex structure that may involve single, multiple, or hierarchical inheritance.\n",
        "\n",
        "\n",
        "### **Example of Multiple Inheritance:**"
      ],
      "metadata": {
        "id": "l2e3kBWWPTPw"
      }
    },
    {
      "cell_type": "code",
      "source": [
        "class Parent1:\n",
        "    def function1(self):\n",
        "        print(\"Functionality from Parent1\")\n",
        "\n",
        "class Parent2:\n",
        "    def function2(self):\n",
        "        print(\"Functionality from Parent2\")\n",
        "\n",
        "class Child(Parent1, Parent2):\n",
        "    def function3(self):\n",
        "        print(\"Functionality from Child\")\n",
        "\n",
        "# Demonstration\n",
        "obj = Child()\n",
        "obj.function1()\n",
        "obj.function2()\n",
        "obj.function3()"
      ],
      "metadata": {
        "colab": {
          "base_uri": "https://localhost:8080/"
        },
        "id": "kYoFqsjOOa1g",
        "outputId": "6113e416-d34c-497d-f90d-0169a8bf522d"
      },
      "execution_count": null,
      "outputs": [
        {
          "output_type": "stream",
          "name": "stdout",
          "text": [
            "Functionality from Parent1\n",
            "Functionality from Parent2\n",
            "Functionality from Child\n"
          ]
        }
      ]
    },
    {
      "cell_type": "markdown",
      "source": [
        "# **7. What is the Method Resolution Order (MRO) in Python? How can you retrieve it programmatically?**\n",
        "\n",
        "The **Method Resolution Order (MRO)** is the order in which Python looks for a method or attribute in a class hierarchy. It determines the sequence in which classes are checked when a method is called on an object.\n",
        "\n",
        "- MRO is especially important in cases of **multiple inheritance** to avoid confusion and ensure the correct method is used.  \n",
        "- Python uses the **C3 Linearization** algorithm to calculate the MRO, ensuring consistency and predictability.\n",
        "\n",
        "\n",
        "\n",
        "**How to Retrieve MRO Programmatically?**\n",
        "\n",
        "You can retrieve the MRO for a class in two ways:\n",
        "\n",
        "**1. Using the __mro__ attribute:**\n",
        "\n"
      ],
      "metadata": {
        "id": "3NJQ9tJuQswA"
      }
    },
    {
      "cell_type": "code",
      "source": [
        "ClassName = Child\n",
        "ClassName.__mro__"
      ],
      "metadata": {
        "colab": {
          "base_uri": "https://localhost:8080/"
        },
        "id": "_GjuoeRjQo82",
        "outputId": "c5f154ba-8c95-48ad-a9a0-a9016b7a30d0"
      },
      "execution_count": null,
      "outputs": [
        {
          "output_type": "execute_result",
          "data": {
            "text/plain": [
              "(__main__.Child, __main__.Parent1, __main__.Parent2, object)"
            ]
          },
          "metadata": {},
          "execution_count": 16
        }
      ]
    },
    {
      "cell_type": "markdown",
      "source": [
        "**2. Using the mro() method:**"
      ],
      "metadata": {
        "id": "Fp5kS9RSSNnn"
      }
    },
    {
      "cell_type": "code",
      "source": [
        "ClassName = type('ClassName', (), {})\n",
        "ClassName.mro()\n"
      ],
      "metadata": {
        "colab": {
          "base_uri": "https://localhost:8080/"
        },
        "id": "XvGbQrLgRWZ0",
        "outputId": "a0c9e6f8-b6e3-4e07-f51a-ef241990f982"
      },
      "execution_count": null,
      "outputs": [
        {
          "output_type": "execute_result",
          "data": {
            "text/plain": [
              "[__main__.ClassName, object]"
            ]
          },
          "metadata": {},
          "execution_count": 17
        }
      ]
    },
    {
      "cell_type": "markdown",
      "source": [
        "Both will return a list (or tuple) showing the order of classes Python will follow to resolve methods."
      ],
      "metadata": {
        "id": "J0qFkK6fSUEe"
      }
    },
    {
      "cell_type": "markdown",
      "source": [
        "# **8. Create an abstract base class shape with an abstract method area(). Then create two subclasses Circle and Rectangle that implement the area() method.**\n",
        "\n",
        "\n",
        "1. **Abstract Base Class (ABC)**:\n",
        "   - A class that cannot be directly instantiated (you cannot create objects of it).\n",
        "   - Contains at least one abstract method (a method with no implementation, just a declaration).\n",
        "   - We use the `abc` module to define an abstract class.\n",
        "\n",
        "2. **Subclasses**:\n",
        "   - Subclasses inherit from the abstract class.\n",
        "   - They must provide an implementation for all abstract methods of the parent class.\n",
        "\n",
        "\n",
        "### **How It Works:**\n",
        "1. The `Shape` class is an abstract class with an abstract method `area()`.\n",
        "2. The `Circle` and `Rectangle` subclasses inherit from `Shape` and provide their own implementation of the `area()` method.\n",
        "3. When you create objects of `Circle` or `Rectangle`, you can call their `area()` methods to get the area."
      ],
      "metadata": {
        "id": "9vOMVDQKScvm"
      }
    },
    {
      "cell_type": "code",
      "source": [
        "from abc import ABC, abstractmethod\n",
        "\n",
        "# Abstract Base Class\n",
        "class Shape(ABC):\n",
        "    @abstractmethod\n",
        "    def area(self):\n",
        "        pass  # Abstract method, no implementation\n",
        "\n",
        "# Subclass 1: Circle\n",
        "class Circle(Shape):\n",
        "    def __init__(self, radius):\n",
        "        self.radius = radius\n",
        "\n",
        "    def area(self):\n",
        "        return 3.14 * self.radius * self.radius\n",
        "\n",
        "# Subclass 2: Rectangle\n",
        "class Rectangle(Shape):\n",
        "    def __init__(self, width, height):\n",
        "        self.width = width\n",
        "        self.height = height\n",
        "\n",
        "    def area(self):\n",
        "        return self.width * self.height\n",
        "\n",
        "# Example usage\n",
        "circle = Circle(radius=5)\n",
        "print(\"Circle Area:\", circle.area())\n",
        "\n",
        "rectangle = Rectangle(width=4, height=6)\n",
        "print(\"Rectangle Area:\", rectangle.area())"
      ],
      "metadata": {
        "colab": {
          "base_uri": "https://localhost:8080/"
        },
        "id": "zQNX2Gz9Rj8r",
        "outputId": "29a6ddf3-0874-4d5b-e770-6e0e89702269"
      },
      "execution_count": null,
      "outputs": [
        {
          "output_type": "stream",
          "name": "stdout",
          "text": [
            "Circle Area: 78.5\n",
            "Rectangle Area: 24\n"
          ]
        }
      ]
    },
    {
      "cell_type": "markdown",
      "source": [
        "# **9. Demonstrate polymorphism by creating a function that can work with different shape objects to calculate and print their areas.**\n",
        "\n",
        "\n",
        "**Polymorphism** means using a single function or method to work with objects of different types. In this example, we’ll create a function that works with any shape object (like a Circle or Rectangle) to calculate and print its area."
      ],
      "metadata": {
        "id": "1fxjVGnwTVeY"
      }
    },
    {
      "cell_type": "code",
      "source": [
        "from abc import ABC, abstractmethod\n",
        "\n",
        "# Abstract Base Class\n",
        "class Shape(ABC):\n",
        "    @abstractmethod\n",
        "    def area(self):\n",
        "        pass\n",
        "\n",
        "# Subclass 1: Circle\n",
        "class Circle(Shape):\n",
        "    def __init__(self, radius):\n",
        "        self.radius = radius\n",
        "\n",
        "    def area(self):\n",
        "        return 3.14 * self.radius * self.radius\n",
        "\n",
        "# Subclass 2: Rectangle\n",
        "class Rectangle(Shape):\n",
        "    def __init__(self, width, height):\n",
        "        self.width = width\n",
        "        self.height = height\n",
        "\n",
        "    def area(self):\n",
        "        return self.width * self.height\n",
        "\n",
        "# Polymorphic Function\n",
        "def print_area(shape):\n",
        "    print(\"The area is:\", shape.area())\n",
        "\n",
        "# Example usage\n",
        "circle = Circle(radius=5)\n",
        "rectangle = Rectangle(width=4, height=6)\n",
        "\n",
        "# Calling the function with different shape objects\n",
        "print_area(circle)       # Works with Circle\n",
        "print_area(rectangle)    # Works with Rectangle"
      ],
      "metadata": {
        "colab": {
          "base_uri": "https://localhost:8080/"
        },
        "id": "f0l_ksZxTE7l",
        "outputId": "65c106ec-5e3c-4acb-9da3-daaa17a9062d"
      },
      "execution_count": null,
      "outputs": [
        {
          "output_type": "stream",
          "name": "stdout",
          "text": [
            "The area is: 78.5\n",
            "The area is: 24\n"
          ]
        }
      ]
    },
    {
      "cell_type": "markdown",
      "source": [
        "**How It Works:**\n",
        "\n",
        "The Shape class defines the abstract method area(), ensuring all shapes implement it.\n",
        "\n",
        "Circle and Rectangle are subclasses of Shape and provide their own area() method.\n",
        "\n",
        "The print_area() function takes any Shape object and calls its area() method.\n",
        "\n",
        "When passed a Circle, it calculates the circle's area.\n",
        "\n",
        "When passed a Rectangle, it calculates the rectangle's area.\n",
        "\n",
        "This is polymorphism in action: the same function works with different object types seamlessly!"
      ],
      "metadata": {
        "id": "7etGJWL9Tw5S"
      }
    },
    {
      "cell_type": "markdown",
      "source": [
        "# **10. Implement encapsulation in a Bank Account class with private attributes for balance and account number`. Include methods for deposit, withdrawal, and balance inquiry**\n",
        "\n",
        "**Encapsulation** is the concept of hiding the internal details of a class and controlling access to its data through methods. In Python, you can make attributes private by adding a double underscore (__) before their names.\n",
        "\n",
        "\n",
        "Here’s how to implement encapsulation in a BankAccount class:"
      ],
      "metadata": {
        "id": "VGM79JEoT_w0"
      }
    },
    {
      "cell_type": "code",
      "source": [
        "class BankAccount:\n",
        "    def __init__(self, account_number, initial_balance=0):\n",
        "        self.__account_number = account_number  # Private attribute\n",
        "        self.__balance = initial_balance       # Private attribute\n",
        "\n",
        "    def deposit(self, amount):\n",
        "        if amount > 0:\n",
        "            self.__balance += amount\n",
        "            print(f\"Deposited: {amount}\")\n",
        "        else:\n",
        "            print(\"Invalid deposit amount\")\n",
        "\n",
        "    def withdraw(self, amount):\n",
        "        if 0 < amount <= self.__balance:\n",
        "            self.__balance -= amount\n",
        "            print(f\"Withdrawn: {amount}\")\n",
        "        else:\n",
        "            print(\"Insufficient balance or invalid amount\")\n",
        "\n",
        "    def check_balance(self):\n",
        "        print(f\"Account Number: {self.__account_number}\")\n",
        "        print(f\"Balance: {self.__balance}\")\n",
        "\n",
        "# Example usage\n",
        "account = BankAccount(account_number=\"123456789\", initial_balance=5000)\n",
        "\n",
        "account.check_balance()  # Check initial balance\n",
        "account.deposit(2000)    # Deposit money\n",
        "account.withdraw(1000)   # Withdraw money\n",
        "account.check_balance()  # Check updated balance\n"
      ],
      "metadata": {
        "colab": {
          "base_uri": "https://localhost:8080/"
        },
        "id": "8vVBu4aUTtgX",
        "outputId": "74b60c98-15fb-42e1-9534-034344abf16f"
      },
      "execution_count": null,
      "outputs": [
        {
          "output_type": "stream",
          "name": "stdout",
          "text": [
            "Account Number: 123456789\n",
            "Balance: 5000\n",
            "Deposited: 2000\n",
            "Withdrawn: 1000\n",
            "Account Number: 123456789\n",
            "Balance: 6000\n"
          ]
        }
      ]
    },
    {
      "cell_type": "markdown",
      "source": [
        "### **How It Works:**\n",
        "\n",
        "**Private Attributes:**\n",
        "\n",
        "__account_number and __balance are private, meaning they can only be accessed within the class.\n",
        "\n",
        "**Controlled Access:**\n",
        "\n",
        "Methods like deposit(), withdraw(), and check_balance() provide controlled ways to interact with private attributes.\n",
        "\n",
        "**Encapsulation in Action:**\n",
        "\n",
        "You cannot directly modify __balance or __account_number from outside the class.\n",
        "This protects the data and ensures only valid operations are performed."
      ],
      "metadata": {
        "id": "J8a6qshwUolp"
      }
    },
    {
      "cell_type": "markdown",
      "source": [
        "# **11. Write a class that overrides the __str__ and __add__ magic methods. What will these methods allow you to do ?**\n",
        "\n",
        "In Python, magic methods (also called dunder methods) let you define special behavior for your class. By overriding these methods, you can customize how objects of your class behave.\n",
        "\n",
        "**__str__ Method:**\n",
        "\n",
        "Controls what gets printed when you use print() or str() on an object.\n",
        "You can make objects display meaningful information instead of the default memory address.\n",
        "\n",
        "**__add__ Method:**\n",
        "\n",
        "Allows you to define how the + operator works between objects of your class.\n",
        "You can customize addition for your objects."
      ],
      "metadata": {
        "id": "zO-3b4vAVGxR"
      }
    },
    {
      "cell_type": "code",
      "source": [
        "class CustomNumber:\n",
        "    def __init__(self, value):\n",
        "        self.value = value\n",
        "\n",
        "    # Override __str__ to customize string representation\n",
        "    def __str__(self):\n",
        "        return f\"CustomNumber({self.value})\"\n",
        "\n",
        "    # Override __add__ to define custom addition\n",
        "    def __add__(self, other):\n",
        "        if isinstance(other, CustomNumber):\n",
        "            return CustomNumber(self.value + other.value)\n",
        "        return NotImplemented\n",
        "\n",
        "# Example usage\n",
        "num1 = CustomNumber(10)\n",
        "num2 = CustomNumber(20)\n",
        "\n",
        "print(num1)  # Calls __str__, prints: CustomNumber(10)\n",
        "print(num2)  # Calls __str__, prints: CustomNumber(20)\n",
        "\n",
        "# Adding objects\n",
        "result = num1 + num2  # Calls __add__\n",
        "print(result)         # Prints: CustomNumber(30)"
      ],
      "metadata": {
        "colab": {
          "base_uri": "https://localhost:8080/"
        },
        "id": "A8SLNvTZUeb2",
        "outputId": "1fdee67c-9a70-4222-b41b-c8ab68a76053"
      },
      "execution_count": null,
      "outputs": [
        {
          "output_type": "stream",
          "name": "stdout",
          "text": [
            "CustomNumber(10)\n",
            "CustomNumber(20)\n",
            "CustomNumber(30)\n"
          ]
        }
      ]
    },
    {
      "cell_type": "markdown",
      "source": [
        "### **What These Methods Allow You to Do:**\n",
        "\n",
        "__str__:\n",
        "\n",
        "Makes your objects more readable and user-friendly when printed.\n",
        "Instead of <__main__.CustomNumber object at 0x...>, you see something meaningful like CustomNumber(10).\n",
        "\n",
        "__add__:\n",
        "\n",
        "Lets you use the + operator with objects of your class.\n",
        "For example, adding two CustomNumber objects directly combines their values into a new object."
      ],
      "metadata": {
        "id": "0G08RVcMVx3e"
      }
    },
    {
      "cell_type": "markdown",
      "source": [
        "# **12. Create a decorator that measures and prints the execution time of a function.**\n",
        "\n",
        "A **decorator** is a special function that you can use to add extra functionality to another function, without changing the original function. Here, we'll create a decorator to measure how long a function takes to run."
      ],
      "metadata": {
        "id": "HpEm4iQPWPVs"
      }
    },
    {
      "cell_type": "code",
      "source": [
        "import time\n",
        "\n",
        "# The decorator\n",
        "def measure_execution_time(func):\n",
        "    def wrapper(*args, **kwargs):\n",
        "        start_time = time.time()  # Record start time\n",
        "        result = func(*args, **kwargs)  # Call the original function\n",
        "        end_time = time.time()  # Record end time\n",
        "        execution_time = end_time - start_time\n",
        "        print(f\"Function '{func.__name__}' executed in {execution_time:.4f} seconds\")\n",
        "        return result  # Return the result of the original function\n",
        "    return wrapper\n",
        "\n",
        "# Using the decorator\n",
        "@measure_execution_time\n",
        "def sample_function():\n",
        "    time.sleep(2)  # Simulate a delay\n",
        "    print(\"Function is running\")\n",
        "\n",
        "# Example usage\n",
        "sample_function()"
      ],
      "metadata": {
        "colab": {
          "base_uri": "https://localhost:8080/"
        },
        "id": "bfgD5MF7VsEB",
        "outputId": "2dc89e9f-fb99-46a7-d131-aaa3133eb1e7"
      },
      "execution_count": null,
      "outputs": [
        {
          "output_type": "stream",
          "name": "stdout",
          "text": [
            "Function is running\n",
            "Function 'sample_function' executed in 2.0032 seconds\n"
          ]
        }
      ]
    },
    {
      "cell_type": "markdown",
      "source": [
        "### **How It Works:**\n",
        "\n",
        "**The Decorator Function:**\n",
        "\n",
        "measure_execution_time is a decorator that takes a function as input.\n",
        "Inside, it defines a wrapper function that measures the time before and after the original function runs.\n",
        "\n",
        "**Using the Decorator:**\n",
        "\n",
        "The @measure_execution_time line applies the decorator to sample_function.\n",
        "\n",
        "**What Happens:**\n",
        "\n",
        "When sample_function() is called, the decorator measures how long it takes to run and prints the time."
      ],
      "metadata": {
        "id": "XybUpOoTWhGv"
      }
    },
    {
      "cell_type": "markdown",
      "source": [
        "# **13. Explain the concept of the Diamond Problem in multiple inheritance. How does Python resolve it ?**\n",
        "\n",
        "The **Diamond Problem** happens in multiple inheritance when a class inherits from two parent classes that have a common ancestor. This creates a \"diamond-shaped\" inheritance structure. The issue is which method or attribute should the child class use if the same method or attribute exists in the common ancestor.\n",
        "\n",
        "**Diamond Problem Example:**\n",
        "Imagine this structure:\n",
        "\n",
        "ClassA is the top (common) ancestor.\n",
        "ClassB and ClassC inherit from ClassA.\n",
        "ClassD inherits from both ClassB and ClassC.\n",
        "The question:\n",
        "If ClassD calls a method that exists in ClassA, should it use the method from ClassB, ClassC, or directly from ClassA?\n",
        "\n",
        "**How Python Resolves It:**\n",
        "\n",
        "Python resolves the Diamond Problem using Method Resolution Order (MRO) and the C3 Linearization Algorithm:\n",
        "\n",
        "1. MRO creates a consistent order in which Python looks for methods in the inheritance hierarchy.\n",
        "\n",
        "2. he child class (ClassD) will first check:\n",
        "Its own methods.\n",
        "Then the methods of ClassB.\n",
        "Then the methods of ClassC.\n",
        "Finally, the methods of ClassA.\n",
        "\n",
        "\n",
        "###**Example in Python:**"
      ],
      "metadata": {
        "id": "_KCsb-_-Wtj8"
      }
    },
    {
      "cell_type": "code",
      "source": [
        "class A:\n",
        "    def show(self):\n",
        "        print(\"Method from ClassA\")\n",
        "\n",
        "class B(A):\n",
        "    def show(self):\n",
        "        print(\"Method from ClassB\")\n",
        "\n",
        "class C(A):\n",
        "    def show(self):\n",
        "        print(\"Method from ClassC\")\n",
        "\n",
        "class D(B, C):  # Multiple inheritance\n",
        "    pass\n",
        "\n",
        "# Example usage\n",
        "obj = D()\n",
        "obj.show()  # Resolves based on MRO\n",
        "print(D.mro())  # Prints the method resolution order"
      ],
      "metadata": {
        "colab": {
          "base_uri": "https://localhost:8080/"
        },
        "id": "N8L_ZiEEXfsv",
        "outputId": "df161ff0-def0-4e7e-c16f-abebe6f53f48"
      },
      "execution_count": null,
      "outputs": [
        {
          "output_type": "stream",
          "name": "stdout",
          "text": [
            "Method from ClassB\n",
            "[<class '__main__.D'>, <class '__main__.B'>, <class '__main__.C'>, <class '__main__.A'>, <class 'object'>]\n"
          ]
        }
      ]
    },
    {
      "cell_type": "markdown",
      "source": [
        "# **14. Write a class method that keeps track of the number of instances created from a class.**\n",
        "\n",
        "### **Explanation in Simple Terms:**\n",
        "\n",
        "A **class method** works with the class itself, not individual objects (instances). You can use it to keep track of how many objects have been created from a class.\n",
        "\n",
        "### **How It Works:**\n",
        "\n",
        "**1. Class Variable**:\n",
        "   - `instance_count` is a class variable shared by all objects of the class.\n",
        "   - It starts at `0`.\n",
        "\n",
        "**2. Incrementing Count**:\n",
        "   - The `__init__` method runs whenever a new object is created.\n",
        "   - Each time, it increases `instance_count` by `1`.\n",
        "\n",
        "**3. Class Method**:\n",
        "   - The `get_instance_count` method is a class method.\n",
        "   - It uses `@classmethod` and takes `cls` (the class itself) as a parameter.\n",
        "   - It returns the current value of `instance_count`.\n",
        "\n",
        "**4. Usage**:\n",
        "   - Every time you create a new object, the count goes up.\n",
        "   - You can check the total count by calling `get_instance_count`."
      ],
      "metadata": {
        "id": "JK7FQpTiXpE3"
      }
    },
    {
      "cell_type": "code",
      "source": [
        "class MyClass:\n",
        "    instance_count = 0  # Class-level variable to track instances\n",
        "\n",
        "    def __init__(self):\n",
        "        MyClass.instance_count += 1  # Increase count whenever an object is created\n",
        "\n",
        "    @classmethod\n",
        "    def get_instance_count(cls):\n",
        "        return cls.instance_count  # Access the class variable\n",
        "\n",
        "# Example usage\n",
        "obj1 = MyClass()  # First instance\n",
        "obj2 = MyClass()  # Second instance\n",
        "obj3 = MyClass()  # Third instance\n",
        "\n",
        "print(MyClass.get_instance_count())  # Output: 3"
      ],
      "metadata": {
        "colab": {
          "base_uri": "https://localhost:8080/"
        },
        "id": "SzyMOChhXjw4",
        "outputId": "b6959896-8f57-48fb-c2c9-acac153a1f2c"
      },
      "execution_count": null,
      "outputs": [
        {
          "output_type": "stream",
          "name": "stdout",
          "text": [
            "3\n"
          ]
        }
      ]
    },
    {
      "cell_type": "markdown",
      "source": [
        "# **15. Implement a static method in a class that checks if a given year is a leap year.**\n",
        "\n",
        "A **static method** is a method that doesn’t depend on the class or its objects. It doesn’t use `self` (for objects) or `cls` (for the class). You can call it directly from the class without creating an object.\n",
        "\n",
        "Here, we’ll create a static method to check if a given year is a leap year.\n",
        "\n",
        "### **How It Works:**\n",
        "\n",
        "1. **Static Method**:\n",
        "   - `@staticmethod` is used to define the method.\n",
        "   - It doesn’t use `self` or `cls` because it works independently of the class or its instances.\n",
        "\n",
        "2. **Leap Year Logic**:\n",
        "   - A year is a leap year if:\n",
        "     - It is divisible by 4 **and** not divisible by 100.  \n",
        "     - Or, it is divisible by 400.\n",
        "\n",
        "3. **Usage**:\n",
        "   - You can call `is_leap_year` directly from the class without creating an object.\n",
        "\n",
        "4. **Output**:\n",
        "   - For 2024: `True` because it’s a leap year.\n",
        "   - For 2023: `False` because it’s not a leap year."
      ],
      "metadata": {
        "id": "li6BQDoCYxgH"
      }
    },
    {
      "cell_type": "code",
      "source": [
        "class YearChecker:\n",
        "    @staticmethod\n",
        "    def is_leap_year(year):\n",
        "        if (year % 4 == 0 and year % 100 != 0) or (year % 400 == 0):\n",
        "            return True\n",
        "        return False\n",
        "\n",
        "# Example usage\n",
        "print(YearChecker.is_leap_year(2024))  # Output: True (Leap year)\n",
        "print(YearChecker.is_leap_year(2023))  # Output: False (Not a leap year)"
      ],
      "metadata": {
        "colab": {
          "base_uri": "https://localhost:8080/"
        },
        "id": "vVDOjo-AYf1o",
        "outputId": "589a6e74-b265-41e2-e12d-dec871785854"
      },
      "execution_count": null,
      "outputs": [
        {
          "output_type": "stream",
          "name": "stdout",
          "text": [
            "True\n",
            "False\n"
          ]
        }
      ]
    },
    {
      "cell_type": "code",
      "source": [],
      "metadata": {
        "id": "b3zCEih7ZQ7F"
      },
      "execution_count": null,
      "outputs": []
    }
  ]
}