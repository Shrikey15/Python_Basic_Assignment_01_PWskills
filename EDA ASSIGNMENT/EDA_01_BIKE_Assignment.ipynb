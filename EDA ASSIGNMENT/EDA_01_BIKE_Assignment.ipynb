{
 "cells": [
  {
   "cell_type": "code",
   "execution_count": 64,
   "id": "d294d5dc-5e2e-4938-a750-9ea0990ac4e5",
   "metadata": {},
   "outputs": [],
   "source": [
    "import pandas as pd\n",
    "import numpy as np \n",
    "import matplotlib.pyplot as plt\n",
    "import seaborn as sns\n",
    "\n",
    "import warnings\n",
    "warnings.filterwarnings(\"ignore\")"
   ]
  },
  {
   "cell_type": "code",
   "execution_count": 65,
   "id": "a021aef9-022c-46e0-8e8e-d71445d1c53b",
   "metadata": {},
   "outputs": [],
   "source": [
    "dataframe = pd.read_csv(\"BIKE DETAILS.csv\")"
   ]
  },
  {
   "cell_type": "code",
   "execution_count": 66,
   "id": "30d1f3b1-73f8-4704-9e7d-19fd2c2fa2da",
   "metadata": {},
   "outputs": [],
   "source": [
    "df = dataframe"
   ]
  },
  {
   "cell_type": "code",
   "execution_count": 67,
   "id": "41e1109f-491a-4ace-bcf7-e06d76ab01e1",
   "metadata": {},
   "outputs": [
    {
     "data": {
      "text/html": [
       "<div>\n",
       "<style scoped>\n",
       "    .dataframe tbody tr th:only-of-type {\n",
       "        vertical-align: middle;\n",
       "    }\n",
       "\n",
       "    .dataframe tbody tr th {\n",
       "        vertical-align: top;\n",
       "    }\n",
       "\n",
       "    .dataframe thead th {\n",
       "        text-align: right;\n",
       "    }\n",
       "</style>\n",
       "<table border=\"1\" class=\"dataframe\">\n",
       "  <thead>\n",
       "    <tr style=\"text-align: right;\">\n",
       "      <th></th>\n",
       "      <th>name</th>\n",
       "      <th>selling_price</th>\n",
       "      <th>year</th>\n",
       "      <th>seller_type</th>\n",
       "      <th>owner</th>\n",
       "      <th>km_driven</th>\n",
       "      <th>ex_showroom_price</th>\n",
       "    </tr>\n",
       "  </thead>\n",
       "  <tbody>\n",
       "    <tr>\n",
       "      <th>0</th>\n",
       "      <td>Royal Enfield Classic 350</td>\n",
       "      <td>175000</td>\n",
       "      <td>2019</td>\n",
       "      <td>Individual</td>\n",
       "      <td>1st owner</td>\n",
       "      <td>350</td>\n",
       "      <td>NaN</td>\n",
       "    </tr>\n",
       "    <tr>\n",
       "      <th>1</th>\n",
       "      <td>Honda Dio</td>\n",
       "      <td>45000</td>\n",
       "      <td>2017</td>\n",
       "      <td>Individual</td>\n",
       "      <td>1st owner</td>\n",
       "      <td>5650</td>\n",
       "      <td>NaN</td>\n",
       "    </tr>\n",
       "    <tr>\n",
       "      <th>2</th>\n",
       "      <td>Royal Enfield Classic Gunmetal Grey</td>\n",
       "      <td>150000</td>\n",
       "      <td>2018</td>\n",
       "      <td>Individual</td>\n",
       "      <td>1st owner</td>\n",
       "      <td>12000</td>\n",
       "      <td>148114.0</td>\n",
       "    </tr>\n",
       "    <tr>\n",
       "      <th>3</th>\n",
       "      <td>Yamaha Fazer FI V 2.0 [2016-2018]</td>\n",
       "      <td>65000</td>\n",
       "      <td>2015</td>\n",
       "      <td>Individual</td>\n",
       "      <td>1st owner</td>\n",
       "      <td>23000</td>\n",
       "      <td>89643.0</td>\n",
       "    </tr>\n",
       "    <tr>\n",
       "      <th>4</th>\n",
       "      <td>Yamaha SZ [2013-2014]</td>\n",
       "      <td>20000</td>\n",
       "      <td>2011</td>\n",
       "      <td>Individual</td>\n",
       "      <td>2nd owner</td>\n",
       "      <td>21000</td>\n",
       "      <td>NaN</td>\n",
       "    </tr>\n",
       "    <tr>\n",
       "      <th>...</th>\n",
       "      <td>...</td>\n",
       "      <td>...</td>\n",
       "      <td>...</td>\n",
       "      <td>...</td>\n",
       "      <td>...</td>\n",
       "      <td>...</td>\n",
       "      <td>...</td>\n",
       "    </tr>\n",
       "    <tr>\n",
       "      <th>1056</th>\n",
       "      <td>Activa 3g</td>\n",
       "      <td>17000</td>\n",
       "      <td>2010</td>\n",
       "      <td>Individual</td>\n",
       "      <td>1st owner</td>\n",
       "      <td>500000</td>\n",
       "      <td>52000.0</td>\n",
       "    </tr>\n",
       "    <tr>\n",
       "      <th>1057</th>\n",
       "      <td>Honda CB twister</td>\n",
       "      <td>16000</td>\n",
       "      <td>2012</td>\n",
       "      <td>Individual</td>\n",
       "      <td>1st owner</td>\n",
       "      <td>33000</td>\n",
       "      <td>51000.0</td>\n",
       "    </tr>\n",
       "    <tr>\n",
       "      <th>1058</th>\n",
       "      <td>Bajaj Discover 125</td>\n",
       "      <td>15000</td>\n",
       "      <td>2013</td>\n",
       "      <td>Individual</td>\n",
       "      <td>2nd owner</td>\n",
       "      <td>35000</td>\n",
       "      <td>57000.0</td>\n",
       "    </tr>\n",
       "    <tr>\n",
       "      <th>1059</th>\n",
       "      <td>Honda CB Shine</td>\n",
       "      <td>12000</td>\n",
       "      <td>2009</td>\n",
       "      <td>Individual</td>\n",
       "      <td>1st owner</td>\n",
       "      <td>53000</td>\n",
       "      <td>58000.0</td>\n",
       "    </tr>\n",
       "    <tr>\n",
       "      <th>1060</th>\n",
       "      <td>Bajaj Pulsar 150</td>\n",
       "      <td>10000</td>\n",
       "      <td>2008</td>\n",
       "      <td>Individual</td>\n",
       "      <td>1st owner</td>\n",
       "      <td>92233</td>\n",
       "      <td>75000.0</td>\n",
       "    </tr>\n",
       "  </tbody>\n",
       "</table>\n",
       "<p>1061 rows × 7 columns</p>\n",
       "</div>"
      ],
      "text/plain": [
       "                                     name  selling_price  year seller_type  \\\n",
       "0               Royal Enfield Classic 350         175000  2019  Individual   \n",
       "1                               Honda Dio          45000  2017  Individual   \n",
       "2     Royal Enfield Classic Gunmetal Grey         150000  2018  Individual   \n",
       "3       Yamaha Fazer FI V 2.0 [2016-2018]          65000  2015  Individual   \n",
       "4                   Yamaha SZ [2013-2014]          20000  2011  Individual   \n",
       "...                                   ...            ...   ...         ...   \n",
       "1056                            Activa 3g          17000  2010  Individual   \n",
       "1057                     Honda CB twister          16000  2012  Individual   \n",
       "1058                   Bajaj Discover 125          15000  2013  Individual   \n",
       "1059                       Honda CB Shine          12000  2009  Individual   \n",
       "1060                     Bajaj Pulsar 150          10000  2008  Individual   \n",
       "\n",
       "          owner  km_driven  ex_showroom_price  \n",
       "0     1st owner        350                NaN  \n",
       "1     1st owner       5650                NaN  \n",
       "2     1st owner      12000           148114.0  \n",
       "3     1st owner      23000            89643.0  \n",
       "4     2nd owner      21000                NaN  \n",
       "...         ...        ...                ...  \n",
       "1056  1st owner     500000            52000.0  \n",
       "1057  1st owner      33000            51000.0  \n",
       "1058  2nd owner      35000            57000.0  \n",
       "1059  1st owner      53000            58000.0  \n",
       "1060  1st owner      92233            75000.0  \n",
       "\n",
       "[1061 rows x 7 columns]"
      ]
     },
     "execution_count": 67,
     "metadata": {},
     "output_type": "execute_result"
    }
   ],
   "source": [
    "df"
   ]
  },
  {
   "cell_type": "code",
   "execution_count": 68,
   "id": "253b0d33-8c46-4c19-987f-534d666c102b",
   "metadata": {},
   "outputs": [
    {
     "name": "stdout",
     "output_type": "stream",
     "text": [
      "<class 'pandas.core.frame.DataFrame'>\n",
      "RangeIndex: 1061 entries, 0 to 1060\n",
      "Data columns (total 7 columns):\n",
      " #   Column             Non-Null Count  Dtype  \n",
      "---  ------             --------------  -----  \n",
      " 0   name               1061 non-null   object \n",
      " 1   selling_price      1061 non-null   int64  \n",
      " 2   year               1061 non-null   int64  \n",
      " 3   seller_type        1061 non-null   object \n",
      " 4   owner              1061 non-null   object \n",
      " 5   km_driven          1061 non-null   int64  \n",
      " 6   ex_showroom_price  626 non-null    float64\n",
      "dtypes: float64(1), int64(3), object(3)\n",
      "memory usage: 58.2+ KB\n"
     ]
    }
   ],
   "source": [
    "df.info()"
   ]
  },
  {
   "cell_type": "code",
   "execution_count": 69,
   "id": "7c46b13e-0b45-4b7a-9d8a-84f2eb87245b",
   "metadata": {},
   "outputs": [
    {
     "data": {
      "text/plain": [
       "(1061, 7)"
      ]
     },
     "execution_count": 69,
     "metadata": {},
     "output_type": "execute_result"
    }
   ],
   "source": [
    "df.shape\n"
   ]
  },
  {
   "cell_type": "code",
   "execution_count": 70,
   "id": "7a7946f8-0863-4855-868e-aefaecbcff12",
   "metadata": {},
   "outputs": [
    {
     "data": {
      "text/plain": [
       "name                  object\n",
       "selling_price          int64\n",
       "year                   int64\n",
       "seller_type           object\n",
       "owner                 object\n",
       "km_driven              int64\n",
       "ex_showroom_price    float64\n",
       "dtype: object"
      ]
     },
     "execution_count": 70,
     "metadata": {},
     "output_type": "execute_result"
    }
   ],
   "source": [
    "df.dtypes"
   ]
  },
  {
   "cell_type": "code",
   "execution_count": 71,
   "id": "9d40330b-1656-4dba-a4d4-8a3f2d947616",
   "metadata": {},
   "outputs": [
    {
     "data": {
      "text/html": [
       "<div>\n",
       "<style scoped>\n",
       "    .dataframe tbody tr th:only-of-type {\n",
       "        vertical-align: middle;\n",
       "    }\n",
       "\n",
       "    .dataframe tbody tr th {\n",
       "        vertical-align: top;\n",
       "    }\n",
       "\n",
       "    .dataframe thead th {\n",
       "        text-align: right;\n",
       "    }\n",
       "</style>\n",
       "<table border=\"1\" class=\"dataframe\">\n",
       "  <thead>\n",
       "    <tr style=\"text-align: right;\">\n",
       "      <th></th>\n",
       "      <th>name</th>\n",
       "      <th>selling_price</th>\n",
       "      <th>year</th>\n",
       "      <th>seller_type</th>\n",
       "      <th>owner</th>\n",
       "      <th>km_driven</th>\n",
       "      <th>ex_showroom_price</th>\n",
       "    </tr>\n",
       "  </thead>\n",
       "  <tbody>\n",
       "    <tr>\n",
       "      <th>0</th>\n",
       "      <td>Royal Enfield Classic 350</td>\n",
       "      <td>175000</td>\n",
       "      <td>2019</td>\n",
       "      <td>Individual</td>\n",
       "      <td>1st owner</td>\n",
       "      <td>350</td>\n",
       "      <td>NaN</td>\n",
       "    </tr>\n",
       "    <tr>\n",
       "      <th>1</th>\n",
       "      <td>Honda Dio</td>\n",
       "      <td>45000</td>\n",
       "      <td>2017</td>\n",
       "      <td>Individual</td>\n",
       "      <td>1st owner</td>\n",
       "      <td>5650</td>\n",
       "      <td>NaN</td>\n",
       "    </tr>\n",
       "    <tr>\n",
       "      <th>2</th>\n",
       "      <td>Royal Enfield Classic Gunmetal Grey</td>\n",
       "      <td>150000</td>\n",
       "      <td>2018</td>\n",
       "      <td>Individual</td>\n",
       "      <td>1st owner</td>\n",
       "      <td>12000</td>\n",
       "      <td>148114.0</td>\n",
       "    </tr>\n",
       "    <tr>\n",
       "      <th>3</th>\n",
       "      <td>Yamaha Fazer FI V 2.0 [2016-2018]</td>\n",
       "      <td>65000</td>\n",
       "      <td>2015</td>\n",
       "      <td>Individual</td>\n",
       "      <td>1st owner</td>\n",
       "      <td>23000</td>\n",
       "      <td>89643.0</td>\n",
       "    </tr>\n",
       "    <tr>\n",
       "      <th>4</th>\n",
       "      <td>Yamaha SZ [2013-2014]</td>\n",
       "      <td>20000</td>\n",
       "      <td>2011</td>\n",
       "      <td>Individual</td>\n",
       "      <td>2nd owner</td>\n",
       "      <td>21000</td>\n",
       "      <td>NaN</td>\n",
       "    </tr>\n",
       "  </tbody>\n",
       "</table>\n",
       "</div>"
      ],
      "text/plain": [
       "                                  name  selling_price  year seller_type  \\\n",
       "0            Royal Enfield Classic 350         175000  2019  Individual   \n",
       "1                            Honda Dio          45000  2017  Individual   \n",
       "2  Royal Enfield Classic Gunmetal Grey         150000  2018  Individual   \n",
       "3    Yamaha Fazer FI V 2.0 [2016-2018]          65000  2015  Individual   \n",
       "4                Yamaha SZ [2013-2014]          20000  2011  Individual   \n",
       "\n",
       "       owner  km_driven  ex_showroom_price  \n",
       "0  1st owner        350                NaN  \n",
       "1  1st owner       5650                NaN  \n",
       "2  1st owner      12000           148114.0  \n",
       "3  1st owner      23000            89643.0  \n",
       "4  2nd owner      21000                NaN  "
      ]
     },
     "execution_count": 71,
     "metadata": {},
     "output_type": "execute_result"
    }
   ],
   "source": [
    "df.head()"
   ]
  },
  {
   "cell_type": "markdown",
   "id": "9640421e-2fc6-4075-a1f9-e1314e313440",
   "metadata": {},
   "source": [
    "df.duplicated()"
   ]
  },
  {
   "cell_type": "code",
   "execution_count": 72,
   "id": "8c699b02-34a9-46dd-b7b5-3c7dca693ced",
   "metadata": {},
   "outputs": [
    {
     "data": {
      "text/plain": [
       "np.int64(6)"
      ]
     },
     "execution_count": 72,
     "metadata": {},
     "output_type": "execute_result"
    }
   ],
   "source": [
    "df.duplicated().sum()"
   ]
  },
  {
   "cell_type": "code",
   "execution_count": 73,
   "id": "56bf801e-3911-4bed-b6ef-4e60223d3893",
   "metadata": {},
   "outputs": [
    {
     "data": {
      "text/html": [
       "<div>\n",
       "<style scoped>\n",
       "    .dataframe tbody tr th:only-of-type {\n",
       "        vertical-align: middle;\n",
       "    }\n",
       "\n",
       "    .dataframe tbody tr th {\n",
       "        vertical-align: top;\n",
       "    }\n",
       "\n",
       "    .dataframe thead th {\n",
       "        text-align: right;\n",
       "    }\n",
       "</style>\n",
       "<table border=\"1\" class=\"dataframe\">\n",
       "  <thead>\n",
       "    <tr style=\"text-align: right;\">\n",
       "      <th></th>\n",
       "      <th>name</th>\n",
       "      <th>selling_price</th>\n",
       "      <th>year</th>\n",
       "      <th>seller_type</th>\n",
       "      <th>owner</th>\n",
       "      <th>km_driven</th>\n",
       "      <th>ex_showroom_price</th>\n",
       "    </tr>\n",
       "  </thead>\n",
       "  <tbody>\n",
       "    <tr>\n",
       "      <th>0</th>\n",
       "      <td>Royal Enfield Classic 350</td>\n",
       "      <td>175000</td>\n",
       "      <td>2019</td>\n",
       "      <td>Individual</td>\n",
       "      <td>1st owner</td>\n",
       "      <td>350</td>\n",
       "      <td>NaN</td>\n",
       "    </tr>\n",
       "    <tr>\n",
       "      <th>1</th>\n",
       "      <td>Honda Dio</td>\n",
       "      <td>45000</td>\n",
       "      <td>2017</td>\n",
       "      <td>Individual</td>\n",
       "      <td>1st owner</td>\n",
       "      <td>5650</td>\n",
       "      <td>NaN</td>\n",
       "    </tr>\n",
       "    <tr>\n",
       "      <th>2</th>\n",
       "      <td>Royal Enfield Classic Gunmetal Grey</td>\n",
       "      <td>150000</td>\n",
       "      <td>2018</td>\n",
       "      <td>Individual</td>\n",
       "      <td>1st owner</td>\n",
       "      <td>12000</td>\n",
       "      <td>148114.0</td>\n",
       "    </tr>\n",
       "    <tr>\n",
       "      <th>3</th>\n",
       "      <td>Yamaha Fazer FI V 2.0 [2016-2018]</td>\n",
       "      <td>65000</td>\n",
       "      <td>2015</td>\n",
       "      <td>Individual</td>\n",
       "      <td>1st owner</td>\n",
       "      <td>23000</td>\n",
       "      <td>89643.0</td>\n",
       "    </tr>\n",
       "    <tr>\n",
       "      <th>4</th>\n",
       "      <td>Yamaha SZ [2013-2014]</td>\n",
       "      <td>20000</td>\n",
       "      <td>2011</td>\n",
       "      <td>Individual</td>\n",
       "      <td>2nd owner</td>\n",
       "      <td>21000</td>\n",
       "      <td>NaN</td>\n",
       "    </tr>\n",
       "    <tr>\n",
       "      <th>...</th>\n",
       "      <td>...</td>\n",
       "      <td>...</td>\n",
       "      <td>...</td>\n",
       "      <td>...</td>\n",
       "      <td>...</td>\n",
       "      <td>...</td>\n",
       "      <td>...</td>\n",
       "    </tr>\n",
       "    <tr>\n",
       "      <th>1050</th>\n",
       "      <td>Activa 3g</td>\n",
       "      <td>17000</td>\n",
       "      <td>2010</td>\n",
       "      <td>Individual</td>\n",
       "      <td>1st owner</td>\n",
       "      <td>500000</td>\n",
       "      <td>52000.0</td>\n",
       "    </tr>\n",
       "    <tr>\n",
       "      <th>1051</th>\n",
       "      <td>Honda CB twister</td>\n",
       "      <td>16000</td>\n",
       "      <td>2012</td>\n",
       "      <td>Individual</td>\n",
       "      <td>1st owner</td>\n",
       "      <td>33000</td>\n",
       "      <td>51000.0</td>\n",
       "    </tr>\n",
       "    <tr>\n",
       "      <th>1052</th>\n",
       "      <td>Bajaj Discover 125</td>\n",
       "      <td>15000</td>\n",
       "      <td>2013</td>\n",
       "      <td>Individual</td>\n",
       "      <td>2nd owner</td>\n",
       "      <td>35000</td>\n",
       "      <td>57000.0</td>\n",
       "    </tr>\n",
       "    <tr>\n",
       "      <th>1053</th>\n",
       "      <td>Honda CB Shine</td>\n",
       "      <td>12000</td>\n",
       "      <td>2009</td>\n",
       "      <td>Individual</td>\n",
       "      <td>1st owner</td>\n",
       "      <td>53000</td>\n",
       "      <td>58000.0</td>\n",
       "    </tr>\n",
       "    <tr>\n",
       "      <th>1054</th>\n",
       "      <td>Bajaj Pulsar 150</td>\n",
       "      <td>10000</td>\n",
       "      <td>2008</td>\n",
       "      <td>Individual</td>\n",
       "      <td>1st owner</td>\n",
       "      <td>92233</td>\n",
       "      <td>75000.0</td>\n",
       "    </tr>\n",
       "  </tbody>\n",
       "</table>\n",
       "<p>1055 rows × 7 columns</p>\n",
       "</div>"
      ],
      "text/plain": [
       "                                     name  selling_price  year seller_type  \\\n",
       "0               Royal Enfield Classic 350         175000  2019  Individual   \n",
       "1                               Honda Dio          45000  2017  Individual   \n",
       "2     Royal Enfield Classic Gunmetal Grey         150000  2018  Individual   \n",
       "3       Yamaha Fazer FI V 2.0 [2016-2018]          65000  2015  Individual   \n",
       "4                   Yamaha SZ [2013-2014]          20000  2011  Individual   \n",
       "...                                   ...            ...   ...         ...   \n",
       "1050                            Activa 3g          17000  2010  Individual   \n",
       "1051                     Honda CB twister          16000  2012  Individual   \n",
       "1052                   Bajaj Discover 125          15000  2013  Individual   \n",
       "1053                       Honda CB Shine          12000  2009  Individual   \n",
       "1054                     Bajaj Pulsar 150          10000  2008  Individual   \n",
       "\n",
       "          owner  km_driven  ex_showroom_price  \n",
       "0     1st owner        350                NaN  \n",
       "1     1st owner       5650                NaN  \n",
       "2     1st owner      12000           148114.0  \n",
       "3     1st owner      23000            89643.0  \n",
       "4     2nd owner      21000                NaN  \n",
       "...         ...        ...                ...  \n",
       "1050  1st owner     500000            52000.0  \n",
       "1051  1st owner      33000            51000.0  \n",
       "1052  2nd owner      35000            57000.0  \n",
       "1053  1st owner      53000            58000.0  \n",
       "1054  1st owner      92233            75000.0  \n",
       "\n",
       "[1055 rows x 7 columns]"
      ]
     },
     "execution_count": 73,
     "metadata": {},
     "output_type": "execute_result"
    }
   ],
   "source": [
    "df.drop_duplicates().reset_index(drop = True)"
   ]
  },
  {
   "cell_type": "code",
   "execution_count": 74,
   "id": "00ce8f8a-215b-470c-9cb4-c90066e47926",
   "metadata": {},
   "outputs": [
    {
     "data": {
      "text/plain": [
       "Index(['name', 'selling_price', 'year', 'seller_type', 'owner', 'km_driven',\n",
       "       'ex_showroom_price'],\n",
       "      dtype='object')"
      ]
     },
     "execution_count": 74,
     "metadata": {},
     "output_type": "execute_result"
    }
   ],
   "source": [
    "df.columns"
   ]
  },
  {
   "cell_type": "code",
   "execution_count": 75,
   "id": "9ee207c0-872d-4faa-9f35-a6132aa9c339",
   "metadata": {},
   "outputs": [
    {
     "data": {
      "text/plain": [
       "name                   0\n",
       "selling_price          0\n",
       "year                   0\n",
       "seller_type            0\n",
       "owner                  0\n",
       "km_driven              0\n",
       "ex_showroom_price    435\n",
       "dtype: int64"
      ]
     },
     "execution_count": 75,
     "metadata": {},
     "output_type": "execute_result"
    }
   ],
   "source": [
    "df.isnull().sum()"
   ]
  },
  {
   "cell_type": "markdown",
   "id": "d358564f-3bd1-4150-aef1-641a390fda7d",
   "metadata": {},
   "source": [
    "#### df.ex_showroom_price.unique()\n",
    "\n",
    "# This null values, we'll be handling at later stage when, will get to understand SLR and MLR."
   ]
  },
  {
   "cell_type": "code",
   "execution_count": null,
   "id": "0da7fdf9-c26f-4788-92b0-56521f8aefe2",
   "metadata": {},
   "outputs": [],
   "source": []
  },
  {
   "cell_type": "code",
   "execution_count": null,
   "id": "ad87f260-090f-4ada-bc0d-73cd8f20d25f",
   "metadata": {},
   "outputs": [],
   "source": []
  },
  {
   "cell_type": "code",
   "execution_count": 76,
   "id": "9c2767c3-0d50-4954-8dbe-c820c0f8397f",
   "metadata": {},
   "outputs": [
    {
     "name": "stdout",
     "output_type": "stream",
     "text": [
      "Range of selling price is: \n",
      " 755000\n"
     ]
    }
   ],
   "source": [
    "# 1.What is the range of selling prices in the dataset?\n",
    "selling_price_max = df[\"selling_price\"].max()\n",
    "selling_price_min = df[\"selling_price\"].min()\n",
    "\n",
    "selling_price_range = selling_price_max - selling_price_min\n",
    "print(\"Range of selling price is: \\n\", selling_price_range)"
   ]
  },
  {
   "cell_type": "code",
   "execution_count": null,
   "id": "1b4980d8-0b47-41af-8a96-7b4e3daf980b",
   "metadata": {},
   "outputs": [],
   "source": []
  },
  {
   "cell_type": "code",
   "execution_count": 77,
   "id": "45141cbf-31fd-49ed-a145-00dfda38c4a5",
   "metadata": {},
   "outputs": [
    {
     "name": "stdout",
     "output_type": "stream",
     "text": [
      "Median selling price for bikes in the dataset is:\n",
      "45000.0\n"
     ]
    }
   ],
   "source": [
    "# 2.What is the median selling price for bikes in the dataset?\n",
    "median_of_selling_price = df['selling_price'].median()\n",
    "print(f\"Median selling price for bikes in the dataset is:\\n{median_of_selling_price}\")"
   ]
  },
  {
   "cell_type": "code",
   "execution_count": null,
   "id": "198ff8d7-644f-4a8f-a916-8c72f798c78b",
   "metadata": {},
   "outputs": [],
   "source": []
  },
  {
   "cell_type": "code",
   "execution_count": 78,
   "id": "83f2ed03-32b2-473c-9022-bd2841171138",
   "metadata": {},
   "outputs": [
    {
     "name": "stdout",
     "output_type": "stream",
     "text": [
      "The most common sellter type in the dataset is:\n",
      "Individual\n"
     ]
    }
   ],
   "source": [
    "# 3.What is the most common sellter type?\n",
    "\n",
    "common_seller = df.seller_type.mode().iloc[0]\n",
    "print(f\"The most common sellter type in the dataset is:\\n{common_seller}\")"
   ]
  },
  {
   "cell_type": "code",
   "execution_count": null,
   "id": "aa877606-3abd-47cc-8f90-7cf0f2c026f9",
   "metadata": {},
   "outputs": [],
   "source": []
  },
  {
   "cell_type": "code",
   "execution_count": 91,
   "id": "b9998f6e-1d69-4b95-b257-893cc9ee4eeb",
   "metadata": {},
   "outputs": [
    {
     "name": "stdout",
     "output_type": "stream",
     "text": [
      "170 bikers are driven more than 50,000 in the dataset.\n"
     ]
    }
   ],
   "source": [
    "# 4.How many bikes have driven more than 50,000 kilometers?\n",
    "km_driven_more_than_fifty_thousand = (df.km_driven > 50000).sum()\n",
    "print(f\"{km_driven_more_than_fifty_thousand} bikers are driven more than 50,000 in the dataset.\")"
   ]
  },
  {
   "cell_type": "code",
   "execution_count": null,
   "id": "5675b749-29c9-4562-b7b7-b0c3978ec832",
   "metadata": {},
   "outputs": [],
   "source": []
  },
  {
   "cell_type": "code",
   "execution_count": 92,
   "id": "f16fc24b-dbce-49a1-aea6-6d174700472e",
   "metadata": {},
   "outputs": [
    {
     "name": "stdout",
     "output_type": "stream",
     "text": [
      "Average km_values for each ownership type is:\n",
      " owner\n",
      "1st owner     32816.58\n",
      "2nd owner     39288.99\n",
      "3rd owner     33292.18\n",
      "4th owner    311500.00\n",
      "Name: km_driven, dtype: float64\n"
     ]
    }
   ],
   "source": [
    "# 5.What is the average km_driven value for each ownership type\n",
    "ownership_average_km_driven = round(df.groupby(\"owner\")[\"km_driven\"].mean(), 2)\n",
    "print(f\"Average km_values for each ownership type is:\\n\", ownership_average_km_driven)\n",
    "\n"
   ]
  },
  {
   "cell_type": "code",
   "execution_count": null,
   "id": "667ec7a1-d7ee-4161-9cfa-83d5d39d980e",
   "metadata": {},
   "outputs": [],
   "source": []
  },
  {
   "cell_type": "code",
   "execution_count": 81,
   "id": "1fa0d342-027b-423c-8b38-e61703d24d5a",
   "metadata": {},
   "outputs": [
    {
     "name": "stdout",
     "output_type": "stream",
     "text": [
      "What proportion of bikes are from the year 2015 or older\n",
      "56.64% of the bikes are from 2015 or older\n"
     ]
    }
   ],
   "source": [
    "# 6.What proportion of bikes are from the year 2015 or older\n",
    "proportion_of_2015_or_earlier = round((df.year <= 2015).mean()*100, 2)\n",
    "print(\"What proportion of bikes are from the year 2015 or older\")\n",
    "print(f\"{proportion_of_2015_or_earlier}% of the bikes are from 2015 or older\")"
   ]
  },
  {
   "cell_type": "code",
   "execution_count": null,
   "id": "afe76e1a-8d67-42e0-9fd0-3c8b5c209efa",
   "metadata": {},
   "outputs": [],
   "source": []
  },
  {
   "cell_type": "code",
   "execution_count": 95,
   "id": "f8f91fcb-f37e-4ed8-bf0e-6895311fc300",
   "metadata": {},
   "outputs": [
    {
     "name": "stdout",
     "output_type": "stream",
     "text": [
      "\n",
      "Missing value trends across the dataset is: \n",
      "name                  0.000000\n",
      "selling_price         0.000000\n",
      "year                  0.000000\n",
      "seller_type           0.000000\n",
      "owner                 0.000000\n",
      "km_driven             0.000000\n",
      "ex_showroom_price    40.999057\n",
      "dtype: float64\n",
      "Only ex_showroom_price has 40% of missing values, reset are with no missing values\n"
     ]
    }
   ],
   "source": [
    "# 7.What is the trend of missing values across the dataset\n",
    "count_missing_values = df.isnull().sum()\n",
    "\n",
    "df_missing_values = (df.isnull().mean()) *100\n",
    "\n",
    "# print(f\"Total missing value counts in the dataset is: \\n{count_missing_values}\")\n",
    "print()\n",
    "\n",
    "print(f\"Missing value trends across the dataset is: \\n{df_missing_values}\")\n",
    "print(\"Only ex_showroom_price has 40% of missing values, reset are with no missing values\")"
   ]
  },
  {
   "cell_type": "code",
   "execution_count": null,
   "id": "0e31d475-1bf1-46ed-b874-c44cb4a00a9f",
   "metadata": {},
   "outputs": [],
   "source": []
  },
  {
   "cell_type": "code",
   "execution_count": 83,
   "id": "81e4e01f-e3a0-4635-8aef-a62f2b15086c",
   "metadata": {},
   "outputs": [
    {
     "name": "stdout",
     "output_type": "stream",
     "text": [
      "Highest Ex_showroom price was 1278000 lakhs and the bike name was Harley-Davidson Street Bob\n"
     ]
    }
   ],
   "source": [
    "# 8.What is the highest ex_showroom_price recorded and for which bike?\n",
    "max_ex_showroom_price = df.ex_showroom_price.max()\n",
    "name_of_bike_with_highest_ex_showroom = df[df['ex_showroom_price'] == max_ex_showroom_price]['name'].iloc[0]\n",
    "print(f\"Highest Ex_showroom price was {round(max_ex_showroom_price)} lakhs and the bike name was {name_of_bike_with_highest_ex_showroom}\")"
   ]
  },
  {
   "cell_type": "code",
   "execution_count": null,
   "id": "2b4181e2-fb44-4108-b531-2d84730db9b2",
   "metadata": {},
   "outputs": [],
   "source": []
  },
  {
   "cell_type": "code",
   "execution_count": 98,
   "id": "c704874b-0779-4a9f-9667-023e1fe43744",
   "metadata": {},
   "outputs": [
    {
     "name": "stdout",
     "output_type": "stream",
     "text": [
      "Total number of bikes listed by each seller type is:\n",
      "seller_type\n",
      "Dealer           6\n",
      "Individual    1055\n"
     ]
    }
   ],
   "source": [
    "# 9.What is the total number of bikes listed by each selling type?\n",
    "total_bikes_by_each_seller = df.groupby(\"seller_type\")[\"name\"].count().to_string()\n",
    "print(f\"Total number of bikes listed by each seller type is:\\n{total_bikes_by_each_seller}\")"
   ]
  },
  {
   "cell_type": "code",
   "execution_count": null,
   "id": "db1a0cfc-9cb5-45e8-96be-47b85e7d8b59",
   "metadata": {},
   "outputs": [],
   "source": []
  },
  {
   "cell_type": "code",
   "execution_count": 85,
   "id": "28c4ffeb-2457-4b65-affa-9cf133e8e7aa",
   "metadata": {},
   "outputs": [
    {
     "name": "stdout",
     "output_type": "stream",
     "text": [
      "-0.24348174844965703 Negative Relationship Between selling_price and km_drive for First bike owner\n"
     ]
    }
   ],
   "source": [
    "# 10.What is the relationship between selling_price and km_driven for first-owner bikes?\n",
    "first_owner = df[df[\"owner\"] == \"1st owner\"]\n",
    "correlation = first_owner[\"selling_price\"].corr(first_owner['km_driven'])\n",
    "\n",
    "# Explaining the correlation\n",
    "if correlation > 0:\n",
    "    relationship = f\"{correlation} Positive Relationship between selling_price and km_drive for First bike owner\"\n",
    "elif correlation < 0:\n",
    "    relationship = f\"{correlation} Negative Relationship Between selling_price and km_drive for First bike owner\"\n",
    "else:\n",
    "    print(f\"{correlation} No Relation between selling price and km_driven for the Bike's First owner\")\n",
    "\n",
    "\n",
    "print(relationship)\n"
   ]
  },
  {
   "cell_type": "code",
   "execution_count": null,
   "id": "aec7cf98-0beb-49b9-9107-a0bd2201b53d",
   "metadata": {},
   "outputs": [],
   "source": []
  },
  {
   "cell_type": "code",
   "execution_count": 99,
   "id": "22b1c8d0-8ee3-4630-bfed-df5a59ab7d5d",
   "metadata": {},
   "outputs": [
    {
     "data": {
      "image/png": "[encoded data removed]",
      "text/plain": [
       "<Figure size 1340x620 with 2 Axes>"
      ]
     },
     "metadata": {},
     "output_type": "display_data"
    }
   ],
   "source": [
    "#11.Identify and remove outliers in the km_driven column using the IQR method\n",
    "\n",
    "# Treating the outliers using IQR method\n",
    "Q1 = df['km_driven'].quantile(0.25)\n",
    "Q3 = df[\"km_driven\"].quantile(0.75)\n",
    "\n",
    "IQR = Q3-Q1\n",
    "\n",
    "lower_fence = Q1 - 1.5 *IQR\n",
    "upper_fence = Q3 + 1.5*IQR\n",
    "\n",
    "# Was checking the outliers\n",
    "# outliers_col2 = df['km_driven'][(df['km_driven'] < lower_fence) | (df['km_driven'] > upper_fence)]\n",
    "\n",
    "filtered_df = df[(df.km_driven >= lower_fence) & (df.km_driven <= upper_fence)]\n",
    "df = filtered_df\n",
    "\n",
    "plt.figure(figsize= (13.4,6.2))\n",
    "\n",
    "# Visualizing to check outliers after the treatment \n",
    "plt.subplot(1,2,1)\n",
    "sns.histplot(df.km_driven)\n",
    "plt.title(\"Dist of km_driven\")\n",
    "\n",
    "plt.subplot(1, 2, 2)\n",
    "sns.boxplot(x=df.km_driven)\n",
    "plt.title(\"Boxplot of km_driven\")\n",
    "plt.xlabel(\"km_driven\")\n",
    "\n",
    "plt.tight_layout()\n",
    "plt.show()"
   ]
  },
  {
   "cell_type": "code",
   "execution_count": null,
   "id": "9d4e4ce0-b89b-48b9-9a5c-ade7d0488cfd",
   "metadata": {},
   "outputs": [],
   "source": [
    "\n"
   ]
  },
  {
   "cell_type": "code",
   "execution_count": 100,
   "id": "61599444-5071-439f-8ad1-c991f76647f1",
   "metadata": {},
   "outputs": [
    {
     "data": {
      "image/png": "[encoded data removed]",
      "text/plain": [
       "<Figure size 1300x500 with 1 Axes>"
      ]
     },
     "metadata": {},
     "output_type": "display_data"
    }
   ],
   "source": [
    "# 12.Perform a bivariate analysis to visualize the relationship between year and selling price.\n",
    "# df.year\n",
    "# df.selling_price\n",
    "\n",
    "plt.figure(figsize=(13, 5))\n",
    "sns.scatterplot(x=\"year\", y= \"selling_price\", data=df, hue = \"year\" )\n",
    "plt.title(\"Relationship between Selling Price throughout the year.\", fontweight='bold' )\n",
    "\n",
    "plt.tight_layout()\n",
    "plt.show()"
   ]
  },
  {
   "cell_type": "code",
   "execution_count": null,
   "id": "2403a7df-4108-499f-af91-a5b5733ebf08",
   "metadata": {},
   "outputs": [],
   "source": []
  },
  {
   "cell_type": "code",
   "execution_count": 101,
   "id": "339e89a5-9d36-4328-9c71-e03aa64d0868",
   "metadata": {},
   "outputs": [
    {
     "data": {
      "image/png": "[encoded data removed]",
      "text/plain": [
       "<Figure size 800x400 with 1 Axes>"
      ]
     },
     "metadata": {},
     "output_type": "display_data"
    }
   ],
   "source": [
    "# 13.What is the average depreciation in selling price based on the bike's age (current year - manufacturing year)?\n",
    "df['age'] = 2024 - df.year\n",
    "df.groupby('age')['selling_price'].mean()\n",
    "\n",
    "plt.figure(figsize=(8, 4))\n",
    "sns.lineplot(x = \"age\", y= \"selling_price\", data=df,hue = \"age\",marker=\"o\", palette=\"viridis\" )\n",
    "plt.title(\"Depreciation in selling price based on the bike's age\", fontweight=\"bold\")\n",
    "\n",
    "\n",
    "plt.tight_layout()\n",
    "plt.show()"
   ]
  },
  {
   "cell_type": "code",
   "execution_count": null,
   "id": "f9003725-bf8d-4247-abfa-3de2c80550ff",
   "metadata": {},
   "outputs": [],
   "source": [
    "df"
   ]
  },
  {
   "cell_type": "code",
   "execution_count": 102,
   "id": "bc834022-54b6-4a54-9b10-8b4003ead032",
   "metadata": {},
   "outputs": [
    {
     "data": {
      "text/html": [
       "<div>\n",
       "<style scoped>\n",
       "    .dataframe tbody tr th:only-of-type {\n",
       "        vertical-align: middle;\n",
       "    }\n",
       "\n",
       "    .dataframe tbody tr th {\n",
       "        vertical-align: top;\n",
       "    }\n",
       "\n",
       "    .dataframe thead th {\n",
       "        text-align: right;\n",
       "    }\n",
       "</style>\n",
       "<table border=\"1\" class=\"dataframe\">\n",
       "  <thead>\n",
       "    <tr style=\"text-align: right;\">\n",
       "      <th></th>\n",
       "      <th>name</th>\n",
       "      <th>selling_price</th>\n",
       "      <th>year</th>\n",
       "    </tr>\n",
       "  </thead>\n",
       "  <tbody>\n",
       "    <tr>\n",
       "      <th>7</th>\n",
       "      <td>Royal Enfield Bullet 350 [2007-2011]</td>\n",
       "      <td>180000</td>\n",
       "      <td>2008</td>\n",
       "    </tr>\n",
       "    <tr>\n",
       "      <th>13</th>\n",
       "      <td>Yamaha YZF R3</td>\n",
       "      <td>365000</td>\n",
       "      <td>2019</td>\n",
       "    </tr>\n",
       "    <tr>\n",
       "      <th>37</th>\n",
       "      <td>Honda CBR-250R</td>\n",
       "      <td>120000</td>\n",
       "      <td>2016</td>\n",
       "    </tr>\n",
       "    <tr>\n",
       "      <th>42</th>\n",
       "      <td>KTM 390 Duke</td>\n",
       "      <td>175000</td>\n",
       "      <td>2017</td>\n",
       "    </tr>\n",
       "    <tr>\n",
       "      <th>52</th>\n",
       "      <td>Royal Enfield Electra 5 S</td>\n",
       "      <td>90000</td>\n",
       "      <td>2010</td>\n",
       "    </tr>\n",
       "    <tr>\n",
       "      <th>...</th>\n",
       "      <td>...</td>\n",
       "      <td>...</td>\n",
       "      <td>...</td>\n",
       "    </tr>\n",
       "    <tr>\n",
       "      <th>951</th>\n",
       "      <td>Royal Enfield Electra 5 S</td>\n",
       "      <td>90000</td>\n",
       "      <td>2012</td>\n",
       "    </tr>\n",
       "    <tr>\n",
       "      <th>966</th>\n",
       "      <td>Hyosung GT250R</td>\n",
       "      <td>135000</td>\n",
       "      <td>2016</td>\n",
       "    </tr>\n",
       "    <tr>\n",
       "      <th>967</th>\n",
       "      <td>Royal Enfield Thunder 350</td>\n",
       "      <td>125000</td>\n",
       "      <td>2015</td>\n",
       "    </tr>\n",
       "    <tr>\n",
       "      <th>981</th>\n",
       "      <td>Royal Enfield Thunder 350</td>\n",
       "      <td>105000</td>\n",
       "      <td>2013</td>\n",
       "    </tr>\n",
       "    <tr>\n",
       "      <th>985</th>\n",
       "      <td>Royal Enfield Classic 500</td>\n",
       "      <td>90000</td>\n",
       "      <td>2011</td>\n",
       "    </tr>\n",
       "  </tbody>\n",
       "</table>\n",
       "<p>69 rows × 3 columns</p>\n",
       "</div>"
      ],
      "text/plain": [
       "                                     name  selling_price  year\n",
       "7    Royal Enfield Bullet 350 [2007-2011]         180000  2008\n",
       "13                          Yamaha YZF R3         365000  2019\n",
       "37                         Honda CBR-250R         120000  2016\n",
       "42                           KTM 390 Duke         175000  2017\n",
       "52              Royal Enfield Electra 5 S          90000  2010\n",
       "..                                    ...            ...   ...\n",
       "951             Royal Enfield Electra 5 S          90000  2012\n",
       "966                        Hyosung GT250R         135000  2016\n",
       "967             Royal Enfield Thunder 350         125000  2015\n",
       "981             Royal Enfield Thunder 350         105000  2013\n",
       "985             Royal Enfield Classic 500          90000  2011\n",
       "\n",
       "[69 rows x 3 columns]"
      ]
     },
     "execution_count": 102,
     "metadata": {},
     "output_type": "execute_result"
    }
   ],
   "source": [
    "# 14.Which bike names are priced significantly above the average price for their manufacturing year?\n",
    "avg_price = df.groupby('year')['selling_price'].mean()\n",
    "df[df['selling_price'] > 2 * df['year'].map(avg_price)][['name', 'selling_price', 'year']]\n"
   ]
  },
  {
   "cell_type": "code",
   "execution_count": null,
   "id": "3ce385d4-d1af-4389-8af4-432649856633",
   "metadata": {},
   "outputs": [],
   "source": []
  },
  {
   "cell_type": "code",
   "execution_count": 103,
   "id": "ab8c13ea-7166-41b2-bf76-aa8cd712df4c",
   "metadata": {},
   "outputs": [
    {
     "data": {
      "image/png": "[encoded data removed]",
      "text/plain": [
       "<Figure size 930x470 with 2 Axes>"
      ]
     },
     "metadata": {},
     "output_type": "display_data"
    }
   ],
   "source": [
    "# 15.develop a correlation matrix for numeric columns and visualize it using a heatmap.\n",
    "numeric_cols = [feature for feature in df.columns if df[feature].dtypes in [\"int\", \"float\"]]\n",
    "\n",
    "corr = df[numeric_cols].corr()\n",
    "\n",
    "# making the plot out of it\n",
    "plt.figure(figsize = (9.3, 4.7))\n",
    "sns.heatmap(corr, annot= True, cmap=\"coolwarm\")\n",
    "plt.title(\"Heatmap of correlation of all the numeric columns\", fontweight=\"bold\")\n",
    "plt.tight_layout()\n",
    "plt.show()"
   ]
  },
  {
   "cell_type": "code",
   "execution_count": 104,
   "id": "e32372b1-e6dd-45d4-aa5d-90bb75b7f942",
   "metadata": {},
   "outputs": [
    {
     "data": {
      "text/plain": [
       "['selling_price', 'year', 'km_driven', 'ex_showroom_price', 'age']"
      ]
     },
     "execution_count": 104,
     "metadata": {},
     "output_type": "execute_result"
    }
   ],
   "source": [
    "numeric_cols"
   ]
  },
  {
   "cell_type": "code",
   "execution_count": 105,
   "id": "3bf147cb-0ece-4b1c-9cbc-c10cdf3d6252",
   "metadata": {},
   "outputs": [
    {
     "name": "stdout",
     "output_type": "stream",
     "text": [
      "<class 'pandas.core.frame.DataFrame'>\n",
      "Index: 1022 entries, 0 to 1059\n",
      "Data columns (total 8 columns):\n",
      " #   Column             Non-Null Count  Dtype  \n",
      "---  ------             --------------  -----  \n",
      " 0   name               1022 non-null   object \n",
      " 1   selling_price      1022 non-null   int64  \n",
      " 2   year               1022 non-null   int64  \n",
      " 3   seller_type        1022 non-null   object \n",
      " 4   owner              1022 non-null   object \n",
      " 5   km_driven          1022 non-null   int64  \n",
      " 6   ex_showroom_price  607 non-null    float64\n",
      " 7   age                1022 non-null   int64  \n",
      "dtypes: float64(1), int64(4), object(3)\n",
      "memory usage: 71.9+ KB\n"
     ]
    }
   ],
   "source": [
    "df.info()"
   ]
  },
  {
   "cell_type": "code",
   "execution_count": null,
   "id": "a5dd2c18-f24f-4568-b0aa-ef0c0d271952",
   "metadata": {},
   "outputs": [],
   "source": []
  },
  {
   "cell_type": "code",
   "execution_count": null,
   "id": "1067616c-3484-48f6-a6f8-a900bbacf674",
   "metadata": {},
   "outputs": [],
   "source": []
  },
  {
   "cell_type": "code",
   "execution_count": null,
   "id": "e2f0f1a7-a589-41d7-b956-627fac2c942a",
   "metadata": {},
   "outputs": [],
   "source": []
  },
  {
   "cell_type": "code",
   "execution_count": null,
   "id": "65fd0f14-6537-4c11-a74c-c297d024ac97",
   "metadata": {},
   "outputs": [],
   "source": []
  },
  {
   "cell_type": "code",
   "execution_count": null,
   "id": "63dd3f9d-cc9e-496c-a903-a0bb98d3d257",
   "metadata": {},
   "outputs": [],
   "source": [
    "\n",
    "End of tht Eda\n"
   ]
  }
 ],
 "metadata": {
  "kernelspec": {
   "display_name": "Python 3 (ipykernel)",
   "language": "python",
   "name": "python3"
  },
  "language_info": {
   "codemirror_mode": {
    "name": "ipython",
    "version": 3
   },
   "file_extension": ".py",
   "mimetype": "text/x-python",
   "name": "python",
   "nbconvert_exporter": "python",
   "pygments_lexer": "ipython3",
   "version": "3.12.4"
  }
 },
 "nbformat": 4,
 "nbformat_minor": 5
}
