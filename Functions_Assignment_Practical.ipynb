{
  "nbformat": 4,
  "nbformat_minor": 0,
  "metadata": {
    "colab": {
      "provenance": []
    },
    "kernelspec": {
      "name": "python3",
      "display_name": "Python 3"
    },
    "language_info": {
      "name": "python"
    }
  },
  "cells": [
    {
      "cell_type": "markdown",
      "source": [
        "# **Assignment_Functions_Practical**"
      ],
      "metadata": {
        "id": "ZCGm42UP0bIN"
      }
    },
    {
      "cell_type": "markdown",
      "source": [
        "## **Part 2. Practical Questions**"
      ],
      "metadata": {
        "id": "XOWL66yp0eyX"
      }
    },
    {
      "cell_type": "markdown",
      "source": [
        "**Question 1.  Write a Python function that takes a list of numbers as input and returns the sum of all even numbers in\n",
        "the list.**"
      ],
      "metadata": {
        "id": "deYrUzSD0i50"
      }
    },
    {
      "cell_type": "code",
      "execution_count": null,
      "metadata": {
        "colab": {
          "base_uri": "https://localhost:8080/"
        },
        "id": "W2Spa2sc0ECe",
        "outputId": "087c74e9-9757-4bfd-ffed-82a2a55658d2"
      },
      "outputs": [
        {
          "output_type": "stream",
          "name": "stdout",
          "text": [
            "\n",
            "90\n"
          ]
        }
      ],
      "source": [
        "def sum_even_numbers(numbers):\n",
        "    total_sum = 0    #Initializing the sum to 0\n",
        "    for number in numbers:\n",
        "        if number % 2 == 0:   #Checking if the number is even\n",
        "            total_sum += number\n",
        "    return total_sum  # Returning the sum of all even numbers\n",
        "\n",
        "\n",
        "numbers = [10, 11, 12, 13, 14, 15, 16, 17, 18, 19, 20]\n",
        "result = sum_even_numbers(numbers)\n",
        "print()\n",
        "print(result)"
      ]
    },
    {
      "cell_type": "markdown",
      "source": [
        " **Question 2. Create a Python function that accepts a string and returns the reverse of that string.**"
      ],
      "metadata": {
        "id": "yd8kWTIF0w4w"
      }
    },
    {
      "cell_type": "code",
      "source": [
        "Book = \"Love is in your eyes\"\n",
        "reversed_string = Book[::-1]\n",
        "print(reversed_string)"
      ],
      "metadata": {
        "colab": {
          "base_uri": "https://localhost:8080/"
        },
        "id": "U05Spv010qzI",
        "outputId": "7c63788d-cb86-495f-c174-bc28cc0915c6"
      },
      "execution_count": null,
      "outputs": [
        {
          "output_type": "stream",
          "name": "stdout",
          "text": [
            "seye ruoy ni si evoL\n"
          ]
        }
      ]
    },
    {
      "cell_type": "markdown",
      "source": [
        "**Question 3. Implement a Python function that takes a list of integers and returns a new list containing the squares of each number.**"
      ],
      "metadata": {
        "id": "HE-5ers91DbV"
      }
    },
    {
      "cell_type": "code",
      "source": [
        "def square_even_numbers():\n",
        "    even_numbers_list = [0, 2, 4, 6, 8, 10] #taking list of even numbers.\n",
        "    squared_numbers = [num ** 2 for num in even_numbers_list]\n",
        "    return squared_numbers\n",
        "\n",
        "New_squared_list = square_even_numbers()\n",
        "print(New_squared_list)"
      ],
      "metadata": {
        "colab": {
          "base_uri": "https://localhost:8080/"
        },
        "id": "wB_KqZcC0_6-",
        "outputId": "23abe498-274c-4680-ed79-b87e2ad48f33"
      },
      "execution_count": null,
      "outputs": [
        {
          "output_type": "stream",
          "name": "stdout",
          "text": [
            "[0, 4, 16, 36, 64, 100]\n"
          ]
        }
      ]
    },
    {
      "cell_type": "markdown",
      "source": [
        "**Question 4. Write a Python function that checks if a given number is prime or not from 1 to 200.**"
      ],
      "metadata": {
        "id": "BCjhxG8M1MYi"
      }
    },
    {
      "cell_type": "code",
      "source": [
        "def is_prime(number):\n",
        "  if number < 2:\n",
        "        return False  #Numbers less than 2 are not prime numbers.\n",
        "  for i in range(2, number):\n",
        "        if number % i == 0:\n",
        "            return False  #If the number is divisible by any number other than 1 and itself are not prime.\n",
        "\n",
        "  return True   #If no divisors are found, the number is prime."
      ],
      "metadata": {
        "id": "y4ETcuIL1F6F"
      },
      "execution_count": null,
      "outputs": []
    },
    {
      "cell_type": "code",
      "source": [
        "number = 17 #checking the number is prime or not.\n",
        "if is_prime(number):\n",
        "    print(f\"{number} is a prime number.\")\n",
        "else:\n",
        "    print(f\"{number} is not a prime number.\")"
      ],
      "metadata": {
        "colab": {
          "base_uri": "https://localhost:8080/"
        },
        "id": "egFcUGQk1P72",
        "outputId": "eeb31aa8-26f5-4076-d640-2b3b8bde02be"
      },
      "execution_count": null,
      "outputs": [
        {
          "output_type": "stream",
          "name": "stdout",
          "text": [
            "17 is a prime number.\n"
          ]
        }
      ]
    },
    {
      "cell_type": "code",
      "source": [
        "number = 24 #checking the number is prime or not.\n",
        "if is_prime(number):\n",
        "    print(f\"{number} is a prime number.\")\n",
        "else:\n",
        "    print(f\"{number} is not a prime number.\")"
      ],
      "metadata": {
        "colab": {
          "base_uri": "https://localhost:8080/"
        },
        "id": "JiFJ0eMB1TYB",
        "outputId": "4f531d68-b23e-4d5c-9863-e0a67ebdab11"
      },
      "execution_count": null,
      "outputs": [
        {
          "output_type": "stream",
          "name": "stdout",
          "text": [
            "24 is not a prime number.\n"
          ]
        }
      ]
    },
    {
      "cell_type": "code",
      "source": [
        "number = 24 #checking the number is prime or not.\n",
        "if is_prime(number):\n",
        "    print(f\"{number} is a prime number.\")\n",
        "else:\n",
        "    print(f\"{number} is not a prime number.\")"
      ],
      "metadata": {
        "colab": {
          "base_uri": "https://localhost:8080/"
        },
        "id": "k3xNs6Wq1Vcc",
        "outputId": "38779958-c0be-40cc-b21f-c893ce2effcc"
      },
      "execution_count": null,
      "outputs": [
        {
          "output_type": "stream",
          "name": "stdout",
          "text": [
            "24 is not a prime number.\n"
          ]
        }
      ]
    },
    {
      "cell_type": "code",
      "source": [
        "number = 100 #checking the number is prime or not.\n",
        "if is_prime(number):\n",
        "    print(f\"{number} is a prime number.\")\n",
        "else:\n",
        "    print(f\"{number} is not a prime number.\")"
      ],
      "metadata": {
        "colab": {
          "base_uri": "https://localhost:8080/"
        },
        "id": "zduXWdf_1aNa",
        "outputId": "f33db0a5-7b21-4313-cfd8-a63e32aefb86"
      },
      "execution_count": null,
      "outputs": [
        {
          "output_type": "stream",
          "name": "stdout",
          "text": [
            "100 is not a prime number.\n"
          ]
        }
      ]
    },
    {
      "cell_type": "code",
      "source": [
        "number = 157 #checking the number is prime or not.\n",
        "if is_prime(number):\n",
        "    print(f\"{number} is a prime number.\")\n",
        "else:\n",
        "    print(f\"{number} is not a prime number.\")"
      ],
      "metadata": {
        "colab": {
          "base_uri": "https://localhost:8080/"
        },
        "id": "GsjH4wt_1fuU",
        "outputId": "d0b7bb05-ca28-41e6-e5ca-2f98e33c95aa"
      },
      "execution_count": null,
      "outputs": [
        {
          "output_type": "stream",
          "name": "stdout",
          "text": [
            "157 is a prime number.\n"
          ]
        }
      ]
    },
    {
      "cell_type": "code",
      "source": [
        "number = 200 #checking the number is prime or not.\n",
        "if is_prime(number):\n",
        "    print(f\"{number} is a prime number.\")\n",
        "else:\n",
        "    print(f\"{number} is not a prime number.\")"
      ],
      "metadata": {
        "colab": {
          "base_uri": "https://localhost:8080/"
        },
        "id": "2g7xpkxW1hTO",
        "outputId": "fab67c13-2d40-4b85-984e-11dfb0f388a0"
      },
      "execution_count": null,
      "outputs": [
        {
          "output_type": "stream",
          "name": "stdout",
          "text": [
            "200 is not a prime number.\n"
          ]
        }
      ]
    },
    {
      "cell_type": "markdown",
      "source": [
        "**Question 5. Create an iterator class in Python that generates the Fibonacci sequence up to a specified number of\n",
        "terms.**"
      ],
      "metadata": {
        "id": "rHJD4bwp1nYa"
      }
    },
    {
      "cell_type": "code",
      "source": [
        "class FibonacciIterator:\n",
        "    def __init__(self, num_terms):\n",
        "      self.num_terms = num_terms    #The total number of terms to generate\n",
        "      self.a, self.b = 0, 1         #Initial Fibonacci values\n",
        "      self.count = 0                #Counter to track the number of terms generated\n",
        "    def __iter__(self):\n",
        "        return self\n",
        "\n",
        "    def __next__(self):\n",
        "      if self.count >= self.num_terms:\n",
        "            raise StopIteration                 #Stoping iteration if we reach the specified number of terms\n",
        "      fibonacci_number = self.a\n",
        "      self.a, self.b = self.b, self.a + self.b  #Updating Fibonacci values\n",
        "      self.count += 1\n",
        "\n",
        "      return fibonacci_number\n",
        "\n",
        "fib_iter = FibonacciIterator(7)  #Creating an iterator for the first 7 Fibonacci numbers\n",
        "print(\"The first 7 Fibonacci numbers are:\")\n",
        "for num in fib_iter:\n",
        "  print(num)"
      ],
      "metadata": {
        "colab": {
          "base_uri": "https://localhost:8080/"
        },
        "id": "a90sAmmL1jk2",
        "outputId": "d680b123-99eb-40b5-b4f1-cbddfd6df217"
      },
      "execution_count": null,
      "outputs": [
        {
          "output_type": "stream",
          "name": "stdout",
          "text": [
            "The first 7 Fibonacci numbers are:\n",
            "0\n",
            "1\n",
            "1\n",
            "2\n",
            "3\n",
            "5\n",
            "8\n"
          ]
        }
      ]
    },
    {
      "cell_type": "markdown",
      "source": [
        "**Question 6. Write a generator function in Python that yields the powers of 2 up to a given exponent.**"
      ],
      "metadata": {
        "id": "dEfCcero2yt9"
      }
    },
    {
      "cell_type": "code",
      "source": [
        "def powers_of_4():\n",
        "    for i in range(6, 12):\n",
        "        yield 4 ** i"
      ],
      "metadata": {
        "id": "yoLUuBD32v6X"
      },
      "execution_count": null,
      "outputs": []
    },
    {
      "cell_type": "code",
      "source": [
        "gen = powers_of_4()   #creating the generator\n",
        "for power in gen:     #printing the powers of 4 from 6 to 11\n",
        "  print(power)"
      ],
      "metadata": {
        "colab": {
          "base_uri": "https://localhost:8080/"
        },
        "id": "f8vl_XlI25pP",
        "outputId": "7368a5bb-d5a7-4775-e81d-d556e1ea9017"
      },
      "execution_count": null,
      "outputs": [
        {
          "output_type": "stream",
          "name": "stdout",
          "text": [
            "4096\n",
            "16384\n",
            "65536\n",
            "262144\n",
            "1048576\n",
            "4194304\n"
          ]
        }
      ]
    },
    {
      "cell_type": "markdown",
      "source": [
        "**Question 7. Implement a generator function that reads a file line by line and yields each line as a string.**"
      ],
      "metadata": {
        "id": "FgtopK733GZ3"
      }
    },
    {
      "cell_type": "code",
      "source": [
        "file_content = \"\"\"My name is SHRIKANT.\n",
        "I am studying Data Analytics.\n",
        "PW Skills is a good platform to learn.\"\"\"    #Writing the string content into a file.\n",
        "\n",
        "file_name = 'example.txt'\n",
        "with open(file_name, 'w') as f:\n",
        "    f.write(file_content)\n",
        "def read_file_line_by_line(file_name):       #Implementing the generator function to read the file line by line.\n",
        "    with open(file_name, 'r') as f:\n",
        "        for line in f:                       #Iterating over each line in the file.\n",
        "            yield line\n",
        "gen = read_file_line_by_line(file_name)      #Using the generator to read the lines from the file\n",
        "for line in gen:\n",
        "    print(line)                              #Printing the lines yielded by the generator"
      ],
      "metadata": {
        "colab": {
          "base_uri": "https://localhost:8080/"
        },
        "id": "07M1ar9S3Db5",
        "outputId": "172effc3-92e8-4aa3-e068-409e50f550c4"
      },
      "execution_count": 1,
      "outputs": [
        {
          "output_type": "stream",
          "name": "stdout",
          "text": [
            "My name is SHRIKANT.\n",
            "\n",
            "I am studying Data Analytics.\n",
            "\n",
            "PW Skills is a good platform to learn.\n"
          ]
        }
      ]
    },
    {
      "cell_type": "markdown",
      "source": [
        "**Question 8.  Use a lambda function in Python to sort a list of tuples based on the second element of each tuple.**"
      ],
      "metadata": {
        "id": "Z4K4CPTg3Tw1"
      }
    },
    {
      "cell_type": "code",
      "source": [
        "My_list = [(9, 11), (2, 16), (44, 23), (12, 31)]\n",
        "My_list.sort(key=lambda x: x[1])    #Sorting the list of tuples based on the second element using lambda function\n",
        "print(My_list)        #Printing the sorted list"
      ],
      "metadata": {
        "colab": {
          "base_uri": "https://localhost:8080/"
        },
        "id": "56rbSbEf3LGG",
        "outputId": "faf0b802-3bb8-4955-82dc-0bdd526d396e"
      },
      "execution_count": null,
      "outputs": [
        {
          "output_type": "stream",
          "name": "stdout",
          "text": [
            "[(9, 11), (2, 16), (44, 23), (12, 31)]\n"
          ]
        }
      ]
    },
    {
      "cell_type": "markdown",
      "source": [
        "**Question 9. Write a Python program that uses Map() to convert a list of temperatures from Celsius to Fahrenheit.**"
      ],
      "metadata": {
        "id": "uYG5B0Pw3xhC"
      }
    },
    {
      "cell_type": "code",
      "source": [
        "celsius_temperature = [41.2]\n",
        "def celsius_to_fahrenheit(celsius): #Function used to convert Celsius to Fahrenheit.\n",
        "    return (9/5) * celsius + 32\n",
        "fahrenheit_temperature = list(map(celsius_to_fahrenheit, celsius_temperature)) #uising map() to apply the conversion.\n",
        "print(fahrenheit_temperature)"
      ],
      "metadata": {
        "colab": {
          "base_uri": "https://localhost:8080/"
        },
        "id": "shBSHuR03b5H",
        "outputId": "4af44027-737e-4893-ebe8-d37caebfc2ee"
      },
      "execution_count": null,
      "outputs": [
        {
          "output_type": "stream",
          "name": "stdout",
          "text": [
            "[106.16000000000001]\n"
          ]
        }
      ]
    },
    {
      "cell_type": "markdown",
      "source": [
        "**Question 10.  Create a Python program that uses filter() to remove all the vowels from a given string.**"
      ],
      "metadata": {
        "id": "Q25EJ2Fb39Hc"
      }
    },
    {
      "cell_type": "code",
      "source": [
        "input_string = \"Old is Gold\"\n",
        "vowels = 'AEIOUaeiou'\n",
        "def is_vowel(character):\n",
        "    return character in vowels\n",
        "removed_vowels = filter(is_vowel, input_string)\n",
        "filtered_string = ''.join(filter(lambda character: character not in vowels, input_string))\n",
        "\n",
        "print(\"Filtered String:\", filtered_string)\n",
        "print(\"Removed Vowels:\", ''.join(removed_vowels))"
      ],
      "metadata": {
        "colab": {
          "base_uri": "https://localhost:8080/"
        },
        "id": "cuddTuNB36ly",
        "outputId": "6a410ff2-4b7d-4395-95d4-20c48b432b1a"
      },
      "execution_count": null,
      "outputs": [
        {
          "output_type": "stream",
          "name": "stdout",
          "text": [
            "Filtered String: ld s Gld\n",
            "Removed Vowels: Oio\n"
          ]
        }
      ]
    },
    {
      "cell_type": "markdown",
      "source": [
        "**Question. 11 Imagine an accounting routine used in a book shop. It works on a list with sublists, which look like:**\n",
        "\n",
        "![Screenshot 2024-11-21 233135.png](data:image/png;base64,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)\n",
        "\n",
        "\n",
        "\n",
        "\n",
        "\n",
        "**this: Write a Python program, which returns a list with 2-tuples. Each tuple consists of the order number and the product of the price per item and the quantity. The product should be increased by 10,- € if the value of the order is smaller than 100,00 €. Write a Python program using lambda and map.**"
      ],
      "metadata": {
        "id": "l_1qRqhc4aRV"
      }
    },
    {
      "cell_type": "markdown",
      "source": [
        "### **Solution for Question 11**"
      ],
      "metadata": {
        "id": "DCzEZbcW67Az"
      }
    },
    {
      "cell_type": "code",
      "source": [
        "# Data: Order number, book title and author, quantity, price per item\n",
        "order_numbers = [17825, 38672, 47246, 90112]\n",
        "book_titles = [\"Learning Python, Mark Lutz\",\"Programming Python, Mark Lutz\", \"Head First Python, Paul Barry\", \"Einführung in Python 3, Bernd Klein\"]\n",
        "quantities = [14, 11, 11, 6]\n",
        "prices = [71.63, 108.01, 95.1, 94.7]\n",
        "def calculate_price(order):   #using lambda function to calculate the total price, apply the 10€ adjustment if needed.\n",
        "    order_number, quantity, price_per_item = order\n",
        "    total_price = quantity * price_per_item\n",
        "    if total_price < 100:\n",
        "        total_price += 10              #adding 10€ if the total price is less than 100€\n",
        "    return (order_number, total_price)\n",
        "\n",
        "orders = zip(order_numbers, quantities, prices)\n",
        "result = list(map(calculate_price, orders)) #Using map to apply the calculate_price function to each order.\n",
        "print(result)\n"
      ],
      "metadata": {
        "colab": {
          "base_uri": "https://localhost:8080/"
        },
        "id": "YNs2GGoW4HuY",
        "outputId": "47f72651-91cf-4c0f-9c02-330984bbf3d5"
      },
      "execution_count": null,
      "outputs": [
        {
          "output_type": "stream",
          "name": "stdout",
          "text": [
            "[(17825, 1002.8199999999999), (38672, 1188.1100000000001), (47246, 1046.1), (90112, 568.2)]\n"
          ]
        }
      ]
    }
  ]
}