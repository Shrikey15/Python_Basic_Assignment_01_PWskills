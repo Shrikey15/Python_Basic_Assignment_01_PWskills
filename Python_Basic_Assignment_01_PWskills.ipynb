{
  "nbformat": 4,
  "nbformat_minor": 0,
  "metadata": {
    "colab": {
      "provenance": []
    },
    "kernelspec": {
      "name": "python3",
      "display_name": "Python 3"
    },
    "language_info": {
      "name": "python"
    }
  },
  "cells": [
    {
      "cell_type": "markdown",
      "source": [
        "   # **BASICS_OF_PYTHON_ASSIGNMENT**"
      ],
      "metadata": {
        "id": "XuWhmUYFpQp_"
      }
    },
    {
      "cell_type": "markdown",
      "source": [
        "# Q1. Explain the key features of Python that make it a popular choice for programming ?\n",
        "\n",
        "**Answer:**\n",
        "\n",
        "Python is popular because it is ideal for beginners and experts alike and lets you do a lot with simple, readable code and works well for a wide variety of tasks.\n",
        "\n",
        "There are several key reasons that makes python a popular choice for programing:\n",
        "\n",
        "1. Easy to read & write: Python has a\n",
        "clear and straight forward syntax which meansit is easy to read and understand even for the beginners, also it uses less code which means we can do a lot with fewest lines of code that can help writing and maintaining programs faster and simpler.\n",
        "\n",
        "2. Big library: Python has a large set of inbuilt tools that help with many common tasks,like working with files, data manipulation or connecting to the internet. Which means we don't need to write everything from scratch.\n",
        "\n",
        "3. Dynamic typing: we don’t have to tell Python what type of data we are using\n",
        "(integers, syntax, float, etc.). Python figures it out on its own, which makes coding\n",
        "faster and easier.\n",
        "\n",
        "4. Interpreted language: Python is an interpreted language, which means it runs code\n",
        "line-by-line. This makes it easier to test small pieces of code and fix mistakes right\n",
        "away.\n",
        "\n",
        "5. Supports Different Programming Styles: Python lets us use different programming\n",
        "approaches. We can write code in object-oriented means working with objects and\n",
        "classes or functional (using functions and expressions) styles, depending on what fits\n",
        "best for our task.\n",
        "\n",
        "6. Huge Community and Lots of Resources: Python has a large, active community\n",
        "that creates and shares libraries (collections of reusable code) and helps each other\n",
        "out. There are also many tutorials, forums, and resources available online. Python\n",
        "also includes tools that help developers find and fix bugs in their code, making it\n",
        "easier to write reliable programs.\n",
        "\n",
        "7. Versatility: Python is used for a variety of tasks like web development, data analysis\n",
        "and machine learning, automation, game development and many more."
      ],
      "metadata": {
        "id": "pT405nvYpjXB"
      }
    },
    {
      "cell_type": "markdown",
      "source": [
        "# Q2. Describe the role of predefined keywords in Python and provide examples of how they are used in a program.\n",
        "\n",
        "**Answer:**\n",
        "\n",
        "In python the words that hold a special meaning which are used for a\n",
        "specific purpose and cannot be used as variable names, function names, or\n",
        "identifiers in your codes are simply said as predefined keywords.\n",
        "Role of keywords is to serve as the building blocks of the language's syntax. Each\n",
        "keyword has a specific role that helps structure the flow of the program, manage\n",
        "data, handle errors, and organise code in a way that Python can execute correctly."
      ],
      "metadata": {
        "id": "yceg-xlRsUhH"
      }
    },
    {
      "cell_type": "code",
      "source": [
        "#Example -1 for above Question\n",
        "Name = \"shrikant koulagi\"\n",
        "print(Name)"
      ],
      "metadata": {
        "colab": {
          "base_uri": "https://localhost:8080/"
        },
        "id": "HLaobkqCs15t",
        "outputId": "48c9820c-512f-4c7c-81ca-f38cd16fd240"
      },
      "execution_count": 1,
      "outputs": [
        {
          "output_type": "stream",
          "name": "stdout",
          "text": [
            "shrikant koulagi\n"
          ]
        }
      ]
    },
    {
      "cell_type": "code",
      "source": [
        "#Example -2 for above Question\n",
        "Age = 25\n",
        "print(Age)"
      ],
      "metadata": {
        "colab": {
          "base_uri": "https://localhost:8080/"
        },
        "id": "Yexy6qJutHjo",
        "outputId": "f8d8dece-5bcd-4dcd-861f-d1253b7949e0"
      },
      "execution_count": null,
      "outputs": [
        {
          "output_type": "stream",
          "name": "stdout",
          "text": [
            "25\n"
          ]
        }
      ]
    },
    {
      "cell_type": "markdown",
      "source": [
        "# Q3. Compare and contrast mutable and immutable objects in Python with examples\n",
        "\n",
        "**Answer:**\n",
        "In Python, objects are classified into two categories “mutable and\n",
        "immutable objects” based on whether their values can be modified after creation or\n",
        "not.\n",
        "\n",
        "1. **Mutable objects**: Mutable objects are those whose value can be modified after they are created. Which means we can change the contents of the object\n",
        "without creating a new one.\n",
        "Common Mutable Types are Lists, Dictionaries, Sets."
      ],
      "metadata": {
        "id": "hA6fnQfJt2u9"
      }
    },
    {
      "cell_type": "code",
      "source": [
        "#Example - 1\n",
        "#list\n",
        "list = [1, 2, 3, 4, 5]\n",
        "list[2]= '3.5'\n",
        "list"
      ],
      "metadata": {
        "colab": {
          "base_uri": "https://localhost:8080/"
        },
        "id": "3s9TUXMXuOhb",
        "outputId": "460697d9-12e2-4ee2-acf2-c0547731dbdb"
      },
      "execution_count": null,
      "outputs": [
        {
          "output_type": "execute_result",
          "data": {
            "text/plain": [
              "[1, 2, '3.5', 4, 5]"
            ]
          },
          "metadata": {},
          "execution_count": 3
        }
      ]
    },
    {
      "cell_type": "code",
      "source": [
        "#Example - 2\n",
        "#dictionary\n",
        "dict = {\"name\" : \"Shrikant koulagi\", \"age\" : 25, \"city\" : \"karnataka\"}\n",
        "dict[\"name\"] = \"shrikant koulagi\"\n",
        "dict"
      ],
      "metadata": {
        "colab": {
          "base_uri": "https://localhost:8080/"
        },
        "id": "ia5TX7-Kuf87",
        "outputId": "3f592431-8c89-469d-997f-e30d38e01ada"
      },
      "execution_count": 3,
      "outputs": [
        {
          "output_type": "execute_result",
          "data": {
            "text/plain": [
              "{'name': 'shrikant koulagi', 'age': 25, 'city': 'karnataka'}"
            ]
          },
          "metadata": {},
          "execution_count": 3
        }
      ]
    },
    {
      "cell_type": "code",
      "source": [
        "#Example - 3\n",
        "#set\n",
        "set = {\"a\", \"b\", \"c\"}\n",
        "set.add(\"d\")\n",
        "set"
      ],
      "metadata": {
        "colab": {
          "base_uri": "https://localhost:8080/"
        },
        "id": "6iB05zW6u5To",
        "outputId": "a8ce49cd-611e-4fd9-d296-2e4a6fa5fe89"
      },
      "execution_count": null,
      "outputs": [
        {
          "output_type": "execute_result",
          "data": {
            "text/plain": [
              "{'a', 'b', 'c', 'd'}"
            ]
          },
          "metadata": {},
          "execution_count": 7
        }
      ]
    },
    {
      "cell_type": "markdown",
      "source": [
        "2. **Immutable objects:** Immutable objects are those whose value cannot be\n",
        "changed after they are created. We cannot modify the value of an immutable\n",
        "object directly after it's created. Even if we try to change it, a new object will\n",
        "be created instead.\n",
        "Common immutable objects: Tuples, Strings, Integers, Floats, Frozensets"
      ],
      "metadata": {
        "id": "FpGv7PsyvoE_"
      }
    },
    {
      "cell_type": "code",
      "source": [
        "#Example\n",
        "A = \"shrikant koulagi\"\n",
        "A[2] = \"r\"\n",
        "#It will show an error"
      ],
      "metadata": {
        "colab": {
          "base_uri": "https://localhost:8080/",
          "height": 193
        },
        "id": "I46QO8JfviDn",
        "outputId": "2435eecb-c1e4-454a-8fc0-b1239b73b070"
      },
      "execution_count": 4,
      "outputs": [
        {
          "output_type": "error",
          "ename": "TypeError",
          "evalue": "'str' object does not support item assignment",
          "traceback": [
            "\u001b[0;31m---------------------------------------------------------------------------\u001b[0m",
            "\u001b[0;31mTypeError\u001b[0m                                 Traceback (most recent call last)",
            "\u001b[0;32m<ipython-input-4-5a72642d6f3f>\u001b[0m in \u001b[0;36m<cell line: 3>\u001b[0;34m()\u001b[0m\n\u001b[1;32m      1\u001b[0m \u001b[0;31m#Example\u001b[0m\u001b[0;34m\u001b[0m\u001b[0;34m\u001b[0m\u001b[0m\n\u001b[1;32m      2\u001b[0m \u001b[0mA\u001b[0m \u001b[0;34m=\u001b[0m \u001b[0;34m\"shrikant koulagi\"\u001b[0m\u001b[0;34m\u001b[0m\u001b[0;34m\u001b[0m\u001b[0m\n\u001b[0;32m----> 3\u001b[0;31m \u001b[0mA\u001b[0m\u001b[0;34m[\u001b[0m\u001b[0;36m2\u001b[0m\u001b[0;34m]\u001b[0m \u001b[0;34m=\u001b[0m \u001b[0;34m\"r\"\u001b[0m\u001b[0;34m\u001b[0m\u001b[0;34m\u001b[0m\u001b[0m\n\u001b[0m\u001b[1;32m      4\u001b[0m \u001b[0;31m#It will show an error\u001b[0m\u001b[0;34m\u001b[0m\u001b[0;34m\u001b[0m\u001b[0m\n",
            "\u001b[0;31mTypeError\u001b[0m: 'str' object does not support item assignment"
          ]
        }
      ]
    },
    {
      "cell_type": "markdown",
      "source": [
        "# Q4. Discuss the different types of operators in Python and provide examples of how they are used.\n",
        "\n",
        "**Answer:**\n",
        "Python operators are symbols that perform operations on variables and\n",
        "values. Python has a rich set of operators for different tasks like arithmetic,\n",
        "comparison, logical, assignment, membership, identity, and bitwise operators.\n",
        "\n",
        "1. **Arithmetic operators** : are used to perform basic mathematical operations like\n",
        "addition, subtraction, multiplication, etc"
      ],
      "metadata": {
        "id": "w53ghzZ0waH2"
      }
    },
    {
      "cell_type": "code",
      "source": [
        "#Example of Python Arithmetic Operators\n",
        "a = 5\n",
        "b = 3\n",
        "# Addition\n",
        "print(a + b)"
      ],
      "metadata": {
        "colab": {
          "base_uri": "https://localhost:8080/"
        },
        "id": "pOhWxXmPwN1i",
        "outputId": "49884b86-49a3-488c-991f-b393acb9ec0f"
      },
      "execution_count": null,
      "outputs": [
        {
          "output_type": "stream",
          "name": "stdout",
          "text": [
            "8\n"
          ]
        }
      ]
    },
    {
      "cell_type": "code",
      "source": [
        "# Subtraction\n",
        "print(a - b)"
      ],
      "metadata": {
        "colab": {
          "base_uri": "https://localhost:8080/"
        },
        "id": "2YyPjJIExGEx",
        "outputId": "70b3860d-ee2a-4e36-a3f7-4eb7fd4a8f91"
      },
      "execution_count": null,
      "outputs": [
        {
          "output_type": "stream",
          "name": "stdout",
          "text": [
            "2\n"
          ]
        }
      ]
    },
    {
      "cell_type": "code",
      "source": [
        "# Multiplication\n",
        "print(a * b)"
      ],
      "metadata": {
        "colab": {
          "base_uri": "https://localhost:8080/"
        },
        "id": "qsH7pvmSxNYg",
        "outputId": "c647d682-a71a-44a0-d7eb-a2e29a0e7c08"
      },
      "execution_count": null,
      "outputs": [
        {
          "output_type": "stream",
          "name": "stdout",
          "text": [
            "15\n"
          ]
        }
      ]
    },
    {
      "cell_type": "markdown",
      "source": [
        "2. **Comparison operators** : are used to compare two values. They return \"True\n",
        "and False” based on whether the comparison is true or not."
      ],
      "metadata": {
        "id": "jMAVOORnxTUv"
      }
    },
    {
      "cell_type": "code",
      "source": [
        "#Example\n",
        "a = 5\n",
        "b = 3\n",
        "#Condition - Equals to\n",
        "print(a==b)"
      ],
      "metadata": {
        "colab": {
          "base_uri": "https://localhost:8080/"
        },
        "id": "3SKg1tAwxQ6v",
        "outputId": "498d6f28-19b2-4b8c-deb5-d7bbd5bc7d02"
      },
      "execution_count": null,
      "outputs": [
        {
          "output_type": "stream",
          "name": "stdout",
          "text": [
            "False\n"
          ]
        }
      ]
    },
    {
      "cell_type": "code",
      "source": [
        "#Condition - Not Equals to\n",
        "print(a!=b)"
      ],
      "metadata": {
        "colab": {
          "base_uri": "https://localhost:8080/"
        },
        "id": "obxJzToCyNAW",
        "outputId": "52efae91-8299-473e-edad-450a1b037b7b"
      },
      "execution_count": null,
      "outputs": [
        {
          "output_type": "stream",
          "name": "stdout",
          "text": [
            "True\n"
          ]
        }
      ]
    },
    {
      "cell_type": "code",
      "source": [
        "#Condition - Greater Than\n",
        "print(a>b)"
      ],
      "metadata": {
        "colab": {
          "base_uri": "https://localhost:8080/"
        },
        "id": "fpZkZr1Oy3CN",
        "outputId": "59b406e1-ecdd-4bd1-f402-c48ebacd06b8"
      },
      "execution_count": null,
      "outputs": [
        {
          "output_type": "stream",
          "name": "stdout",
          "text": [
            "True\n"
          ]
        }
      ]
    },
    {
      "cell_type": "code",
      "source": [
        "#Condition - Less than\n",
        "print(a<b)"
      ],
      "metadata": {
        "colab": {
          "base_uri": "https://localhost:8080/"
        },
        "id": "6E4w-DYzz_Xf",
        "outputId": "1bfc903d-d3e3-4ca9-9c64-c567470da0ec"
      },
      "execution_count": null,
      "outputs": [
        {
          "output_type": "stream",
          "name": "stdout",
          "text": [
            "False\n"
          ]
        }
      ]
    },
    {
      "cell_type": "code",
      "source": [
        "#Condition - Greater than or equal to\n",
        "print(a>=b)"
      ],
      "metadata": {
        "colab": {
          "base_uri": "https://localhost:8080/"
        },
        "id": "2mNGvs5t0GHK",
        "outputId": "e731b8ed-3e6d-49b6-8add-54bbf9552063"
      },
      "execution_count": null,
      "outputs": [
        {
          "output_type": "stream",
          "name": "stdout",
          "text": [
            "True\n"
          ]
        }
      ]
    },
    {
      "cell_type": "code",
      "source": [
        "#Condition - Less than or equal to)\n",
        "print(a<=b)"
      ],
      "metadata": {
        "colab": {
          "base_uri": "https://localhost:8080/"
        },
        "id": "MVgD4ZH_0N46",
        "outputId": "5dfa996c-196a-4bfa-c9f8-29912f860b2e"
      },
      "execution_count": null,
      "outputs": [
        {
          "output_type": "stream",
          "name": "stdout",
          "text": [
            "False\n"
          ]
        }
      ]
    },
    {
      "cell_type": "markdown",
      "source": [
        "3. **Logical operators** : are used to combine conditional statements. They allow you to make decisions based on multiple conditions by using the (and, or, not) operator."
      ],
      "metadata": {
        "id": "-dD-RKt10Umw"
      }
    },
    {
      "cell_type": "code",
      "source": [
        "#And - Returns true if both statements are true\n",
        "#Example for And Condition\n",
        "x = 5\n",
        "y = 10\n",
        "if x > 3 and y < 15:\n",
        "  print(\"Both x and y are within the specified range\")"
      ],
      "metadata": {
        "colab": {
          "base_uri": "https://localhost:8080/"
        },
        "id": "3qAIKMEV0TK7",
        "outputId": "b791919a-6c54-4fad-c7e8-bfeb9d49041f"
      },
      "execution_count": null,
      "outputs": [
        {
          "output_type": "stream",
          "name": "stdout",
          "text": [
            "Both x and y are within the specified range\n"
          ]
        }
      ]
    },
    {
      "cell_type": "code",
      "source": [
        "#Or - Returns True if one of the statements is true\n",
        "#Example\n",
        "raining = False\n",
        "if not raining:\n",
        "  print(\"It's not raining. You can go outside\")\n",
        "else:\n",
        "  print(\"It is raining. Stay inside\")"
      ],
      "metadata": {
        "colab": {
          "base_uri": "https://localhost:8080/"
        },
        "id": "_oIsVJV81S1u",
        "outputId": "69d201bf-166f-4479-9084-70ae9f63fb95"
      },
      "execution_count": null,
      "outputs": [
        {
          "output_type": "stream",
          "name": "stdout",
          "text": [
            "It's not raining. You can go outside\n"
          ]
        }
      ]
    },
    {
      "cell_type": "markdown",
      "source": [
        "4. **Assignment operators** : are used to assign values to variables, They combine\n",
        "the assignment operation (=) with another operation."
      ],
      "metadata": {
        "id": "RG1Ouk7K2QHR"
      }
    },
    {
      "cell_type": "code",
      "source": [
        "#Example\n",
        "x = 15\n",
        "print(x)"
      ],
      "metadata": {
        "colab": {
          "base_uri": "https://localhost:8080/"
        },
        "id": "4-LRTlMh169g",
        "outputId": "09fe54cf-edb6-43f2-8794-94e559d6b84d"
      },
      "execution_count": null,
      "outputs": [
        {
          "output_type": "stream",
          "name": "stdout",
          "text": [
            "15\n"
          ]
        }
      ]
    },
    {
      "cell_type": "markdown",
      "source": [
        "5. **Membership operators** : are used to test if a sequence is presented in an\n",
        "object like a list, tuple, string, or dictionary."
      ],
      "metadata": {
        "id": "VPe6RHoU2r9r"
      }
    },
    {
      "cell_type": "code",
      "source": [
        "#Example\n",
        "name_list = ['shree', 'bob', 'pop', 'corn']\n",
        "if 'pop' in name_list:\n",
        "  print(\"pop is in the list.\")\n",
        "else:\n",
        "  print(\"pop is not in the list.\")"
      ],
      "metadata": {
        "colab": {
          "base_uri": "https://localhost:8080/"
        },
        "id": "j6vpIAQ_2omP",
        "outputId": "028980b2-9bb1-4a1f-9cd0-acf755578045"
      },
      "execution_count": 5,
      "outputs": [
        {
          "output_type": "stream",
          "name": "stdout",
          "text": [
            "pop is in the list.\n"
          ]
        }
      ]
    },
    {
      "cell_type": "markdown",
      "source": [
        "6. **Identity operators** : are used to compare the location of two objects or variables\n",
        "by using (is, is not)"
      ],
      "metadata": {
        "id": "T1NIAky-3M3N"
      }
    },
    {
      "cell_type": "code",
      "source": [
        "#Example\n",
        "#using is\n",
        "a = [10, 20, 30]\n",
        "z = a\n",
        "if a is z:\n",
        "  print(\"a and z refer to the same object.\")\n",
        "else:\n",
        "  print(\"a and z refer to different objects.\")"
      ],
      "metadata": {
        "colab": {
          "base_uri": "https://localhost:8080/"
        },
        "id": "UrMe1lOA22cS",
        "outputId": "f4de2290-7bcf-4091-e47b-4225383b3ad4"
      },
      "execution_count": null,
      "outputs": [
        {
          "output_type": "stream",
          "name": "stdout",
          "text": [
            "a and z refer to the same object.\n"
          ]
        }
      ]
    },
    {
      "cell_type": "code",
      "source": [
        "#using is not\n",
        "a = [10, 20, 30]\n",
        "z = a\n",
        "if a is not z:\n",
        "  print(\"a and z refer to the same object.\")\n",
        "else:\n",
        "  print(\"a and z refer to different objects.\")"
      ],
      "metadata": {
        "colab": {
          "base_uri": "https://localhost:8080/"
        },
        "id": "NC-gejKP3jPJ",
        "outputId": "51401054-0ada-4ae1-c2d6-e20e551fc81f"
      },
      "execution_count": null,
      "outputs": [
        {
          "output_type": "stream",
          "name": "stdout",
          "text": [
            "a and z refer to different objects.\n"
          ]
        }
      ]
    },
    {
      "cell_type": "markdown",
      "source": [
        "7. **Bitwise operators** : do operation at bit level by manipulating individual bits\n",
        "within integers. It is used to compare binary numbers by using the main\n",
        "bitwise operators in Python which are: AND (&), OR (|), XOR (^), NOT (~),\n",
        "Left Shift (<<), Right Shift (>>)"
      ],
      "metadata": {
        "id": "j2CKE_Zw4nAz"
      }
    },
    {
      "cell_type": "code",
      "source": [
        "# Example for Python Bitwise Operators\n",
        "#Bitwise AND ( & )\n",
        "a = 40 #binary of 40 = 101000\n",
        "b = 11 #binary of 11 = 001011\n",
        "result = a & b\n",
        "print(result)"
      ],
      "metadata": {
        "colab": {
          "base_uri": "https://localhost:8080/"
        },
        "id": "alU4_BCW4b4h",
        "outputId": "17945a72-5395-49c9-d28e-a1de39bd85f7"
      },
      "execution_count": null,
      "outputs": [
        {
          "output_type": "stream",
          "name": "stdout",
          "text": [
            "8\n"
          ]
        }
      ]
    },
    {
      "cell_type": "code",
      "source": [
        "#Bitwise OR ( | )\n",
        "a = 40 #binary of 40 = 101000\n",
        "b = 11 #binary of 11 = 001011\n",
        "result = a | b\n",
        "print(result)"
      ],
      "metadata": {
        "colab": {
          "base_uri": "https://localhost:8080/"
        },
        "id": "iY1lPwN45BZ1",
        "outputId": "88ffd379-2571-47ad-cd85-fe2d10a0bcad"
      },
      "execution_count": null,
      "outputs": [
        {
          "output_type": "stream",
          "name": "stdout",
          "text": [
            "43\n"
          ]
        }
      ]
    },
    {
      "cell_type": "code",
      "source": [
        "#Bitwise XOR (^)\n",
        "a = 40 #binary of 40 = 101000\n",
        "b = 11 #binary of 11 = 001011\n",
        "result = a ^ b\n",
        "print(result)"
      ],
      "metadata": {
        "colab": {
          "base_uri": "https://localhost:8080/"
        },
        "id": "sl10JC_H5D_e",
        "outputId": "7f5b2c76-7887-4630-9486-21c8bbd24168"
      },
      "execution_count": null,
      "outputs": [
        {
          "output_type": "stream",
          "name": "stdout",
          "text": [
            "35\n"
          ]
        }
      ]
    },
    {
      "cell_type": "code",
      "source": [
        "#Bitwise NOT (~)\n",
        "a = 40 #binary of 40 = 101000\n",
        "result = ~a\n",
        "print(result)"
      ],
      "metadata": {
        "colab": {
          "base_uri": "https://localhost:8080/"
        },
        "id": "Tnu_Pati5XVf",
        "outputId": "7947bb15-1c7d-4d59-a96f-5e096fe0c862"
      },
      "execution_count": null,
      "outputs": [
        {
          "output_type": "stream",
          "name": "stdout",
          "text": [
            "-41\n"
          ]
        }
      ]
    },
    {
      "cell_type": "code",
      "source": [
        "#Bitwise LEFT SHIFT (<<)\n",
        "a = 40 #binary of 40 = 101000\n",
        "result = a << 3\n",
        "print(result)"
      ],
      "metadata": {
        "colab": {
          "base_uri": "https://localhost:8080/"
        },
        "id": "Gviulw5B5ahz",
        "outputId": "b1c87796-b176-406a-e176-78365be6de43"
      },
      "execution_count": null,
      "outputs": [
        {
          "output_type": "stream",
          "name": "stdout",
          "text": [
            "320\n"
          ]
        }
      ]
    },
    {
      "cell_type": "code",
      "source": [
        "#Bitwise RIGHT SHIFT (>>)\n",
        "a = 40 #binary of 40 = 101000\n",
        "result = a >> 3\n",
        "print(result)"
      ],
      "metadata": {
        "colab": {
          "base_uri": "https://localhost:8080/"
        },
        "id": "ZBnBtMCc5dFX",
        "outputId": "4296d1be-860f-4577-eaf5-d9ac4423c1dd"
      },
      "execution_count": null,
      "outputs": [
        {
          "output_type": "stream",
          "name": "stdout",
          "text": [
            "5\n"
          ]
        }
      ]
    },
    {
      "cell_type": "markdown",
      "source": [
        "# Q5. Explain the concept of typecasting in Python with examples.\n",
        "\n",
        "**Answer:** Type casting in Python refers to converting one data type to another.In\n",
        "Python we can perform type casting using built-in functions like int(), float(), str(), and\n",
        "bool(). Here we will see the various techniques used for typecasting. There are\n",
        "mainly two types of Type Casting in Python:\n",
        "\n",
        "1. **Implicit Type Casting** (also called automatic type conversion)\n",
        "2. **Explicit Type Casting** (also called manual type conversion)\n",
        "\n",
        "In **Implicit type casting**, the programming language automatically converts\n",
        "data from one type to another if needed. For example, if you have an integer\n",
        "variable and you try to assign it to a float variable, the programming language\n",
        "will automatically convert the integer to a float without you having to do\n",
        "anything."
      ],
      "metadata": {
        "id": "7-qB4mA95jT5"
      }
    },
    {
      "cell_type": "code",
      "source": [
        "#Example for Implicit type casting\n",
        "a = 7 # Integer type\n",
        "b = 4.5 # Float type\n",
        "result = (a - b)\n",
        "print(result)\n",
        "print(type(result))"
      ],
      "metadata": {
        "colab": {
          "base_uri": "https://localhost:8080/"
        },
        "id": "1hudF_wg5goc",
        "outputId": "6bab6d8e-5655-4f57-8e1b-2892e45b4b17"
      },
      "execution_count": null,
      "outputs": [
        {
          "output_type": "stream",
          "name": "stdout",
          "text": [
            "2.5\n",
            "<class 'float'>\n"
          ]
        }
      ]
    },
    {
      "cell_type": "markdown",
      "source": [
        "In **Explicit type casting**, we manually convert a value from one type to another\n",
        "using Python's built-in functions. This is necessary when you want to convert\n",
        "data to a specific type for some operation, such as converting a float to an\n",
        "integer or string to an integer."
      ],
      "metadata": {
        "id": "keaZqp586e0k"
      }
    },
    {
      "cell_type": "code",
      "source": [
        "#Example 1\n",
        "# float to integer\n",
        "a = 7.9 #float value\n",
        "b = int(a) #changing value of ‘a’ to integer\n",
        "print(b)\n",
        "print(type(b))"
      ],
      "metadata": {
        "colab": {
          "base_uri": "https://localhost:8080/"
        },
        "id": "MHDq4pKQ6ITl",
        "outputId": "a1406a22-d65c-4fd8-ab7a-4207913e9633"
      },
      "execution_count": null,
      "outputs": [
        {
          "output_type": "stream",
          "name": "stdout",
          "text": [
            "7\n",
            "<class 'int'>\n"
          ]
        }
      ]
    },
    {
      "cell_type": "code",
      "source": [
        "#Example 2\n",
        "a = (\"132\") #string value\n",
        "a = int(a) #changing value of ‘a’ to integer\n",
        "print(a)\n",
        "print(type(a))"
      ],
      "metadata": {
        "colab": {
          "base_uri": "https://localhost:8080/"
        },
        "id": "RT3S1ltX6pQw",
        "outputId": "caf34173-b8fe-4a03-d02c-323b6b8bac67"
      },
      "execution_count": null,
      "outputs": [
        {
          "output_type": "stream",
          "name": "stdout",
          "text": [
            "132\n",
            "<class 'int'>\n"
          ]
        }
      ]
    },
    {
      "cell_type": "markdown",
      "source": [
        "# Q6. How do conditional statements work in Python? Illustrate with examples.\n",
        "\n",
        "**Answer:**\n",
        "\n",
        "**Conditional statements** in Python are used to execute certain blocks of\n",
        "code based on whether a condition is True or False.\n",
        "There are several types of conditional statements in python:\n",
        "\n",
        "1. If the simple code of block is to be performed if the condition holds then the if\n",
        "statement is used."
      ],
      "metadata": {
        "id": "53xrITNB61kh"
      }
    },
    {
      "cell_type": "code",
      "source": [
        "#Example\n",
        "weather = \"Party Vibes\"\n",
        "if weather == \"Party Vibes\":\n",
        "  print(\"Let's go to the party\")\n"
      ],
      "metadata": {
        "colab": {
          "base_uri": "https://localhost:8080/"
        },
        "id": "-CfEpKgs6xNE",
        "outputId": "8c84d437-b0ee-44fb-a45e-6f2577bab7e3"
      },
      "execution_count": null,
      "outputs": [
        {
          "output_type": "stream",
          "name": "stdout",
          "text": [
            "Let's go to the party\n"
          ]
        }
      ]
    },
    {
      "cell_type": "markdown",
      "source": [
        "2. **If statement** provides an alternative code block to execute when the condition\n",
        "is False then the If-else statement is used."
      ],
      "metadata": {
        "id": "5fLJun047nXT"
      }
    },
    {
      "cell_type": "code",
      "source": [
        "#Example\n",
        "weather = \"Party Vibes\"\n",
        "if weather == \"Beach Vibes\":\n",
        "  print(\"Let's go to the party\")\n",
        "else:\n",
        "  print(\"no party\")"
      ],
      "metadata": {
        "colab": {
          "base_uri": "https://localhost:8080/"
        },
        "id": "4D0DU9m-7jRL",
        "outputId": "4043533e-da35-4880-e07d-dc257fc30128"
      },
      "execution_count": null,
      "outputs": [
        {
          "output_type": "stream",
          "name": "stdout",
          "text": [
            "no party\n"
          ]
        }
      ]
    },
    {
      "cell_type": "markdown",
      "source": [
        "3. **If-elif-else statement** allows you to check multiple conditions sequentially.\n",
        "Once a condition is True, it will execute the corresponding block and skip the\n",
        "remaining conditions."
      ],
      "metadata": {
        "id": "SIbki4Gq8EFy"
      }
    },
    {
      "cell_type": "code",
      "source": [
        "#example\n",
        "age = 45\n",
        "if age < 18:\n",
        "  print(\"you are a minor and not eligible to vote\")\n",
        "elif 18 <age < 65:\n",
        "  print(\"you are an adult and eligible to vote\")\n",
        "else:\n",
        "  print(\"you are a senior citizen, Thank you for participating\")"
      ],
      "metadata": {
        "colab": {
          "base_uri": "https://localhost:8080/"
        },
        "id": "wuRdSAA879kv",
        "outputId": "326b840f-9f24-4bf1-fa96-f38d840836e8"
      },
      "execution_count": null,
      "outputs": [
        {
          "output_type": "stream",
          "name": "stdout",
          "text": [
            "you are an adult and eligible to vote\n"
          ]
        }
      ]
    },
    {
      "cell_type": "markdown",
      "source": [
        "4. **Nested if-else statement** means we can use an if-else statement inside\n",
        "another if statement. Or in simple words first, there is an outer if statement,\n",
        "and inside it another if – else statement is present."
      ],
      "metadata": {
        "id": "8ZnNorJo8z95"
      }
    },
    {
      "cell_type": "code",
      "source": [
        "#example\n",
        "membership = True\n",
        "total_purchase = 1200\n",
        "if membership:\n",
        "  if total_purchase > 800:\n",
        "      print(\"You get a 20% discount.\")\n",
        "  elif total_purchase > 500:\n",
        "      print(\"You get a 10% discount.\")\n",
        "  else:\n",
        "      print(\"You get a 5% discount.\")\n",
        "else:\n",
        "  if total_purchase > 800:\n",
        "    print(\"You get a 10% discount.\")\n",
        "  else:\n",
        "    print(\"No discount available.\")"
      ],
      "metadata": {
        "colab": {
          "base_uri": "https://localhost:8080/"
        },
        "id": "j0FaIPsQ8q08",
        "outputId": "692c9d1f-c247-4bdf-a4ea-679a1c670198"
      },
      "execution_count": null,
      "outputs": [
        {
          "output_type": "stream",
          "name": "stdout",
          "text": [
            "You get a 20% discount.\n"
          ]
        }
      ]
    },
    {
      "cell_type": "markdown",
      "source": [
        "# Q7. Describe the different types of loops in Python and their use cases with examples.\n",
        "\n",
        "**Answer:**\n",
        "\n",
        "The different types of loops in Python are For loop, while loop and nested\n",
        "loop.\n",
        "\n",
        "1. The **For loop** in Python is used to iterate over a sequence (such as a list,\n",
        "tuple, dictionary, string, or range) and executes a block of code for each item\n",
        "in the sequence."
      ],
      "metadata": {
        "id": "0CDwPj4U9qeY"
      }
    },
    {
      "cell_type": "code",
      "source": [
        "#Example\n",
        "#Iterate through a list\n",
        "Name_list = ['shree', 'kant','mallikarjun', 'tom']\n",
        "for name in Name_list:\n",
        "  print(name)\n",
        "#Iterate through a range of number\n",
        "for x in range(5):\n",
        "  print(x)"
      ],
      "metadata": {
        "colab": {
          "base_uri": "https://localhost:8080/"
        },
        "id": "cd9SvfrT9nOY",
        "outputId": "137a4ae6-119a-4da3-895b-ed78396532c8"
      },
      "execution_count": 6,
      "outputs": [
        {
          "output_type": "stream",
          "name": "stdout",
          "text": [
            "shree\n",
            "kant\n",
            "mallikarjun\n",
            "tom\n",
            "0\n",
            "1\n",
            "2\n",
            "3\n",
            "4\n"
          ]
        }
      ]
    },
    {
      "cell_type": "markdown",
      "source": [
        "2. The **while loop** in python repeatedly executes a block of code as long as the\n",
        "given condition is true. It’s especially useful when you don’t know how many\n",
        "times you need to loop, but you know the condition that will stop the loop."
      ],
      "metadata": {
        "id": "7DvoKF1N-SA7"
      }
    },
    {
      "cell_type": "code",
      "source": [
        "#Example\n",
        "count = 5\n",
        "while count < 10:\n",
        "  print(count)\n",
        "  count += 1 # Increment the count by 1 each time"
      ],
      "metadata": {
        "colab": {
          "base_uri": "https://localhost:8080/"
        },
        "id": "MfZ2RVoP-GBA",
        "outputId": "8946d587-33f8-4089-e4aa-d3d1fc2c6d3b"
      },
      "execution_count": null,
      "outputs": [
        {
          "output_type": "stream",
          "name": "stdout",
          "text": [
            "5\n",
            "6\n",
            "7\n",
            "8\n",
            "9\n"
          ]
        }
      ]
    },
    {
      "cell_type": "markdown",
      "source": [
        "3. A **nested loop** is a loop inside another loop. In Python, you can have a for loop\n",
        "or while loop inside another for or while loop. Nested loops are often used to\n",
        "process multidimensional data structures (like matrices) or when you need to\n",
        "perform a series of operations in a series of iterations."
      ],
      "metadata": {
        "id": "HScCxMtL-bQb"
      }
    },
    {
      "cell_type": "code",
      "source": [
        "#Example\n",
        "x = [\"pwskills\", \"python\"]\n",
        "num = [1,2]\n",
        "for i in x:\n",
        "  for j in num:\n",
        "    print(i,j)"
      ],
      "metadata": {
        "colab": {
          "base_uri": "https://localhost:8080/"
        },
        "id": "ALKdT932-ZwD",
        "outputId": "8b21efa0-cc03-4743-8a49-4d55fa8faf68"
      },
      "execution_count": null,
      "outputs": [
        {
          "output_type": "stream",
          "name": "stdout",
          "text": [
            "pwskills 1\n",
            "pwskills 2\n",
            "python 1\n",
            "python 2\n"
          ]
        }
      ]
    }
  ]
}